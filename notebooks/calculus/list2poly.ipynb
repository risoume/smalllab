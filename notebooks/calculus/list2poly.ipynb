{
 "cells": [
  {
   "cell_type": "markdown",
   "id": "b1889850-4d99-4861-99af-757f1e038690",
   "metadata": {},
   "source": [
    "# List to Polynomial"
   ]
  },
  {
   "cell_type": "markdown",
   "id": "303dde08-6cae-48c5-b416-aec043d966be",
   "metadata": {},
   "source": [
    "Store the coefficients of a polynomial in a list where the first item in the list is the coefficient of highest degree term, and so on.\n",
    "\n",
    "The `list2poly` function takes a list of coefficients of polynomial and returns a function that is same as the polynomial."
   ]
  },
  {
   "cell_type": "code",
   "execution_count": 1,
   "id": "c271031f-2389-4640-a509-1a0bc74c1fdd",
   "metadata": {},
   "outputs": [],
   "source": [
    "def list2poly(L):\n",
    "    \"\"\"Return a polynomial function with coefficient in L.\n",
    "    The coefficient of highest-degree term is the first item in list.\n",
    "\n",
    "    Parameters\n",
    "    ----------\n",
    "    L : list of integer or float\n",
    "    \"\"\"\n",
    "    if len(L) == 0:\n",
    "        raise ValueError(\"the list cannot be empty\")\n",
    "        \n",
    "    def p(x) -> float:\n",
    "        deg = len(L) - 1 # the degree of polynomial\n",
    "        y = 0.0\n",
    "        for j, coef in enumerate(L):\n",
    "            y += x**(deg-j) * coef\n",
    "        return y\n",
    "    return p"
   ]
  },
  {
   "cell_type": "code",
   "execution_count": 2,
   "id": "4a627ec1-f734-48ba-9d99-eba40d20a0f6",
   "metadata": {},
   "outputs": [
    {
     "data": {
      "text/plain": [
       "7.0"
      ]
     },
     "execution_count": 2,
     "metadata": {},
     "output_type": "execute_result"
    }
   ],
   "source": [
    "L = [1, 1, 1]\n",
    "f = list2poly(L)\n",
    "f(2)"
   ]
  },
  {
   "cell_type": "code",
   "execution_count": 3,
   "id": "08fd1e18-8323-40bd-9258-2d2c45f79808",
   "metadata": {},
   "outputs": [
    {
     "data": {
      "text/plain": [
       "True"
      ]
     },
     "execution_count": 3,
     "metadata": {},
     "output_type": "execute_result"
    }
   ],
   "source": [
    "f1 = lambda x: (x-1)**2\n",
    "L = [1, -2, 1]\n",
    "f2 = list2poly(L)\n",
    "f1(4.5) == f2(4.5)"
   ]
  },
  {
   "cell_type": "code",
   "execution_count": 4,
   "id": "79018548-83ee-45b2-9fa8-47636c3626da",
   "metadata": {},
   "outputs": [],
   "source": [
    "# The empty list will raise an exception\n",
    "#list2poly([])"
   ]
  },
  {
   "cell_type": "code",
   "execution_count": 5,
   "id": "a667b59c-490f-44d1-b441-e292868bc73d",
   "metadata": {},
   "outputs": [],
   "source": [
    "def format_poly(deg: int, coef, leading=False) -> str:\n",
    "    \"\"\"Return formatted string for a polynomial term.\n",
    "    \n",
    "    Parameters\n",
    "    ----------\n",
    "    deg : int\n",
    "        The power of coefficient\n",
    "    coef : int or float\n",
    "    leading : bool, default=False\n",
    "        Whether or not this coefficient is a leading coefficient\n",
    "    \"\"\"\n",
    "    if deg < 0:\n",
    "        raise ValueError(\"degree must be nonnegative\")\n",
    "\n",
    "    # If not a zero polynomial, don't display 0\n",
    "    if coef == 0:\n",
    "        if leading and deg == 0:\n",
    "            return '0'\n",
    "        return ''\n",
    "\n",
    "    if deg == 0:\n",
    "        if leading:\n",
    "            return f\"{coef}\"\n",
    "        if coef < 0:\n",
    "            return f\"{coef}\"\n",
    "        return f\"+{coef}\"\n",
    "\n",
    "    # Do not show the power if deg = 1\n",
    "    if deg == 1:\n",
    "        if leading:\n",
    "            return f\"{coef}x\"\n",
    "        if coef < 0:\n",
    "            return f\"{coef}x\"\n",
    "        return f\"+{coef}x\"\n",
    "\n",
    "    # For degree > 1\n",
    "    if leading:\n",
    "        return f\"{coef}x^{deg}\"\n",
    "    if coef < 0:\n",
    "        return f\"{coef}x^{deg}\"\n",
    "    return f\"+{coef}x^{deg}\""
   ]
  },
  {
   "cell_type": "code",
   "execution_count": 6,
   "id": "3eb64c6a-f5e3-44f6-81ff-4dbf517c8499",
   "metadata": {},
   "outputs": [
    {
     "name": "stdout",
     "output_type": "stream",
     "text": [
      "\n",
      "\n",
      "0\n",
      "+2\n",
      "2\n",
      "-2\n"
     ]
    }
   ],
   "source": [
    "print(format_poly(0, 0))\n",
    "print(format_poly(1, 0, True))\n",
    "print(format_poly(0, 0, True))\n",
    "print(format_poly(0, 2))\n",
    "print(format_poly(0, 2, True))\n",
    "print(format_poly(0, -2))"
   ]
  },
  {
   "cell_type": "code",
   "execution_count": 7,
   "id": "7737634a-45cf-4d68-a0d2-299e5720638a",
   "metadata": {},
   "outputs": [
    {
     "name": "stdout",
     "output_type": "stream",
     "text": [
      "\n",
      "+2x\n",
      "2x\n",
      "-2x\n"
     ]
    }
   ],
   "source": [
    "print(format_poly(1, 0))\n",
    "print(format_poly(1, 2))\n",
    "print(format_poly(1, 2, True))\n",
    "print(format_poly(1, -2))"
   ]
  },
  {
   "cell_type": "code",
   "execution_count": 8,
   "id": "dff93236-a5cf-49d5-9cee-d5f413b93864",
   "metadata": {},
   "outputs": [
    {
     "name": "stdout",
     "output_type": "stream",
     "text": [
      "\n",
      "+2x^2\n",
      "2x^2\n",
      "-2x^2\n"
     ]
    }
   ],
   "source": [
    "print(format_poly(2, 0))\n",
    "print(format_poly(2, 2))\n",
    "print(format_poly(2, 2, True))\n",
    "print(format_poly(2, -2))"
   ]
  },
  {
   "cell_type": "code",
   "execution_count": 9,
   "id": "dcc4b4c8-4f8b-4850-9795-36fa3b207c72",
   "metadata": {},
   "outputs": [],
   "source": [
    "# Negative degree will raise an exception\n",
    "#format_poly(-1, 3)"
   ]
  },
  {
   "cell_type": "code",
   "execution_count": 10,
   "id": "ebc927ff-ab70-4deb-bcb3-33932338214b",
   "metadata": {},
   "outputs": [],
   "source": [
    "def list2polystr(L_: list) -> str:\n",
    "    \"\"\"Return a string representing polynomial function with coefficient in L_.\n",
    "    The coefficient of highest-degree term is the first item in list.\n",
    "\n",
    "    Parameters\n",
    "    ----------\n",
    "    L_ : list of integer or float\n",
    "    \"\"\"\n",
    "    L = L_.copy()\n",
    "    \n",
    "    if len(L) == 0:\n",
    "        return ''\n",
    "    if len(L) == 1:\n",
    "        return str(L[0])\n",
    "    \n",
    "    deg = len(L) - 1\n",
    "    L[0] = format_poly(deg, L[0], True)\n",
    "    for j in range(1, deg+1):\n",
    "        L[j] = format_poly(deg-j, L[j])\n",
    "\n",
    "    return ''.join(L)"
   ]
  },
  {
   "cell_type": "code",
   "execution_count": 11,
   "id": "a8139b3d-ef96-46e8-8046-4e1833c4bf41",
   "metadata": {},
   "outputs": [
    {
     "name": "stdout",
     "output_type": "stream",
     "text": [
      "\n",
      "0\n",
      "-1.3\n"
     ]
    }
   ],
   "source": [
    "print(list2polystr([]))\n",
    "print(list2polystr([0]))\n",
    "print(list2polystr([-1.3]))"
   ]
  },
  {
   "cell_type": "code",
   "execution_count": 12,
   "id": "5b47c02e-b1f3-45ee-8b08-e3b52ddfbdc2",
   "metadata": {},
   "outputs": [
    {
     "name": "stdout",
     "output_type": "stream",
     "text": [
      "1x+1\n",
      "-2x-2\n",
      "2x\n"
     ]
    }
   ],
   "source": [
    "print(list2polystr([1, 1]))\n",
    "print(list2polystr([-2, -2]))\n",
    "print(list2polystr([2, 0]))"
   ]
  },
  {
   "cell_type": "code",
   "execution_count": 13,
   "id": "8df8b071-9ad8-4271-b856-5ef64baa48c6",
   "metadata": {},
   "outputs": [
    {
     "name": "stdout",
     "output_type": "stream",
     "text": [
      "3x^2-2x+1\n",
      "-3x^6+2x^3-1x^2\n"
     ]
    }
   ],
   "source": [
    "print(list2polystr([3, -2, 1]))\n",
    "print(list2polystr([-3, 0, 0, 2, -1, 0, 0]))"
   ]
  },
  {
   "cell_type": "code",
   "execution_count": null,
   "id": "93744015-bfb0-49fb-af97-7887acc7d7e7",
   "metadata": {},
   "outputs": [],
   "source": []
  }
 ],
 "metadata": {
  "kernelspec": {
   "display_name": "Python 3 (ipykernel)",
   "language": "python",
   "name": "python3"
  },
  "language_info": {
   "codemirror_mode": {
    "name": "ipython",
    "version": 3
   },
   "file_extension": ".py",
   "mimetype": "text/x-python",
   "name": "python",
   "nbconvert_exporter": "python",
   "pygments_lexer": "ipython3",
   "version": "3.11.6"
  }
 },
 "nbformat": 4,
 "nbformat_minor": 5
}
