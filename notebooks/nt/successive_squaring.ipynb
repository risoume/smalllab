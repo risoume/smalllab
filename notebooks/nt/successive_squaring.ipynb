{
 "cells": [
  {
   "cell_type": "markdown",
   "id": "cd1aefe7-de95-40ee-9fde-7925386a2f9e",
   "metadata": {},
   "source": [
    "# Powers Modulo $m$ and Successive Squaring"
   ]
  },
  {
   "cell_type": "code",
   "execution_count": 1,
   "id": "baa26878-217f-4ad2-941d-2e8124bda12a",
   "metadata": {},
   "outputs": [],
   "source": [
    "import lib_path\n",
    "from smalllab.nt import *\n",
    "from smalllab.algebra import *\n",
    "from random import randint"
   ]
  },
  {
   "cell_type": "markdown",
   "id": "d59cb042-f4ff-4d4a-9043-cbf77ae4cdd8",
   "metadata": {},
   "source": [
    "**Problem:**\n",
    "> Compute $7^{327} \\pmod{853}$"
   ]
  },
  {
   "cell_type": "code",
   "execution_count": 2,
   "id": "4c39be99-60ef-45a7-82af-ee832a542200",
   "metadata": {},
   "outputs": [],
   "source": [
    "k, m = 327, 853"
   ]
  },
  {
   "cell_type": "code",
   "execution_count": 3,
   "id": "f532d3a6-4103-4e28-b04a-8856650dce99",
   "metadata": {},
   "outputs": [
    {
     "data": {
      "text/plain": [
       "7"
      ]
     },
     "execution_count": 3,
     "metadata": {},
     "output_type": "execute_result"
    }
   ],
   "source": [
    "7*1 % m"
   ]
  },
  {
   "cell_type": "code",
   "execution_count": 4,
   "id": "a30d1c6c-636e-462a-a475-a651c11feeea",
   "metadata": {},
   "outputs": [
    {
     "data": {
      "text/plain": [
       "49"
      ]
     },
     "execution_count": 4,
     "metadata": {},
     "output_type": "execute_result"
    }
   ],
   "source": [
    "7**2 % m"
   ]
  },
  {
   "cell_type": "code",
   "execution_count": 5,
   "id": "1cfde58f-5ef0-48c2-9ed4-ff893ba85c48",
   "metadata": {},
   "outputs": [
    {
     "data": {
      "text/plain": [
       "695"
      ]
     },
     "execution_count": 5,
     "metadata": {},
     "output_type": "execute_result"
    }
   ],
   "source": [
    "# 7**4 % m\n",
    "49**2 % m"
   ]
  },
  {
   "cell_type": "code",
   "execution_count": 6,
   "id": "7ee6b87d-0122-46bc-afea-50a101344cd8",
   "metadata": {},
   "outputs": [
    {
     "data": {
      "text/plain": [
       "227"
      ]
     },
     "execution_count": 6,
     "metadata": {},
     "output_type": "execute_result"
    }
   ],
   "source": [
    "# 7**8 % m\n",
    "695**2 % m"
   ]
  },
  {
   "cell_type": "code",
   "execution_count": 7,
   "id": "3b656078-76e6-4dfc-a011-0f19fd82f854",
   "metadata": {},
   "outputs": [
    {
     "data": {
      "text/plain": [
       "349"
      ]
     },
     "execution_count": 7,
     "metadata": {},
     "output_type": "execute_result"
    }
   ],
   "source": [
    "# 7**16 % m\n",
    "227**2 % m"
   ]
  },
  {
   "cell_type": "code",
   "execution_count": 8,
   "id": "7c77486e-5eab-4f8c-af00-882eb57e8905",
   "metadata": {},
   "outputs": [
    {
     "data": {
      "text/plain": [
       "675"
      ]
     },
     "execution_count": 8,
     "metadata": {},
     "output_type": "execute_result"
    }
   ],
   "source": [
    "# 7**32 % m\n",
    "349**2 % m"
   ]
  },
  {
   "cell_type": "code",
   "execution_count": 9,
   "id": "d6dec64b-e67a-4505-a74d-0be93b5ef066",
   "metadata": {},
   "outputs": [
    {
     "data": {
      "text/plain": [
       "123"
      ]
     },
     "execution_count": 9,
     "metadata": {},
     "output_type": "execute_result"
    }
   ],
   "source": [
    "# 7**64 % m\n",
    "675**2 % m"
   ]
  },
  {
   "cell_type": "code",
   "execution_count": 10,
   "id": "7d5501ca-c188-415c-a49f-715b6be3e940",
   "metadata": {},
   "outputs": [
    {
     "data": {
      "text/plain": [
       "628"
      ]
     },
     "execution_count": 10,
     "metadata": {},
     "output_type": "execute_result"
    }
   ],
   "source": [
    "# 7**128 % m\n",
    "123**2 % m"
   ]
  },
  {
   "cell_type": "code",
   "execution_count": 11,
   "id": "9baa8202-351c-46ec-8e31-a3a5e1a30690",
   "metadata": {},
   "outputs": [
    {
     "data": {
      "text/plain": [
       "298"
      ]
     },
     "execution_count": 11,
     "metadata": {},
     "output_type": "execute_result"
    }
   ],
   "source": [
    "# 7**256 % m\n",
    "628**2 % m"
   ]
  },
  {
   "cell_type": "markdown",
   "id": "af5c2693-4b47-4a82-b6b0-f7e1e71a15b4",
   "metadata": {},
   "source": [
    "### Function"
   ]
  },
  {
   "cell_type": "code",
   "execution_count": 12,
   "id": "aa217dd8-de26-4ae4-839f-deadeb168c41",
   "metadata": {},
   "outputs": [],
   "source": [
    "def power_mod(a: int, k: int, m: int) -> int:\n",
    "    \"\"\"Compute a^k mod m by successive squaring.\"\"\"\n",
    "    b = 1\n",
    "    while k >= 1:\n",
    "        if k % 2 == 1:\n",
    "            b = b*a % m\n",
    "        a = a**2 % m\n",
    "        k //= 2\n",
    "    return b"
   ]
  },
  {
   "cell_type": "code",
   "execution_count": 13,
   "id": "329e6c23-2b68-49b7-9b2c-c397af69c34e",
   "metadata": {},
   "outputs": [
    {
     "data": {
      "text/plain": [
       "286"
      ]
     },
     "execution_count": 13,
     "metadata": {},
     "output_type": "execute_result"
    }
   ],
   "source": [
    "power_mod(7, k, m) # 286"
   ]
  },
  {
   "cell_type": "code",
   "execution_count": 14,
   "id": "2e5f01f3-9898-4852-82a0-85d2b8ab86b2",
   "metadata": {},
   "outputs": [
    {
     "data": {
      "text/plain": [
       "280196559097287"
      ]
     },
     "execution_count": 14,
     "metadata": {},
     "output_type": "execute_result"
    }
   ],
   "source": [
    "power_mod(2, 283976710803262, 283976710803263) # 280196559097287"
   ]
  },
  {
   "cell_type": "code",
   "execution_count": 15,
   "id": "3f7eac2a-5a2d-40e4-8e17-6c4f326fce94",
   "metadata": {},
   "outputs": [
    {
     "data": {
      "text/plain": [
       "1"
      ]
     },
     "execution_count": 15,
     "metadata": {},
     "output_type": "execute_result"
    }
   ],
   "source": [
    "power_mod(3, 630249099480, 630249099481) # 1"
   ]
  },
  {
   "cell_type": "code",
   "execution_count": 16,
   "id": "55c75041-5c1a-44a2-acc4-f3d72631807b",
   "metadata": {},
   "outputs": [
    {
     "name": "stdout",
     "output_type": "stream",
     "text": [
      "Help on function decimal2binary in module smalllab.nt:\n",
      "\n",
      "decimal2binary(n: int) -> str\n",
      "    Return a string consisting digits of binary expansion of n.\n",
      "\n"
     ]
    }
   ],
   "source": [
    "help(decimal2binary)"
   ]
  },
  {
   "cell_type": "code",
   "execution_count": 17,
   "id": "80200562-1dc6-4f79-888d-46bfe34b6577",
   "metadata": {},
   "outputs": [
    {
     "data": {
      "text/plain": [
       "'101000111'"
      ]
     },
     "execution_count": 17,
     "metadata": {},
     "output_type": "execute_result"
    }
   ],
   "source": [
    "b = decimal2binary(k)\n",
    "b"
   ]
  },
  {
   "cell_type": "code",
   "execution_count": 18,
   "id": "54c983c4-78b3-460d-9c49-a5b84a9775fc",
   "metadata": {},
   "outputs": [
    {
     "data": {
      "text/plain": [
       "[256, 0, 64, 0, 0, 0, 4, 2, 1]"
      ]
     },
     "execution_count": 18,
     "metadata": {},
     "output_type": "execute_result"
    }
   ],
   "source": [
    "powers = []\n",
    "for j in range(len(b)):\n",
    "    powers.append(2**(len(b)-1-j) * int(b[j]))\n",
    "powers"
   ]
  },
  {
   "cell_type": "code",
   "execution_count": 19,
   "id": "2baa6594-c254-4cbd-bf92-6a9e28ba9bac",
   "metadata": {},
   "outputs": [
    {
     "data": {
      "text/plain": [
       "[298, 1, 123, 1, 1, 1, 695, 49, 7]"
      ]
     },
     "execution_count": 19,
     "metadata": {},
     "output_type": "execute_result"
    }
   ],
   "source": [
    "A = []\n",
    "for j in powers:\n",
    "    mod = power_mod(7, j, m)\n",
    "    A.append(mod)\n",
    "A"
   ]
  },
  {
   "cell_type": "code",
   "execution_count": 20,
   "id": "6ffa9b61-8fbf-45fd-ac5a-f10932a838fb",
   "metadata": {},
   "outputs": [
    {
     "data": {
      "text/plain": [
       "286"
      ]
     },
     "execution_count": 20,
     "metadata": {},
     "output_type": "execute_result"
    }
   ],
   "source": [
    "S = 1\n",
    "for j in A:\n",
    "    S = S*j % m\n",
    "S"
   ]
  },
  {
   "cell_type": "markdown",
   "id": "2e09f0f6-4b90-40b6-a7b2-fd9a7f42c701",
   "metadata": {},
   "source": [
    "## Fermat's Little Theorem and Carmichael Numbers"
   ]
  },
  {
   "cell_type": "markdown",
   "id": "567f7fa2-7e60-4678-a16e-8f009a188693",
   "metadata": {},
   "source": [
    "> If $\\gcd(a,m)=1$ and if $a^{m-1} \\pmod{m}$ not equal to $1$, then $m$ is composite."
   ]
  },
  {
   "cell_type": "code",
   "execution_count": 21,
   "id": "7c8b3b4e-6e97-4888-832d-2f5447cfe1e1",
   "metadata": {},
   "outputs": [
    {
     "data": {
      "text/plain": [
       "4"
      ]
     },
     "execution_count": 21,
     "metadata": {},
     "output_type": "execute_result"
    }
   ],
   "source": [
    "2**14 % 15"
   ]
  },
  {
   "cell_type": "markdown",
   "id": "f96cc6f7-9af2-4432-ad6b-08dd6d9d06e9",
   "metadata": {},
   "source": [
    "Then $15$ is composite."
   ]
  },
  {
   "cell_type": "markdown",
   "id": "278bbbd2-c1ef-4d71-9d15-b57c8d83100a",
   "metadata": {},
   "source": [
    "### Carmichael numbers"
   ]
  },
  {
   "cell_type": "markdown",
   "id": "ba661259-6174-42ff-9e2c-4a7bc8404e1a",
   "metadata": {},
   "source": [
    "There exist composite numbers $m$ such that $a^{m-1}\\equiv 1\\pmod{m}$ for all $a$'s with $\\gcd(a,m)=1$.\n",
    "\n",
    "Such $m$'s are called **Carmichael numbers**. The smallest is $561$."
   ]
  },
  {
   "cell_type": "code",
   "execution_count": 22,
   "id": "29408865-9d41-43e1-ade1-7f02d7c879e6",
   "metadata": {},
   "outputs": [
    {
     "data": {
      "text/plain": [
       "{3: 1, 11: 1, 17: 1}"
      ]
     },
     "execution_count": 22,
     "metadata": {},
     "output_type": "execute_result"
    }
   ],
   "source": [
    "m = 561\n",
    "decompose(m)"
   ]
  },
  {
   "cell_type": "code",
   "execution_count": 23,
   "id": "84563ebc-8c57-4de6-b7ba-e3c5150d68f8",
   "metadata": {},
   "outputs": [
    {
     "name": "stdout",
     "output_type": "stream",
     "text": [
      "[1, 2, 4, 5, 7, 8, 10, 13, 14, 16, 19, 20, 23, 25, 26, 28, 29, 31, 32, 35, 37, 38, 40, 41, 43, 46, 47, 49, 50, 52, 53, 56, 58, 59, 61, 62, 64, 65, 67, 70, 71, 73, 74, 76, 79, 80, 82, 83, 86, 89, 91, 92, 94, 95, 97, 98, 100, 101, 103, 104, 106, 107, 109, 112, 113, 115, 116, 118, 122, 124, 125, 127, 128, 130, 131, 133, 134, 137, 139, 140, 142, 145, 146, 148, 149, 151, 152, 155, 157, 158, 160, 161, 163, 164, 166, 167, 169, 172, 173, 175, 178, 179, 181, 182, 184, 185, 188, 190, 191, 193, 194, 196, 197, 199, 200, 202, 203, 205, 206, 208, 211, 212, 214, 215, 217, 218, 223, 224, 226, 227, 229, 230, 232, 233, 235, 236, 239, 241, 244, 245, 247, 248, 250, 251, 254, 256, 257, 259, 260, 262, 263, 265, 266, 268, 269, 271, 274, 277, 278, 280, 281, 283, 284, 287, 290, 292, 293, 295, 296, 298, 299, 301, 302, 304, 305, 307, 310, 311, 313, 314, 316, 317, 320, 322, 325, 326, 328, 329, 331, 332, 334, 335, 337, 338, 343, 344, 346, 347, 349, 350, 353, 355, 356, 358, 359, 361, 362, 364, 365, 367, 368, 370, 371, 373, 376, 377, 379, 380, 382, 383, 386, 388, 389, 392, 394, 395, 397, 398, 400, 401, 403, 404, 406, 409, 410, 412, 413, 415, 416, 419, 421, 422, 424, 427, 428, 430, 431, 433, 434, 436, 437, 439, 443, 445, 446, 448, 449, 452, 454, 455, 457, 458, 460, 461, 463, 464, 466, 467, 469, 470, 472, 475, 478, 479, 481, 482, 485, 487, 488, 490, 491, 494, 496, 497, 499, 500, 502, 503, 505, 508, 509, 511, 512, 514, 515, 518, 520, 521, 523, 524, 526, 529, 530, 532, 533, 535, 536, 538, 541, 542, 545, 547, 548, 551, 553, 554, 556, 557, 559, 560]\n"
     ]
    }
   ],
   "source": [
    "U = units(m)\n",
    "print(U)"
   ]
  },
  {
   "cell_type": "code",
   "execution_count": 24,
   "id": "17293c17-09d0-46f9-96a5-fb707a5bff01",
   "metadata": {},
   "outputs": [
    {
     "data": {
      "text/plain": [
       "True"
      ]
     },
     "execution_count": 24,
     "metadata": {},
     "output_type": "execute_result"
    }
   ],
   "source": [
    "check = True\n",
    "for u in U:\n",
    "    if power_mod(u, m-1, m) != 1:\n",
    "        check = False\n",
    "check"
   ]
  },
  {
   "cell_type": "markdown",
   "id": "819b5d86-26de-4912-8b4a-ff843251797f",
   "metadata": {},
   "source": [
    "### Find the smallest Carmichael numbers"
   ]
  },
  {
   "cell_type": "code",
   "execution_count": 25,
   "id": "6cc2fe35-5ed2-44bb-92b8-f3221f1333a9",
   "metadata": {},
   "outputs": [
    {
     "data": {
      "text/plain": [
       "561"
      ]
     },
     "execution_count": 25,
     "metadata": {},
     "output_type": "execute_result"
    }
   ],
   "source": [
    "found = False\n",
    "j = 4\n",
    "while not found:\n",
    "    if is_prime(j):\n",
    "        j += 1\n",
    "        continue\n",
    "        \n",
    "    U = units(j)\n",
    "    check = True\n",
    "    for u in U:\n",
    "        if power_mod(u, j-1, j) != 1:\n",
    "            check = False\n",
    "            break\n",
    "            \n",
    "    if check:\n",
    "        found = True\n",
    "    j += 1\n",
    "j-1"
   ]
  },
  {
   "cell_type": "markdown",
   "id": "b9d45bc6-2ce0-470a-b279-ec151a82be11",
   "metadata": {},
   "source": [
    "**Exercise 4**\n",
    "\n",
    "Write a program to check if a number $n$ is composite or probably prime as follows.\n",
    "Choose $10$ random number $a_1,\\ldots,a_{10}$ between $2$ and $n-1$ and compute $a_i^{n-1}\\pmod{n}$.\n",
    "If $a_i^{n-1} \\not\\equiv  1\\pmod{n}$ for any $a_i$, return the message \"$n$ is composite\".\n",
    "If $a_i^{n-1} \\equiv 1 \\pmod{n}$ for all the $a_i$'s, return the message \"$n$ is probably prime\"."
   ]
  },
  {
   "cell_type": "code",
   "execution_count": 26,
   "id": "85dcc160-3ce6-46a4-b789-58d46649691d",
   "metadata": {},
   "outputs": [
    {
     "name": "stdout",
     "output_type": "stream",
     "text": [
      "Help on method randint in module random:\n",
      "\n",
      "randint(a, b) method of random.Random instance\n",
      "    Return random integer in range [a, b], including both end points.\n",
      "\n"
     ]
    }
   ],
   "source": [
    "help(randint)"
   ]
  },
  {
   "cell_type": "code",
   "execution_count": 27,
   "id": "6e92081c-167f-4b49-85a8-3dbf36218129",
   "metadata": {},
   "outputs": [
    {
     "name": "stdout",
     "output_type": "stream",
     "text": [
      "561 is composite\n",
      "[117, 126, 399, 495, 341]\n",
      "[375, 375, 375, 528, 154]\n"
     ]
    }
   ],
   "source": [
    "n = 561\n",
    "ns = [randint(2, n-1) for _ in range(5)]\n",
    "rs = []\n",
    "for j in ns:\n",
    "    rs.append(power_mod(j, n-1, n))\n",
    "\n",
    "prob = True\n",
    "for r in rs:\n",
    "    if r != 1:\n",
    "        print(f\"{n} is composite\")\n",
    "        prob = False\n",
    "        break\n",
    "\n",
    "if prob:\n",
    "    print(f\"{n} is probably prime\")\n",
    "\n",
    "print(ns)\n",
    "print(rs)"
   ]
  },
  {
   "cell_type": "code",
   "execution_count": 28,
   "id": "90c2c766-5f55-427d-9a1d-802f69c15b84",
   "metadata": {},
   "outputs": [],
   "source": [
    "def probably_prime(n):\n",
    "    ns = [randint(2, n-1) for _ in range(10)]\n",
    "    for j in ns:\n",
    "        mod = power_mod(j, n-1, n)\n",
    "        if mod != 1:\n",
    "            return f\"{n} is composite\"\n",
    "    return f\"{n} is probably prime\""
   ]
  },
  {
   "cell_type": "code",
   "execution_count": 29,
   "id": "1ab186fd-781c-4d2e-bd18-2bdd457c46ae",
   "metadata": {},
   "outputs": [
    {
     "data": {
      "text/plain": [
       "'101 is probably prime'"
      ]
     },
     "execution_count": 29,
     "metadata": {},
     "output_type": "execute_result"
    }
   ],
   "source": [
    "probably_prime(101)"
   ]
  },
  {
   "cell_type": "code",
   "execution_count": 30,
   "id": "c2a4f3d1-14da-475d-aafe-a93d7ab156cd",
   "metadata": {},
   "outputs": [
    {
     "data": {
      "text/plain": [
       "True"
      ]
     },
     "execution_count": 30,
     "metadata": {},
     "output_type": "execute_result"
    }
   ],
   "source": [
    "is_prime(101)"
   ]
  },
  {
   "cell_type": "code",
   "execution_count": 31,
   "id": "ec214a24-14a6-4b58-bcde-461f52aa744c",
   "metadata": {},
   "outputs": [
    {
     "data": {
      "text/plain": [
       "'561 is composite'"
      ]
     },
     "execution_count": 31,
     "metadata": {},
     "output_type": "execute_result"
    }
   ],
   "source": [
    "probably_prime(561)"
   ]
  },
  {
   "cell_type": "markdown",
   "id": "c75ade38-5d30-4f23-bf91-6b83971d7c0d",
   "metadata": {},
   "source": [
    "## Reference"
   ]
  },
  {
   "cell_type": "markdown",
   "id": "14c9a576-dd83-4310-9342-47f07f3acba0",
   "metadata": {},
   "source": [
    "- A Friendly Introduction to Number Theory 4ed by Joseph H. Silverman. Chapter 16."
   ]
  }
 ],
 "metadata": {
  "kernelspec": {
   "display_name": "Python 3 (ipykernel)",
   "language": "python",
   "name": "python3"
  },
  "language_info": {
   "codemirror_mode": {
    "name": "ipython",
    "version": 3
   },
   "file_extension": ".py",
   "mimetype": "text/x-python",
   "name": "python",
   "nbconvert_exporter": "python",
   "pygments_lexer": "ipython3",
   "version": "3.11.6"
  }
 },
 "nbformat": 4,
 "nbformat_minor": 5
}
