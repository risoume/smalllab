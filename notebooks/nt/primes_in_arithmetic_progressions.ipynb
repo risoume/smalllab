{
 "cells": [
  {
   "cell_type": "markdown",
   "id": "63d2e786-5ab8-4982-bb8c-a1000b17c5a3",
   "metadata": {},
   "source": [
    "# Primes in Arithmetic Progressions"
   ]
  },
  {
   "cell_type": "code",
   "execution_count": 1,
   "id": "8f5106b2-d2b3-4977-972d-10f7fb866548",
   "metadata": {},
   "outputs": [],
   "source": [
    "import lib_path\n",
    "from smalllab.nt import decompose, is_prime\n",
    "from smalllab.table import *\n",
    "from IPython.display import HTML"
   ]
  },
  {
   "cell_type": "markdown",
   "id": "c71915b3-4c3d-4290-88aa-a7ba14c00bbf",
   "metadata": {},
   "source": [
    "## Primes of the form $p = 3 \\pmod{4}$"
   ]
  },
  {
   "cell_type": "markdown",
   "id": "2ca5eaad-0a53-4dd8-b10b-d41adac6d807",
   "metadata": {},
   "source": [
    "**Primes $3\\pmod{4}$ Theorem**\n",
    "\n",
    "> There are infinitely many primes that are congruent to $3$ modulo $4$."
   ]
  },
  {
   "cell_type": "markdown",
   "id": "62a56495-4c29-446c-923e-4f7d4b1681e7",
   "metadata": {},
   "source": [
    "Start with one prime of the form 3 mod 4 excluding 3."
   ]
  },
  {
   "cell_type": "code",
   "execution_count": 2,
   "id": "9261a9c1-62db-4b70-a1fc-93e5687733fe",
   "metadata": {},
   "outputs": [
    {
     "data": {
      "text/plain": [
       "[7]"
      ]
     },
     "execution_count": 2,
     "metadata": {},
     "output_type": "execute_result"
    }
   ],
   "source": [
    "primes = [7]\n",
    "primes"
   ]
  },
  {
   "cell_type": "markdown",
   "id": "0440d61b-0495-4562-9b37-981a5f960a2e",
   "metadata": {},
   "source": [
    "### First Iteration"
   ]
  },
  {
   "cell_type": "code",
   "execution_count": 3,
   "id": "81cd4e72-b40e-4ed4-926e-18469ee8df98",
   "metadata": {},
   "outputs": [
    {
     "data": {
      "text/plain": [
       "31"
      ]
     },
     "execution_count": 3,
     "metadata": {},
     "output_type": "execute_result"
    }
   ],
   "source": [
    "# Compute A = 4 * prod(primes) + 3\n",
    "A = 4\n",
    "for p in primes:\n",
    "    A *= p\n",
    "A += 3\n",
    "A"
   ]
  },
  {
   "cell_type": "code",
   "execution_count": 4,
   "id": "50b26985-035a-47e8-a891-50b30e6df490",
   "metadata": {},
   "outputs": [
    {
     "name": "stdout",
     "output_type": "stream",
     "text": [
      "Help on function decompose in module smalllab.nt:\n",
      "\n",
      "decompose(n: int) -> dict[int, int]\n",
      "    Find the prime factorization of integer greater than 1 as a dictionary,\n",
      "    with the primes as keys and their exponents as values.\n",
      "\n"
     ]
    }
   ],
   "source": [
    "help(decompose)"
   ]
  },
  {
   "cell_type": "code",
   "execution_count": 5,
   "id": "a3a7196c-e00d-48d0-b33f-c048503ebc36",
   "metadata": {},
   "outputs": [
    {
     "data": {
      "text/plain": [
       "{31: 1}"
      ]
     },
     "execution_count": 5,
     "metadata": {},
     "output_type": "execute_result"
    }
   ],
   "source": [
    "# Factor A\n",
    "D = decompose(A)\n",
    "D"
   ]
  },
  {
   "cell_type": "code",
   "execution_count": 6,
   "id": "366c4595-c800-4459-adf9-89408201b519",
   "metadata": {},
   "outputs": [
    {
     "data": {
      "text/plain": [
       "31"
      ]
     },
     "execution_count": 6,
     "metadata": {},
     "output_type": "execute_result"
    }
   ],
   "source": [
    "# Among prime factors of A at least one of them is congruent to 3 mod 4\n",
    "for q in D.keys():\n",
    "    if q % 4 == 3:\n",
    "        new_prime = q\n",
    "        break\n",
    "\n",
    "new_prime"
   ]
  },
  {
   "cell_type": "code",
   "execution_count": 7,
   "id": "7a0e8289-69d6-424b-bb53-d55cc31c735c",
   "metadata": {},
   "outputs": [
    {
     "data": {
      "text/plain": [
       "[7, 31]"
      ]
     },
     "execution_count": 7,
     "metadata": {},
     "output_type": "execute_result"
    }
   ],
   "source": [
    "# Add new prime to the list\n",
    "primes.append(new_prime)\n",
    "primes"
   ]
  },
  {
   "cell_type": "markdown",
   "id": "21ff8748-e153-4e6f-a234-03f9594faeb3",
   "metadata": {},
   "source": [
    "### Second iteration"
   ]
  },
  {
   "cell_type": "code",
   "execution_count": 8,
   "id": "f1307ffe-e20b-41ab-bbc2-7316722bd835",
   "metadata": {},
   "outputs": [
    {
     "data": {
      "text/plain": [
       "871"
      ]
     },
     "execution_count": 8,
     "metadata": {},
     "output_type": "execute_result"
    }
   ],
   "source": [
    "# Compute A = 4 * prod(primes) + 3\n",
    "A = 4\n",
    "for p in primes:\n",
    "    A *= p\n",
    "A += 3\n",
    "A"
   ]
  },
  {
   "cell_type": "code",
   "execution_count": 9,
   "id": "745ab3a7-62f7-4d47-ab4f-bc4ac2cf2746",
   "metadata": {},
   "outputs": [
    {
     "data": {
      "text/plain": [
       "{13: 1, 67: 1}"
      ]
     },
     "execution_count": 9,
     "metadata": {},
     "output_type": "execute_result"
    }
   ],
   "source": [
    "# Factor A\n",
    "D = decompose(A)\n",
    "D"
   ]
  },
  {
   "cell_type": "code",
   "execution_count": 10,
   "id": "e12d0a5d-0a42-43b4-bffa-83c3ae0ab570",
   "metadata": {},
   "outputs": [
    {
     "data": {
      "text/plain": [
       "67"
      ]
     },
     "execution_count": 10,
     "metadata": {},
     "output_type": "execute_result"
    }
   ],
   "source": [
    "# Among prime factors of A at least one of them congruent to 3 mod 4\n",
    "for q in D.keys():\n",
    "    if q % 4 == 3:\n",
    "        new_prime = q\n",
    "        break\n",
    "\n",
    "new_prime"
   ]
  },
  {
   "cell_type": "code",
   "execution_count": 11,
   "id": "65ae2035-3a22-4279-9bec-87add1359ef7",
   "metadata": {},
   "outputs": [
    {
     "data": {
      "text/plain": [
       "[7, 31, 67]"
      ]
     },
     "execution_count": 11,
     "metadata": {},
     "output_type": "execute_result"
    }
   ],
   "source": [
    "# Add new prime to the list\n",
    "primes.append(new_prime)\n",
    "primes"
   ]
  },
  {
   "cell_type": "markdown",
   "id": "207d47f7-94ba-4fba-b74f-a36ec2f23666",
   "metadata": {},
   "source": [
    "### Third iteration"
   ]
  },
  {
   "cell_type": "code",
   "execution_count": 12,
   "id": "a075f1ea-ddef-461f-8251-46ee939b6eaa",
   "metadata": {},
   "outputs": [
    {
     "data": {
      "text/plain": [
       "58159"
      ]
     },
     "execution_count": 12,
     "metadata": {},
     "output_type": "execute_result"
    }
   ],
   "source": [
    "# Compute A = 4 * prod(primes) + 3\n",
    "A = 4\n",
    "for p in primes:\n",
    "    A *= p\n",
    "A += 3\n",
    "A"
   ]
  },
  {
   "cell_type": "code",
   "execution_count": 13,
   "id": "c328e197-85a1-4db8-bebc-c92bf1510d45",
   "metadata": {},
   "outputs": [
    {
     "data": {
      "text/plain": [
       "{19: 1, 3061: 1}"
      ]
     },
     "execution_count": 13,
     "metadata": {},
     "output_type": "execute_result"
    }
   ],
   "source": [
    "# Factor A\n",
    "D = decompose(A)\n",
    "D"
   ]
  },
  {
   "cell_type": "code",
   "execution_count": 14,
   "id": "7183728b-9a7f-41fb-b074-e9b7ffcbc791",
   "metadata": {},
   "outputs": [
    {
     "data": {
      "text/plain": [
       "19"
      ]
     },
     "execution_count": 14,
     "metadata": {},
     "output_type": "execute_result"
    }
   ],
   "source": [
    "# Among prime factors of A at least one of them congruent to 3 mod 4\n",
    "for q in D.keys():\n",
    "    if q % 4 == 3:\n",
    "        new_prime = q\n",
    "        break\n",
    "\n",
    "new_prime"
   ]
  },
  {
   "cell_type": "code",
   "execution_count": 15,
   "id": "6e77af07-0ebb-4f71-96eb-b5240b04742c",
   "metadata": {},
   "outputs": [
    {
     "data": {
      "text/plain": [
       "[7, 31, 67, 19]"
      ]
     },
     "execution_count": 15,
     "metadata": {},
     "output_type": "execute_result"
    }
   ],
   "source": [
    "# Add new prime to the list\n",
    "primes.append(new_prime)\n",
    "primes"
   ]
  },
  {
   "cell_type": "markdown",
   "id": "8b23a95e-85ba-4ea5-93ef-de05d0e39a20",
   "metadata": {},
   "source": [
    "### Fourth iteration"
   ]
  },
  {
   "cell_type": "code",
   "execution_count": 16,
   "id": "fbfd3721-cf07-4ef3-8e8c-e5e2718ed3d9",
   "metadata": {},
   "outputs": [
    {
     "data": {
      "text/plain": [
       "1104967"
      ]
     },
     "execution_count": 16,
     "metadata": {},
     "output_type": "execute_result"
    }
   ],
   "source": [
    "# Compute A = 4 * prod(primes) + 3\n",
    "A = 4\n",
    "for p in primes:\n",
    "    A *= p\n",
    "A += 3\n",
    "A"
   ]
  },
  {
   "cell_type": "code",
   "execution_count": 17,
   "id": "e316edc2-c761-4f8e-bc9f-e0cd347b7a21",
   "metadata": {},
   "outputs": [
    {
     "data": {
      "text/plain": [
       "{179: 1, 6173: 1}"
      ]
     },
     "execution_count": 17,
     "metadata": {},
     "output_type": "execute_result"
    }
   ],
   "source": [
    "# Factor A\n",
    "D = decompose(A)\n",
    "D"
   ]
  },
  {
   "cell_type": "code",
   "execution_count": 18,
   "id": "b71add72-aff0-4184-8f6d-9a346e9e2009",
   "metadata": {},
   "outputs": [
    {
     "data": {
      "text/plain": [
       "179"
      ]
     },
     "execution_count": 18,
     "metadata": {},
     "output_type": "execute_result"
    }
   ],
   "source": [
    "# Among prime factors of A at least one of them congruent to 3 mod 4\n",
    "for q in D.keys():\n",
    "    if q % 4 == 3:\n",
    "        new_prime = q\n",
    "        break\n",
    "\n",
    "new_prime"
   ]
  },
  {
   "cell_type": "code",
   "execution_count": 19,
   "id": "31cdf61e-b45b-4a27-ae93-4e988f01ccd5",
   "metadata": {},
   "outputs": [
    {
     "data": {
      "text/plain": [
       "[7, 31, 67, 19, 179]"
      ]
     },
     "execution_count": 19,
     "metadata": {},
     "output_type": "execute_result"
    }
   ],
   "source": [
    "# Add new prime to the list\n",
    "primes.append(new_prime)\n",
    "primes"
   ]
  },
  {
   "cell_type": "markdown",
   "id": "8eb8caf7-c304-4f1c-9710-5afaf292382e",
   "metadata": {},
   "source": [
    "## Function"
   ]
  },
  {
   "cell_type": "code",
   "execution_count": 20,
   "id": "d1554cc8-66f4-4cc1-96ed-9ddacb98250b",
   "metadata": {},
   "outputs": [],
   "source": [
    "def prime3mod4(n: int) -> list[int]:\n",
    "    \"\"\"Return a list of n primes of the form p = 3 mod 4\n",
    "    obtained by applying A = 4*prod(L) + 3 starting form L=[7].\n",
    "    \"\"\"\n",
    "    if n < 1 or n > 6: # n > 6 takes long time\n",
    "        return None\n",
    "        \n",
    "    primes = [7]\n",
    "    for _ in range(n-1):\n",
    "        A = 4\n",
    "        for p in primes:\n",
    "            A *= p\n",
    "        A += 3\n",
    "        \n",
    "        D = decompose(A)\n",
    "        for q in D.keys():\n",
    "            if q % 4 == 3:\n",
    "                new_prime = q\n",
    "                break\n",
    "        primes.append(new_prime)\n",
    "        \n",
    "    return primes"
   ]
  },
  {
   "cell_type": "code",
   "execution_count": 21,
   "id": "331cd12c-d8f1-4ca1-b460-a689fc96cc49",
   "metadata": {},
   "outputs": [
    {
     "data": {
      "text/plain": [
       "[7, 31, 67, 19, 179, 197788559]"
      ]
     },
     "execution_count": 21,
     "metadata": {},
     "output_type": "execute_result"
    }
   ],
   "source": [
    "prime3mod4(6)"
   ]
  },
  {
   "cell_type": "markdown",
   "id": "ea933c78-1173-494f-b6c2-fb6b3ecc0c5a",
   "metadata": {},
   "source": [
    "## Primes of the form $p = 5 \\pmod{6}$"
   ]
  },
  {
   "cell_type": "code",
   "execution_count": 22,
   "id": "fb664a0d-24ad-491f-a965-4504a41b9828",
   "metadata": {},
   "outputs": [],
   "source": [
    "def prime5mod6(n):\n",
    "    \"\"\"Return a list of n primes of the form p = 5 mod 6\n",
    "    obtained by applying A = 6*prod(L) + 5 starting form L=[11].\n",
    "    \"\"\"\n",
    "    if n < 1 or n > 6: # n > 6 takes long time\n",
    "        return None\n",
    "        \n",
    "    primes = [11]\n",
    "    for _ in range(n-1):\n",
    "        A = 6\n",
    "        for p in primes:\n",
    "            A *= p\n",
    "        A += 5\n",
    "        \n",
    "        D = decompose(A)\n",
    "        for q in D.keys():\n",
    "            if q % 6 == 5:\n",
    "                new_prime = q\n",
    "                break\n",
    "        primes.append(new_prime)\n",
    "        \n",
    "    return primes"
   ]
  },
  {
   "cell_type": "code",
   "execution_count": 23,
   "id": "011da4b8-7c3e-43c9-a8da-f1f1b8e538fc",
   "metadata": {},
   "outputs": [
    {
     "data": {
      "text/plain": [
       "[11, 71, 4691, 1156949, 23, 1367]"
      ]
     },
     "execution_count": 23,
     "metadata": {},
     "output_type": "execute_result"
    }
   ],
   "source": [
    "prime5mod6(6)"
   ]
  },
  {
   "cell_type": "markdown",
   "id": "2001f43e-aabf-4ae8-baa1-b772ce5ac737",
   "metadata": {},
   "source": [
    "## Dirichlet's Theorem"
   ]
  },
  {
   "cell_type": "markdown",
   "id": "7484deed-7414-4d68-912a-df6b585d47e2",
   "metadata": {},
   "source": [
    "> Let $a$ and $m$ be integers with $\\gcd(a,m)=1$. Then there are infinitely many primes that are\n",
    "congruent to $a$ modulo $m$."
   ]
  },
  {
   "cell_type": "markdown",
   "id": "853fcabc-08d8-4be2-b48a-e87de2454e76",
   "metadata": {},
   "source": [
    "## Displaying some primes $p=a\\pmod{m}$"
   ]
  },
  {
   "cell_type": "code",
   "execution_count": 24,
   "id": "a50a3f64-5feb-42ec-91ed-a468cd187f2a",
   "metadata": {},
   "outputs": [
    {
     "name": "stdout",
     "output_type": "stream",
     "text": [
      "[2, 3, 5, 7, 11, 13, 17, 19, 23, 29, 31, 37, 41, 43, 47, 53, 59, 61, 67, 71, 73, 79, 83, 89, 97, 101, 103, 107, 109, 113, 127, 131, 137, 139, 149, 151, 157, 163, 167, 173, 179, 181, 191, 193, 197, 199, 211, 223, 227, 229, 233, 239, 241, 251, 257, 263, 269, 271, 277, 281, 283, 293, 307, 311, 313, 317, 331, 337, 347, 349, 353, 359, 367, 373, 379, 383, 389, 397, 401, 409, 419, 421, 431, 433, 439, 443, 449, 457, 461, 463, 467, 479, 487, 491, 499, 503, 509, 521, 523, 541, 547, 557, 563, 569, 571, 577, 587, 593, 599, 601, 607, 613, 617, 619, 631, 641, 643, 647, 653, 659, 661, 673, 677, 683, 691, 701, 709, 719, 727, 733, 739, 743, 751, 757, 761, 769, 773, 787, 797, 809, 811, 821, 823, 827, 829, 839, 853, 857, 859, 863, 877, 881, 883, 887, 907, 911, 919, 929, 937, 941, 947, 953, 967, 971, 977, 983, 991, 997]\n"
     ]
    }
   ],
   "source": [
    "# Find all primes less than 1000\n",
    "L = []\n",
    "for i in range(2, 1000):\n",
    "    if is_prime(i):\n",
    "        L.append(i)\n",
    "\n",
    "print(L)"
   ]
  },
  {
   "cell_type": "code",
   "execution_count": 25,
   "id": "0b380ae5-a091-4df8-900c-03407a8ab00d",
   "metadata": {},
   "outputs": [],
   "source": [
    "def prime_a_mod_m(a, m, k):\n",
    "    \"\"\"Find the first k primes of the form p = a mod m.\"\"\"\n",
    "    primes = []\n",
    "    count = 0\n",
    "    for p in L:\n",
    "        if p % m == a:\n",
    "            primes.append(p)\n",
    "            count += 1\n",
    "            if count == k:\n",
    "                break\n",
    "    return primes"
   ]
  },
  {
   "cell_type": "code",
   "execution_count": 26,
   "id": "d3f23af5-ee71-4a63-9560-0fca048b6b44",
   "metadata": {},
   "outputs": [],
   "source": [
    "m, k = 5, 12\n",
    "P1 = prime_a_mod_m(1, m, k)\n",
    "P2 = prime_a_mod_m(2, m, k)\n",
    "P3 = prime_a_mod_m(3, m, k)\n",
    "P4 = prime_a_mod_m(4, m, k)"
   ]
  },
  {
   "cell_type": "code",
   "execution_count": 27,
   "id": "4387464b-2d24-4118-815d-058f332bb6d9",
   "metadata": {},
   "outputs": [
    {
     "data": {
      "text/html": [
       "<table><tr><th>$p\\equiv 1\\pmod{5}$</th><td>11</td><td>31</td><td>41</td><td>61</td><td>71</td><td>101</td><td>131</td><td>151</td><td>181</td><td>191</td><td>211</td><td>241</td></tr><tr><th>$p\\equiv 2\\pmod{5}$</th><td>2</td><td>7</td><td>17</td><td>37</td><td>47</td><td>67</td><td>97</td><td>107</td><td>127</td><td>137</td><td>157</td><td>167</td></tr><tr><th>$p\\equiv 3\\pmod{5}$</th><td>3</td><td>13</td><td>23</td><td>43</td><td>53</td><td>73</td><td>83</td><td>103</td><td>113</td><td>163</td><td>173</td><td>193</td></tr><tr><th>$p\\equiv 4\\pmod{5}$</th><td>19</td><td>29</td><td>59</td><td>79</td><td>89</td><td>109</td><td>139</td><td>149</td><td>179</td><td>199</td><td>229</td><td>239</td></tr></table>"
      ],
      "text/plain": [
       "<IPython.core.display.HTML object>"
      ]
     },
     "execution_count": 27,
     "metadata": {},
     "output_type": "execute_result"
    }
   ],
   "source": [
    "head = ['$p\\equiv 1\\pmod{5}$', '$p\\equiv 2\\pmod{5}$', '$p\\equiv 3\\pmod{5}$', '$p\\equiv 4\\pmod{5}$']\n",
    "T = table_h(head, P1, P2, P3, P4)\n",
    "HTML(T)"
   ]
  },
  {
   "cell_type": "markdown",
   "id": "52bfaf16-c637-4bc1-8378-2c41fa39bcbf",
   "metadata": {},
   "source": [
    "## Reference"
   ]
  },
  {
   "cell_type": "markdown",
   "id": "bea7621f-325f-4515-b85b-c2a7d2b73ecc",
   "metadata": {},
   "source": [
    "- A Friendly Introduction to Number Theory 4ed by Joseph H. Silverman. Chapter 12."
   ]
  }
 ],
 "metadata": {
  "kernelspec": {
   "display_name": "Python 3 (ipykernel)",
   "language": "python",
   "name": "python3"
  },
  "language_info": {
   "codemirror_mode": {
    "name": "ipython",
    "version": 3
   },
   "file_extension": ".py",
   "mimetype": "text/x-python",
   "name": "python",
   "nbconvert_exporter": "python",
   "pygments_lexer": "ipython3",
   "version": "3.11.6"
  }
 },
 "nbformat": 4,
 "nbformat_minor": 5
}
