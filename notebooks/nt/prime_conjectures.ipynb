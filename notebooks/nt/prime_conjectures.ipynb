{
 "cells": [
  {
   "cell_type": "markdown",
   "id": "813a842e-df6f-4057-909f-6b9546537bce",
   "metadata": {},
   "source": [
    "# Prime Conjectures"
   ]
  },
  {
   "cell_type": "code",
   "execution_count": 1,
   "id": "555d7c1c-7184-400e-b67d-733cfbaf45ed",
   "metadata": {},
   "outputs": [],
   "source": [
    "import lib_path\n",
    "from smalllab.nt import is_prime, is_square\n",
    "from math import isqrt"
   ]
  },
  {
   "cell_type": "markdown",
   "id": "78b3364a-f88a-4344-ac6f-981f10176dc7",
   "metadata": {},
   "source": [
    "## Goldbach's Conjecture"
   ]
  },
  {
   "cell_type": "markdown",
   "id": "f79e88b5-0fb4-4925-ab0f-f034b4e305f9",
   "metadata": {},
   "source": [
    "> Every even number $n\\geq 4$ is a sum of two primes."
   ]
  },
  {
   "cell_type": "code",
   "execution_count": 2,
   "id": "5984714d-b3ff-473c-8f10-fbbc5474b4fe",
   "metadata": {},
   "outputs": [
    {
     "name": "stdout",
     "output_type": "stream",
     "text": [
      "Help on function is_prime in module smalllab.nt:\n",
      "\n",
      "is_prime(n: int) -> bool\n",
      "    Check if a number is a prime.\n",
      "\n"
     ]
    }
   ],
   "source": [
    "help(is_prime)"
   ]
  },
  {
   "cell_type": "code",
   "execution_count": 3,
   "id": "4fb8edec-7dc4-4335-b1d8-94ae7f49d458",
   "metadata": {},
   "outputs": [
    {
     "name": "stdout",
     "output_type": "stream",
     "text": [
      "[2, 3, 5, 7, 11, 13, 17, 19, 23, 29, 31, 37, 41, 43, 47, 53, 59, 61, 67, 71, 73, 79, 83, 89, 97, 101, 103, 107, 109, 113, 127, 131, 137, 139, 149, 151, 157, 163, 167, 173, 179, 181, 191, 193, 197, 199, 211, 223, 227, 229, 233, 239, 241, 251, 257, 263, 269, 271, 277, 281, 283, 293, 307, 311, 313, 317, 331, 337, 347, 349, 353, 359, 367, 373, 379, 383, 389, 397, 401, 409, 419, 421, 431, 433, 439, 443, 449, 457, 461, 463, 467, 479, 487, 491, 499, 503, 509, 521, 523, 541, 547, 557, 563, 569, 571, 577, 587, 593, 599, 601, 607, 613, 617, 619, 631, 641, 643, 647, 653, 659, 661, 673, 677, 683, 691, 701, 709, 719, 727, 733, 739, 743, 751, 757, 761, 769, 773, 787, 797, 809, 811, 821, 823, 827, 829, 839, 853, 857, 859, 863, 877, 881, 883, 887, 907, 911, 919, 929, 937, 941, 947, 953, 967, 971, 977, 983, 991, 997]\n"
     ]
    }
   ],
   "source": [
    "# Find all primes less than 1000\n",
    "primes = []\n",
    "for i in range(1000):\n",
    "    if is_prime(i):\n",
    "        primes.append(i)\n",
    "\n",
    "print(primes)"
   ]
  },
  {
   "cell_type": "markdown",
   "id": "a37bd1f9-22f4-4046-9c2e-d4b4d01839c5",
   "metadata": {},
   "source": [
    "Verify the conjecture for small numbers."
   ]
  },
  {
   "cell_type": "code",
   "execution_count": 4,
   "id": "54d49648-8c56-4675-8ea9-36151b8d8e48",
   "metadata": {},
   "outputs": [
    {
     "name": "stdout",
     "output_type": "stream",
     "text": [
      " 4 =  2 +  2\n",
      " 6 =  3 +  3\n",
      " 8 =  3 +  5\n",
      " 8 =  5 +  3\n",
      "10 =  3 +  7\n",
      "10 =  5 +  5\n",
      "10 =  7 +  3\n",
      "12 =  5 +  7\n",
      "12 =  7 +  5\n",
      "14 =  3 + 11\n",
      "14 =  7 +  7\n",
      "14 = 11 +  3\n",
      "16 =  3 + 13\n",
      "16 =  5 + 11\n",
      "16 = 11 +  5\n",
      "16 = 13 +  3\n",
      "18 =  5 + 13\n",
      "18 =  7 + 11\n",
      "18 = 11 +  7\n",
      "18 = 13 +  5\n",
      "20 =  3 + 17\n",
      "20 =  7 + 13\n",
      "20 = 13 +  7\n",
      "20 = 17 +  3\n"
     ]
    }
   ],
   "source": [
    "for i in range(4, 22, 2):\n",
    "    for j in primes:\n",
    "        if j >= i:\n",
    "            break\n",
    "        for k in primes:\n",
    "            if k >= i + j:\n",
    "                break\n",
    "            if j + k == i:\n",
    "                print(f\"{i:2} = {j:2} + {k:2}\")"
   ]
  },
  {
   "cell_type": "markdown",
   "id": "1dee8fb8-407d-4279-a18d-825fc56e3d0d",
   "metadata": {},
   "source": [
    "## The Twin Primes Conjecture"
   ]
  },
  {
   "cell_type": "markdown",
   "id": "b91ef37d-525b-45f9-b80a-27f21f500550",
   "metadata": {},
   "source": [
    "> There are infinitely many prime numbers $p$ such that $p+2$ is also prime."
   ]
  },
  {
   "cell_type": "code",
   "execution_count": 5,
   "id": "fec888d4-d623-4769-8b88-dd72b07a25f7",
   "metadata": {},
   "outputs": [
    {
     "name": "stdout",
     "output_type": "stream",
     "text": [
      "3 5\n",
      "5 7\n",
      "11 13\n",
      "17 19\n",
      "29 31\n",
      "41 43\n",
      "59 61\n",
      "71 73\n",
      "101 103\n",
      "107 109\n",
      "137 139\n",
      "149 151\n",
      "179 181\n",
      "191 193\n",
      "197 199\n",
      "227 229\n",
      "239 241\n",
      "269 271\n",
      "281 283\n",
      "311 313\n",
      "347 349\n",
      "419 421\n",
      "431 433\n",
      "461 463\n",
      "521 523\n",
      "569 571\n",
      "599 601\n",
      "617 619\n",
      "641 643\n",
      "659 661\n",
      "809 811\n",
      "821 823\n",
      "827 829\n",
      "857 859\n",
      "881 883\n"
     ]
    }
   ],
   "source": [
    "for j in primes:\n",
    "    if j+2 in primes:\n",
    "        print(f\"{j} {j+2}\")"
   ]
  },
  {
   "cell_type": "markdown",
   "id": "3a83ef61-99a7-43ee-9c81-e8b8429a9b6c",
   "metadata": {},
   "source": [
    "## The $N^2+1$ Conjecture"
   ]
  },
  {
   "cell_type": "markdown",
   "id": "30b5a3ed-5929-403b-a623-2384d92c3da6",
   "metadata": {},
   "source": [
    "> There are infinitely many primes of the form $N^2+1$."
   ]
  },
  {
   "cell_type": "code",
   "execution_count": 6,
   "id": "5df13fa0-2f63-42fd-8454-3fc9dfdfa04b",
   "metadata": {},
   "outputs": [
    {
     "name": "stdout",
     "output_type": "stream",
     "text": [
      "Help on function is_square in module smalllab.nt:\n",
      "\n",
      "is_square(n: int | float) -> bool\n",
      "    Check if a number is a perfect square.\n",
      "\n"
     ]
    }
   ],
   "source": [
    "help(is_square)"
   ]
  },
  {
   "cell_type": "code",
   "execution_count": 7,
   "id": "b475acf5-861c-4f43-8325-4828e4f1f604",
   "metadata": {},
   "outputs": [
    {
     "name": "stdout",
     "output_type": "stream",
     "text": [
      " 1^2 + 1 =   2\n",
      " 2^2 + 1 =   5\n",
      " 4^2 + 1 =  17\n",
      " 6^2 + 1 =  37\n",
      "10^2 + 1 = 101\n",
      "14^2 + 1 = 197\n",
      "16^2 + 1 = 257\n",
      "20^2 + 1 = 401\n",
      "24^2 + 1 = 577\n",
      "26^2 + 1 = 677\n"
     ]
    }
   ],
   "source": [
    "for i in primes:\n",
    "    if is_square(i-1):\n",
    "        print(f\"{isqrt(i-1):2}^2 + 1 = {i:3}\")"
   ]
  },
  {
   "cell_type": "markdown",
   "id": "a30e15c4-6612-4375-8459-f2148d6412e6",
   "metadata": {},
   "source": [
    "## Reference"
   ]
  },
  {
   "cell_type": "markdown",
   "id": "734a4253-b393-4545-9409-9676750805bb",
   "metadata": {},
   "source": [
    "- A Friendly Introduction to Number Theory 4ed by Joseph H. Silverman. Chapter 13."
   ]
  }
 ],
 "metadata": {
  "kernelspec": {
   "display_name": "Python 3 (ipykernel)",
   "language": "python",
   "name": "python3"
  },
  "language_info": {
   "codemirror_mode": {
    "name": "ipython",
    "version": 3
   },
   "file_extension": ".py",
   "mimetype": "text/x-python",
   "name": "python",
   "nbconvert_exporter": "python",
   "pygments_lexer": "ipython3",
   "version": "3.11.6"
  }
 },
 "nbformat": 4,
 "nbformat_minor": 5
}
