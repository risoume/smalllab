{
 "cells": [
  {
   "cell_type": "markdown",
   "id": "6b916603-f722-4b45-ae21-bf952d2ffe76",
   "metadata": {},
   "source": [
    "# List to Table"
   ]
  },
  {
   "cell_type": "code",
   "execution_count": 1,
   "id": "aaf4633e-abab-4026-81f5-901723ee1d7c",
   "metadata": {},
   "outputs": [],
   "source": [
    "from IPython.display import HTML\n",
    "import lib_path\n",
    "from smalllab.nt import divisor_sum"
   ]
  },
  {
   "cell_type": "code",
   "execution_count": 2,
   "id": "399e0fb4-1161-418e-b2b9-f14f8e41b3d6",
   "metadata": {},
   "outputs": [],
   "source": [
    "def list2table(L: list, n: int) -> str:\n",
    "    \"\"\"Convert a list into html table where each row contains n entries.\"\"\"\n",
    "    L_ = L[:]\n",
    "    elem_count = len(L_)\n",
    "    rows = 1\n",
    "    if elem_count % n == 0:\n",
    "        rows = elem_count // n\n",
    "    else:\n",
    "        rows = (elem_count // n) + 1\n",
    "        L_ += ['' for i in range(n - (elem_count % n))]\n",
    "\n",
    "    s = \"<table>\"\n",
    "    for r in range(rows):\n",
    "        s += \"<tr>\"\n",
    "        for i in range(n):\n",
    "            s += \"<td>\" + str( L_[r*n+i] ) + \"</td>\"\n",
    "        s += \"</tr>\"\n",
    "    \n",
    "    s += \"</table>\"\n",
    "    return s"
   ]
  },
  {
   "cell_type": "code",
   "execution_count": 3,
   "id": "e527291a-25d7-4f87-92ef-c8334b90af82",
   "metadata": {},
   "outputs": [
    {
     "name": "stdout",
     "output_type": "stream",
     "text": [
      "Help on function list2table in module __main__:\n",
      "\n",
      "list2table(L: list, n: int) -> str\n",
      "    Convert a list into html table where each row contains n entries.\n",
      "\n"
     ]
    }
   ],
   "source": [
    "help(list2table)"
   ]
  },
  {
   "cell_type": "code",
   "execution_count": 4,
   "id": "63bdc531-9164-49e6-a0ef-7bc42a6a051b",
   "metadata": {},
   "outputs": [
    {
     "data": {
      "text/html": [
       "<table><tr><td>0</td><td>1</td><td>2</td><td>3</td><td>4</td><td>5</td><td>6</td><td>7</td><td>8</td><td>9</td></tr><tr><td>10</td><td>11</td><td>12</td><td>13</td><td>14</td><td>15</td><td>16</td><td>17</td><td>18</td><td>19</td></tr><tr><td>20</td><td>21</td><td>22</td><td>23</td><td>24</td><td>25</td><td>26</td><td>27</td><td>28</td><td>29</td></tr><tr><td>30</td><td>31</td><td>32</td><td>33</td><td>34</td><td>35</td><td>36</td><td>37</td><td>38</td><td>39</td></tr><tr><td>40</td><td>41</td><td>42</td><td>43</td><td>44</td><td>45</td><td>46</td><td>47</td><td>48</td><td>49</td></tr><tr><td>50</td><td>51</td><td>52</td><td>53</td><td>54</td><td>55</td><td>56</td><td>57</td><td>58</td><td>59</td></tr><tr><td>60</td><td>61</td><td>62</td><td>63</td><td>64</td><td>65</td><td>66</td><td>67</td><td>68</td><td>69</td></tr><tr><td>70</td><td>71</td><td>72</td><td>73</td><td>74</td><td>75</td><td>76</td><td>77</td><td>78</td><td>79</td></tr><tr><td>80</td><td>81</td><td>82</td><td>83</td><td>84</td><td>85</td><td>86</td><td>87</td><td>88</td><td>89</td></tr><tr><td>90</td><td>91</td><td>92</td><td>93</td><td>94</td><td>95</td><td>96</td><td>97</td><td>98</td><td>99</td></tr></table>"
      ],
      "text/plain": [
       "<IPython.core.display.HTML object>"
      ]
     },
     "execution_count": 4,
     "metadata": {},
     "output_type": "execute_result"
    }
   ],
   "source": [
    "L = list(range(100))\n",
    "T = list2table(L, 10)\n",
    "HTML(T)"
   ]
  },
  {
   "cell_type": "code",
   "execution_count": 5,
   "id": "6231e8f1-c189-49dd-86ac-9ae969875ae4",
   "metadata": {},
   "outputs": [
    {
     "data": {
      "text/html": [
       "<table><tr><td>0</td><td>1</td><td>2</td><td>3</td><td>4</td><td>5</td><td>6</td><td>7</td><td>8</td><td>9</td><td>10</td><td>11</td><td>12</td></tr><tr><td>13</td><td>14</td><td>15</td><td>16</td><td>17</td><td>18</td><td>19</td><td>20</td><td>21</td><td>22</td><td>23</td><td>24</td><td>25</td></tr><tr><td>26</td><td>27</td><td>28</td><td>29</td><td>30</td><td>31</td><td>32</td><td>33</td><td>34</td><td>35</td><td>36</td><td>37</td><td>38</td></tr><tr><td>39</td><td>40</td><td>41</td><td>42</td><td>43</td><td>44</td><td>45</td><td>46</td><td>47</td><td>48</td><td>49</td><td>50</td><td>51</td></tr><tr><td>52</td><td>53</td><td>54</td><td>55</td><td>56</td><td>57</td><td>58</td><td>59</td><td>60</td><td>61</td><td>62</td><td>63</td><td>64</td></tr><tr><td>65</td><td>66</td><td>67</td><td>68</td><td>69</td><td>70</td><td>71</td><td>72</td><td>73</td><td>74</td><td>75</td><td>76</td><td>77</td></tr><tr><td>78</td><td>79</td><td>80</td><td>81</td><td>82</td><td>83</td><td>84</td><td>85</td><td>86</td><td>87</td><td>88</td><td>89</td><td>90</td></tr><tr><td>91</td><td>92</td><td>93</td><td>94</td><td>95</td><td>96</td><td>97</td><td>98</td><td>99</td><td></td><td></td><td></td><td></td></tr></table>"
      ],
      "text/plain": [
       "<IPython.core.display.HTML object>"
      ]
     },
     "execution_count": 5,
     "metadata": {},
     "output_type": "execute_result"
    }
   ],
   "source": [
    "L = list(range(100))\n",
    "T = list2table(L, 13)\n",
    "HTML(T)"
   ]
  },
  {
   "cell_type": "code",
   "execution_count": 6,
   "id": "3f5a623b-f54d-415d-803b-c7d361d4d170",
   "metadata": {},
   "outputs": [
    {
     "data": {
      "text/html": [
       "<table><tr><td>1</td><td>2</td><td></td><td></td><td></td></tr></table>"
      ],
      "text/plain": [
       "<IPython.core.display.HTML object>"
      ]
     },
     "execution_count": 6,
     "metadata": {},
     "output_type": "execute_result"
    }
   ],
   "source": [
    "L = [1, 2]\n",
    "T = list2table(L, 5)\n",
    "HTML(T)"
   ]
  },
  {
   "cell_type": "code",
   "execution_count": 7,
   "id": "fec01a18-99b1-4bea-948e-fa8d68390c62",
   "metadata": {},
   "outputs": [
    {
     "name": "stdout",
     "output_type": "stream",
     "text": [
      "Help on function divisor_sum in module smalllab.nt:\n",
      "\n",
      "divisor_sum(n: int) -> int\n",
      "    Find the sum of all positif divisors of n.\n",
      "\n"
     ]
    }
   ],
   "source": [
    "help(divisor_sum)"
   ]
  },
  {
   "cell_type": "code",
   "execution_count": 8,
   "id": "8e7cd8b4-6dbe-4efb-9559-9e0a7e17b5f5",
   "metadata": {},
   "outputs": [],
   "source": [
    "L = []\n",
    "for j in range(1, 66):\n",
    "    divsum = divisor_sum(j)\n",
    "    L.append(f\"$\\sigma({j}) = {divsum}$\")"
   ]
  },
  {
   "cell_type": "code",
   "execution_count": 9,
   "id": "3bc5882a-e6fa-47df-93b2-af5a6b1b19a5",
   "metadata": {},
   "outputs": [
    {
     "data": {
      "text/html": [
       "<table><tr><td>$\\sigma(1) = 1$</td><td>$\\sigma(2) = 3$</td><td>$\\sigma(3) = 4$</td><td>$\\sigma(4) = 7$</td><td>$\\sigma(5) = 6$</td></tr><tr><td>$\\sigma(6) = 12$</td><td>$\\sigma(7) = 8$</td><td>$\\sigma(8) = 15$</td><td>$\\sigma(9) = 13$</td><td>$\\sigma(10) = 18$</td></tr><tr><td>$\\sigma(11) = 12$</td><td>$\\sigma(12) = 28$</td><td>$\\sigma(13) = 14$</td><td>$\\sigma(14) = 24$</td><td>$\\sigma(15) = 24$</td></tr><tr><td>$\\sigma(16) = 31$</td><td>$\\sigma(17) = 18$</td><td>$\\sigma(18) = 39$</td><td>$\\sigma(19) = 20$</td><td>$\\sigma(20) = 42$</td></tr><tr><td>$\\sigma(21) = 32$</td><td>$\\sigma(22) = 36$</td><td>$\\sigma(23) = 24$</td><td>$\\sigma(24) = 60$</td><td>$\\sigma(25) = 31$</td></tr><tr><td>$\\sigma(26) = 42$</td><td>$\\sigma(27) = 40$</td><td>$\\sigma(28) = 56$</td><td>$\\sigma(29) = 30$</td><td>$\\sigma(30) = 72$</td></tr><tr><td>$\\sigma(31) = 32$</td><td>$\\sigma(32) = 63$</td><td>$\\sigma(33) = 48$</td><td>$\\sigma(34) = 54$</td><td>$\\sigma(35) = 48$</td></tr><tr><td>$\\sigma(36) = 91$</td><td>$\\sigma(37) = 38$</td><td>$\\sigma(38) = 60$</td><td>$\\sigma(39) = 56$</td><td>$\\sigma(40) = 90$</td></tr><tr><td>$\\sigma(41) = 42$</td><td>$\\sigma(42) = 96$</td><td>$\\sigma(43) = 44$</td><td>$\\sigma(44) = 84$</td><td>$\\sigma(45) = 78$</td></tr><tr><td>$\\sigma(46) = 72$</td><td>$\\sigma(47) = 48$</td><td>$\\sigma(48) = 124$</td><td>$\\sigma(49) = 57$</td><td>$\\sigma(50) = 93$</td></tr><tr><td>$\\sigma(51) = 72$</td><td>$\\sigma(52) = 98$</td><td>$\\sigma(53) = 54$</td><td>$\\sigma(54) = 120$</td><td>$\\sigma(55) = 72$</td></tr><tr><td>$\\sigma(56) = 120$</td><td>$\\sigma(57) = 80$</td><td>$\\sigma(58) = 90$</td><td>$\\sigma(59) = 60$</td><td>$\\sigma(60) = 168$</td></tr><tr><td>$\\sigma(61) = 62$</td><td>$\\sigma(62) = 96$</td><td>$\\sigma(63) = 104$</td><td>$\\sigma(64) = 127$</td><td>$\\sigma(65) = 84$</td></tr></table>"
      ],
      "text/plain": [
       "<IPython.core.display.HTML object>"
      ]
     },
     "execution_count": 9,
     "metadata": {},
     "output_type": "execute_result"
    }
   ],
   "source": [
    "T = list2table(L, 5)\n",
    "HTML(T)"
   ]
  },
  {
   "cell_type": "code",
   "execution_count": null,
   "id": "147a9fdc-dfe1-44f5-a3e7-eb8c57371dde",
   "metadata": {},
   "outputs": [],
   "source": []
  }
 ],
 "metadata": {
  "kernelspec": {
   "display_name": "Python 3 (ipykernel)",
   "language": "python",
   "name": "python3"
  },
  "language_info": {
   "codemirror_mode": {
    "name": "ipython",
    "version": 3
   },
   "file_extension": ".py",
   "mimetype": "text/x-python",
   "name": "python",
   "nbconvert_exporter": "python",
   "pygments_lexer": "ipython3",
   "version": "3.11.6"
  }
 },
 "nbformat": 4,
 "nbformat_minor": 5
}
