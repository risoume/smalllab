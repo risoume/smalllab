{
 "cells": [
  {
   "cell_type": "markdown",
   "id": "8a77acdc-0c94-4b09-b442-ab1c0397a9f0",
   "metadata": {},
   "source": [
    "# Testing Table Generator"
   ]
  },
  {
   "cell_type": "code",
   "execution_count": 1,
   "id": "070b63d9-e972-49ef-9379-23692645588f",
   "metadata": {},
   "outputs": [],
   "source": [
    "from IPython.display import display, HTML\n",
    "import lib_path\n",
    "from smalllab.nt import totient"
   ]
  },
  {
   "cell_type": "code",
   "execution_count": 2,
   "id": "f6583df6-502b-4db3-aba2-91c451d6b043",
   "metadata": {},
   "outputs": [
    {
     "data": {
      "text/html": [
       "<h1>Hello World!</h1>"
      ],
      "text/plain": [
       "<IPython.core.display.HTML object>"
      ]
     },
     "metadata": {},
     "output_type": "display_data"
    }
   ],
   "source": [
    "display(HTML('<h1>Hello World!</h1>'))"
   ]
  },
  {
   "cell_type": "code",
   "execution_count": 3,
   "id": "73bc434b-1a3e-4d61-97da-d78ce7823635",
   "metadata": {},
   "outputs": [],
   "source": [
    "T = \"\"\"\n",
    "<table>\n",
    "    <tr>\n",
    "        <th>Item</th>\n",
    "        <th>Count</th>\n",
    "    </tr>\n",
    "    <tr>\n",
    "        <td>Mango</td>\n",
    "        <td>125</td>\n",
    "    </tr>\n",
    "    <tr>\n",
    "        <td>Orange</td>\n",
    "        <td>75</td>\n",
    "    </tr>\n",
    "</table>\"\"\""
   ]
  },
  {
   "cell_type": "code",
   "execution_count": 4,
   "id": "94fd6a35-046b-444f-9ef9-8b38aa4459da",
   "metadata": {},
   "outputs": [
    {
     "data": {
      "text/html": [
       "\n",
       "<table>\n",
       "    <tr>\n",
       "        <th>Item</th>\n",
       "        <th>Count</th>\n",
       "    </tr>\n",
       "    <tr>\n",
       "        <td>Mango</td>\n",
       "        <td>125</td>\n",
       "    </tr>\n",
       "    <tr>\n",
       "        <td>Orange</td>\n",
       "        <td>75</td>\n",
       "    </tr>\n",
       "</table>"
      ],
      "text/plain": [
       "<IPython.core.display.HTML object>"
      ]
     },
     "metadata": {},
     "output_type": "display_data"
    }
   ],
   "source": [
    "display(HTML(T))"
   ]
  },
  {
   "cell_type": "markdown",
   "id": "0dea2131-68e9-40f8-a494-89b619ddb6b6",
   "metadata": {},
   "source": [
    "## Horizontal, no heading, 1 row"
   ]
  },
  {
   "cell_type": "code",
   "execution_count": 5,
   "id": "037f4f01-31a1-40d7-aee3-fe172abc068a",
   "metadata": {},
   "outputs": [],
   "source": [
    "def table_h(L):\n",
    "    s = \"<table>\"\n",
    "    s += \"<tr>\"\n",
    "    for i in L:\n",
    "        s += \"<td>\" + str(i) + \"</td>\" \n",
    "    s += \"</tr>\"\n",
    "    s += \"</table>\"\n",
    "    return s"
   ]
  },
  {
   "cell_type": "code",
   "execution_count": 6,
   "id": "44ad8444-e152-4203-897c-ca2b50cba613",
   "metadata": {},
   "outputs": [
    {
     "data": {
      "text/html": [
       "<table><tr><td>1</td><td>2</td><td>3</td><td>4</td></tr></table>"
      ],
      "text/plain": [
       "<IPython.core.display.HTML object>"
      ]
     },
     "execution_count": 6,
     "metadata": {},
     "output_type": "execute_result"
    }
   ],
   "source": [
    "num = [1, 2, 3, 4]\n",
    "squares = [1, 4, 9, 16]\n",
    "T = table_h(num)\n",
    "HTML(T)"
   ]
  },
  {
   "cell_type": "markdown",
   "id": "6c8a22b7-8e34-4ae7-aa79-ce0c3f5749f2",
   "metadata": {},
   "source": [
    "## Vertical, no heading, 1 column"
   ]
  },
  {
   "cell_type": "code",
   "execution_count": 7,
   "id": "fcf8fc25-c3a2-4661-84b6-72d82b14ac66",
   "metadata": {},
   "outputs": [],
   "source": [
    "def table_v(L):\n",
    "    s = \"<table>\"\n",
    "    for i in L:\n",
    "        s += \"<tr>\"\n",
    "        s += \"<td>\" + str(i) + \"</td>\" \n",
    "        s += \"</tr>\"\n",
    "    s += \"</table>\"\n",
    "    return s"
   ]
  },
  {
   "cell_type": "code",
   "execution_count": 8,
   "id": "4e4594ab-c71d-4390-9240-cbb293093dff",
   "metadata": {},
   "outputs": [
    {
     "data": {
      "text/html": [
       "<table><tr><td>1</td></tr><tr><td>2</td></tr><tr><td>3</td></tr><tr><td>4</td></tr></table>"
      ],
      "text/plain": [
       "<IPython.core.display.HTML object>"
      ]
     },
     "execution_count": 8,
     "metadata": {},
     "output_type": "execute_result"
    }
   ],
   "source": [
    "num = [1, 2, 3, 4]\n",
    "squares = [1, 4, 9, 16]\n",
    "T = table_v(num)\n",
    "HTML(T)"
   ]
  },
  {
   "cell_type": "markdown",
   "id": "d31c89af-bbab-4865-9202-6bca67a7ad67",
   "metadata": {},
   "source": [
    "## Horizontal, no heading, many rows"
   ]
  },
  {
   "cell_type": "code",
   "execution_count": 9,
   "id": "12253e1d-cd80-40dc-acce-d629fdbfafe4",
   "metadata": {},
   "outputs": [],
   "source": [
    "def table_h(*Ls):\n",
    "    s = \"<table>\"\n",
    "    for L in Ls:\n",
    "        s += \"<tr>\"\n",
    "        for j in L:\n",
    "            s += \"<td>\" + str(j) + \"</td>\"\n",
    "        s += \"</tr>\"    \n",
    "    s += \"</table>\"\n",
    "    return s"
   ]
  },
  {
   "cell_type": "code",
   "execution_count": 10,
   "id": "7216a0f3-e4a4-4da4-97ff-98720774661c",
   "metadata": {},
   "outputs": [
    {
     "data": {
      "text/html": [
       "<table><tr><td>1</td><td>2</td><td>3</td><td>4</td></tr><tr><td>1</td><td>4</td><td>9</td><td>16</td></tr><tr><td>1</td><td>8</td><td>27</td><td>64</td></tr></table>"
      ],
      "text/plain": [
       "<IPython.core.display.HTML object>"
      ]
     },
     "execution_count": 10,
     "metadata": {},
     "output_type": "execute_result"
    }
   ],
   "source": [
    "ns = [1, 2, 3, 4]\n",
    "squares = [i*i for i in ns]\n",
    "cubes= [i**3 for i in ns]\n",
    "T = table_h(ns, squares, cubes)\n",
    "HTML(T)"
   ]
  },
  {
   "cell_type": "markdown",
   "id": "1059cb63-58b8-407f-9273-4ea94ff89479",
   "metadata": {},
   "source": [
    "## Vertical, no heading, many columns"
   ]
  },
  {
   "cell_type": "code",
   "execution_count": 11,
   "id": "463face7-f15e-4ea5-b5ea-6a57fc8af035",
   "metadata": {},
   "outputs": [],
   "source": [
    "def table_v(*Ls):\n",
    "    s = \"<table>\"\n",
    "    for j in range(len(Ls[0])):\n",
    "        s += \"<tr>\"\n",
    "        for k in range(len(Ls)):\n",
    "            s += \"<td>\" + str(Ls[k][j]) + \"</td>\"\n",
    "        s += \"</tr>\"    \n",
    "    s += \"</table>\"\n",
    "    return s"
   ]
  },
  {
   "cell_type": "code",
   "execution_count": 12,
   "id": "bc8a999e-9bc4-425b-9d07-271b28d5ce06",
   "metadata": {},
   "outputs": [
    {
     "data": {
      "text/html": [
       "<table><tr><td>1</td><td>1</td><td>1</td></tr><tr><td>2</td><td>4</td><td>8</td></tr><tr><td>3</td><td>9</td><td>27</td></tr><tr><td>4</td><td>16</td><td>64</td></tr></table>"
      ],
      "text/plain": [
       "<IPython.core.display.HTML object>"
      ]
     },
     "execution_count": 12,
     "metadata": {},
     "output_type": "execute_result"
    }
   ],
   "source": [
    "ns = [1, 2, 3, 4]\n",
    "squares = [i*i for i in ns]\n",
    "cubes= [i**3 for i in ns]\n",
    "T = table_v(ns, squares, cubes)\n",
    "HTML(T)"
   ]
  },
  {
   "cell_type": "markdown",
   "id": "93c4836c-bd9b-45e4-8daf-efbe697a1854",
   "metadata": {},
   "source": [
    "## Horizontal, heading, many rows"
   ]
  },
  {
   "cell_type": "code",
   "execution_count": 13,
   "id": "f00a9a47-a7b8-4173-aa9c-42b097704254",
   "metadata": {},
   "outputs": [],
   "source": [
    "def table_h(H: list, *L: list) -> str:\n",
    "    \"\"\"Return html table with heading H and rows *L = L1, l2, ..., Ln.\n",
    "    If there is no heading, enter empty list as the first argument.\n",
    "    \"\"\"\n",
    "    list_count = len(L)\n",
    "    elem_count = len(L[0])\n",
    "    \n",
    "    s = \"<table>\"\n",
    "    for j in range(list_count):\n",
    "        s += \"<tr>\"\n",
    "        if H:\n",
    "            s += \"<th>\" + str( H[j] ) + \"</th>\"\n",
    "        for k in range(elem_count):\n",
    "            s += \"<td>\" + str( L[j][k] ) + \"</td>\"\n",
    "        s += \"</tr>\"\n",
    "        \n",
    "    s += \"</table>\"\n",
    "    return s"
   ]
  },
  {
   "cell_type": "code",
   "execution_count": 14,
   "id": "06a719ba-3772-4cea-a5b4-61ac94a3c725",
   "metadata": {},
   "outputs": [
    {
     "name": "stdout",
     "output_type": "stream",
     "text": [
      "Help on function table_h in module __main__:\n",
      "\n",
      "table_h(H: list, *L: list) -> str\n",
      "    Return html table with heading H and rows *L = L1, l2, ..., Ln.\n",
      "    If there is no heading, enter empty list as the first argument.\n",
      "\n"
     ]
    }
   ],
   "source": [
    "help(table_h)"
   ]
  },
  {
   "cell_type": "code",
   "execution_count": 15,
   "id": "c5cfaae6-d83d-4ccc-ae62-95c49f99b07c",
   "metadata": {},
   "outputs": [
    {
     "data": {
      "text/html": [
       "<table><tr><th>$n$</th><td>1</td><td>2</td><td>3</td><td>4</td></tr><tr><th>$n^2$</th><td>1</td><td>4</td><td>9</td><td>16</td></tr><tr><th>$n^3$</th><td>1</td><td>8</td><td>27</td><td>64</td></tr></table>"
      ],
      "text/plain": [
       "<IPython.core.display.HTML object>"
      ]
     },
     "execution_count": 15,
     "metadata": {},
     "output_type": "execute_result"
    }
   ],
   "source": [
    "ns = [1, 2, 3, 4]\n",
    "squares = [i*i for i in ns]\n",
    "cubes= [i**3 for i in ns]\n",
    "head = ['$n$', '$n^2$', '$n^3$']\n",
    "T = table_h(head, ns, squares, cubes)\n",
    "HTML(T)"
   ]
  },
  {
   "cell_type": "code",
   "execution_count": 16,
   "id": "8f1af502-4f65-4ff9-89c4-dd6592bdf5fd",
   "metadata": {},
   "outputs": [
    {
     "data": {
      "text/html": [
       "<table><tr><td>1</td><td>2</td><td>3</td><td>4</td></tr><tr><td>1</td><td>4</td><td>9</td><td>16</td></tr><tr><td>1</td><td>8</td><td>27</td><td>64</td></tr></table>"
      ],
      "text/plain": [
       "<IPython.core.display.HTML object>"
      ]
     },
     "execution_count": 16,
     "metadata": {},
     "output_type": "execute_result"
    }
   ],
   "source": [
    "T = table_h([], ns, squares, cubes)\n",
    "HTML(T)"
   ]
  },
  {
   "cell_type": "markdown",
   "id": "a28564e4-01d5-4c2b-9667-1cf726cadc77",
   "metadata": {},
   "source": [
    "## Vertical, heading, many columns"
   ]
  },
  {
   "cell_type": "code",
   "execution_count": 17,
   "id": "965a311f-ed59-4a77-9ffc-9278dd518390",
   "metadata": {},
   "outputs": [],
   "source": [
    "def table_v(H: list, *L: list) -> str:\n",
    "    \"\"\"Return html table with heading H and columns *L = L1, l2, ..., Ln.\n",
    "    If there is no heading, enter empty list as the first argument.\n",
    "    \"\"\"\n",
    "    list_count = len(L)\n",
    "    elem_count = len(L[0])\n",
    "    \n",
    "    s = \"<table>\"\n",
    "    if H:\n",
    "        s += \"<tr>\"\n",
    "        for h in H:\n",
    "            s += \"<th>\" + str( h ) + \"</th>\"\n",
    "        s += \"</tr>\"\n",
    "    \n",
    "    for j in range(elem_count):\n",
    "        s += \"<tr>\"\n",
    "        for k in range(list_count):\n",
    "            s += \"<td>\" + str( L[k][j] ) + \"</td>\"\n",
    "        s += \"</tr>\"  \n",
    "        \n",
    "    s += \"</table>\"\n",
    "    return s"
   ]
  },
  {
   "cell_type": "code",
   "execution_count": 18,
   "id": "36770b56-8c78-48b5-bbfa-4b12be6509d4",
   "metadata": {},
   "outputs": [
    {
     "name": "stdout",
     "output_type": "stream",
     "text": [
      "Help on function table_v in module __main__:\n",
      "\n",
      "table_v(H: list, *L: list) -> str\n",
      "    Return html table with heading H and columns *L = L1, l2, ..., Ln.\n",
      "    If there is no heading, enter empty list as the first argument.\n",
      "\n"
     ]
    }
   ],
   "source": [
    "help(table_v)"
   ]
  },
  {
   "cell_type": "code",
   "execution_count": 19,
   "id": "c025a306-189c-41d5-aba7-e73b271ba755",
   "metadata": {},
   "outputs": [
    {
     "data": {
      "text/html": [
       "<table><tr><th>$n$</th><th>$n^2$</th><th>$n^3$</th></tr><tr><td>1</td><td>1</td><td>1</td></tr><tr><td>2</td><td>4</td><td>8</td></tr><tr><td>3</td><td>9</td><td>27</td></tr><tr><td>4</td><td>16</td><td>64</td></tr></table>"
      ],
      "text/plain": [
       "<IPython.core.display.HTML object>"
      ]
     },
     "execution_count": 19,
     "metadata": {},
     "output_type": "execute_result"
    }
   ],
   "source": [
    "ns = [1, 2, 3, 4]\n",
    "squares = [i*i for i in ns]\n",
    "cubes= [i**3 for i in ns]\n",
    "head = ['$n$', '$n^2$', '$n^3$']\n",
    "T = table_v(head, ns, squares, cubes)\n",
    "HTML(T)"
   ]
  },
  {
   "cell_type": "code",
   "execution_count": 20,
   "id": "c155f669-edcb-4506-9479-55d5766b4539",
   "metadata": {},
   "outputs": [
    {
     "data": {
      "text/html": [
       "<table><tr><td>1</td><td>1</td><td>1</td></tr><tr><td>2</td><td>4</td><td>8</td></tr><tr><td>3</td><td>9</td><td>27</td></tr><tr><td>4</td><td>16</td><td>64</td></tr></table>"
      ],
      "text/plain": [
       "<IPython.core.display.HTML object>"
      ]
     },
     "execution_count": 20,
     "metadata": {},
     "output_type": "execute_result"
    }
   ],
   "source": [
    "T = table_v([], ns, squares, cubes)\n",
    "HTML(T)"
   ]
  },
  {
   "cell_type": "markdown",
   "id": "4e8c22e1-2ec0-42a4-b02e-4fa1a1fc60a1",
   "metadata": {},
   "source": [
    "## Display Euler Phi Function"
   ]
  },
  {
   "cell_type": "code",
   "execution_count": 21,
   "id": "106bd53b-27ed-4afa-9889-82d049075764",
   "metadata": {},
   "outputs": [
    {
     "name": "stdout",
     "output_type": "stream",
     "text": [
      "Help on function totient in module smalllab.nt:\n",
      "\n",
      "totient(n: int) -> int\n",
      "    Count the number of positive integers <= n that are coprime to n.\n",
      "\n"
     ]
    }
   ],
   "source": [
    "help(totient)"
   ]
  },
  {
   "cell_type": "code",
   "execution_count": 22,
   "id": "457d4a83-4edd-4275-a9e0-f297c07d8d75",
   "metadata": {},
   "outputs": [
    {
     "data": {
      "text/html": [
       "<table><tr><th>$n$</th><td>5</td><td>6</td><td>7</td><td>8</td><td>9</td><td>10</td><td>11</td><td>12</td><td>13</td><td>14</td><td>15</td><td>16</td><td>17</td><td>18</td><td>19</td></tr><tr><th>$\\phi(n)$</th><td>4</td><td>2</td><td>6</td><td>4</td><td>6</td><td>4</td><td>10</td><td>4</td><td>12</td><td>6</td><td>8</td><td>8</td><td>16</td><td>6</td><td>18</td></tr></table>"
      ],
      "text/plain": [
       "<IPython.core.display.HTML object>"
      ]
     },
     "execution_count": 22,
     "metadata": {},
     "output_type": "execute_result"
    }
   ],
   "source": [
    "ns = list(range(5, 20))\n",
    "phi = [totient(i) for i in ns]\n",
    "head = ['$n$', '$\\phi(n)$']\n",
    "T = table_h(head, ns, phi)\n",
    "HTML(T)"
   ]
  },
  {
   "cell_type": "markdown",
   "id": "e62b9647-6e48-45a5-8f2a-ca9f5b00dc95",
   "metadata": {},
   "source": [
    "## Display modulo"
   ]
  },
  {
   "cell_type": "code",
   "execution_count": 23,
   "id": "d283fde5-8efa-41de-b18d-a6828d236d2b",
   "metadata": {},
   "outputs": [
    {
     "data": {
      "text/html": [
       "<table><tr><th>$x\\pmod{11}$</th><td>0</td><td>1</td><td>2</td><td>3</td><td>4</td><td>5</td><td>6</td><td>7</td><td>8</td><td>9</td><td>10</td></tr><tr><th>$x^3\\pmod{11}$</th><td>0</td><td>1</td><td>8</td><td>5</td><td>9</td><td>4</td><td>7</td><td>2</td><td>6</td><td>3</td><td>10</td></tr></table>"
      ],
      "text/plain": [
       "<IPython.core.display.HTML object>"
      ]
     },
     "execution_count": 23,
     "metadata": {},
     "output_type": "execute_result"
    }
   ],
   "source": [
    "ns = list(range(11))\n",
    "mod3 = [i**3 % 11 for i in ns]\n",
    "head = ['$x\\pmod{11}$', '$x^3\\pmod{11}$']\n",
    "T = table_h(head, ns, mod3)\n",
    "HTML(T)"
   ]
  },
  {
   "cell_type": "markdown",
   "id": "33418ddf-4202-42c7-bd8c-921393057997",
   "metadata": {},
   "source": [
    "## Todo"
   ]
  },
  {
   "cell_type": "markdown",
   "id": "f572f3ed-e508-4b37-b11f-bdca83c27ca5",
   "metadata": {},
   "source": [
    "- input validition\n",
    "- display nested list or matrix\n",
    "- display dictionary\n",
    "- make 2 index or heading\n",
    "- dealing with fraction entries and latex\n",
    "- display cartesian product or cayley table\n",
    "- display simplex table and show marks for pivot column or row\n",
    "- display table for hungarian method"
   ]
  },
  {
   "cell_type": "code",
   "execution_count": null,
   "id": "81fd83e8-3f52-4af7-89a9-071b454b3663",
   "metadata": {},
   "outputs": [],
   "source": []
  }
 ],
 "metadata": {
  "kernelspec": {
   "display_name": "Python 3 (ipykernel)",
   "language": "python",
   "name": "python3"
  },
  "language_info": {
   "codemirror_mode": {
    "name": "ipython",
    "version": 3
   },
   "file_extension": ".py",
   "mimetype": "text/x-python",
   "name": "python",
   "nbconvert_exporter": "python",
   "pygments_lexer": "ipython3",
   "version": "3.11.6"
  }
 },
 "nbformat": 4,
 "nbformat_minor": 5
}
