{
 "cells": [
  {
   "cell_type": "markdown",
   "id": "7fa13542-ac1c-450f-a003-f3e1ecd7875c",
   "metadata": {},
   "source": [
    "# Newton's Method"
   ]
  },
  {
   "cell_type": "code",
   "execution_count": 1,
   "id": "54eb63ec-ab34-4ff4-a9c7-3a57bea0399e",
   "metadata": {},
   "outputs": [],
   "source": [
    "import lib_path\n",
    "from smalllab.table import table_h2_tex\n",
    "from IPython.display import HTML\n",
    "from math import sqrt"
   ]
  },
  {
   "cell_type": "markdown",
   "id": "7dbd2901-2ca9-45c6-afa3-24fe5266fbc3",
   "metadata": {},
   "source": [
    "The equation of the line tangent to the graph of $f(x)$ at $(x_0,f(x_0))$ is\n",
    "$$\n",
    "p_1(x) = f(x_0) + f'(x_0)(x-x_0).\n",
    "$$\n",
    "The root of $p_1(x)$ is\n",
    "$$\n",
    "x_1 = x_0 - \\frac{f(x_0)}{f'(x_0)}.\n",
    "$$\n",
    "Repeating this process, we obtain\n",
    "$$\n",
    "x_{n+1} = x_n - \\frac{f(x_n)}{f'(x_n)}, \\qquad n=0,1,2,\\ldots\n",
    "$$"
   ]
  },
  {
   "cell_type": "code",
   "execution_count": 2,
   "id": "6d94c11a-7b36-4ddd-8b64-8fff72e4ba4d",
   "metadata": {},
   "outputs": [
    {
     "name": "stdout",
     "output_type": "stream",
     "text": [
      "n       x_n         f(x_n)   x_n-x_(n-1)\n",
      " 0   1.50000000    8.89e+00 \n",
      " 1   1.30049088    2.54e+00  -2.00e-01 \n",
      " 2   1.18148042    5.38e-01  -1.19e-01 \n",
      " 3   1.13945559    4.92e-02  -4.20e-02 \n",
      " 4   1.13477763    5.50e-04  -4.68e-03 \n",
      " 5   1.13472415    7.11e-08  -5.35e-05 \n",
      " 6   1.13472414    1.55e-15  -6.91e-09 \n"
     ]
    }
   ],
   "source": [
    "f = lambda x: x**6 - x - 1\n",
    "df = lambda x: 6 * x**5 - 1\n",
    "x0 = 1.5\n",
    "\n",
    "print(\"{:^2} {:^14} {:^10} {:^10}\".format(\"n\", \"x_n\", \"f(x_n)\", \"x_n-x_(n-1)\"))\n",
    "print(f\" 0 {x0:^14.8f} {f(x0):^10.2e}\")\n",
    "for j in range(1, 7):\n",
    "    xn = x0 - f(x0) / df(x0)\n",
    "    err = xn - x0\n",
    "    x0 = xn\n",
    "    print(f\"{j:2} {xn:^14.8f} {f(xn):^10.2e} {err:^10.2e}\")"
   ]
  },
  {
   "cell_type": "code",
   "execution_count": 3,
   "id": "80e8687f-5063-4a24-a2ae-7765035fb690",
   "metadata": {},
   "outputs": [
    {
     "name": "stdout",
     "output_type": "stream",
     "text": [
      "Help on function table_h2_tex in module smalllab.table:\n",
      "\n",
      "table_h2_tex(H: list, *L: list) -> str\n",
      "    Return html table with heading H and rows *L = L1, l2, ..., Ln.\n",
      "    If there is no heading, enter empty list as the first argument.\n",
      "    The heading is displayed as row.\n",
      "    All entries are displayed in LaTeX.\n",
      "\n"
     ]
    }
   ],
   "source": [
    "help(table_h2_tex)"
   ]
  },
  {
   "cell_type": "code",
   "execution_count": 4,
   "id": "47a330a8-5b9f-4805-8e4f-44637024cce5",
   "metadata": {},
   "outputs": [
    {
     "data": {
      "text/html": [
       "<table><tr><th>$n$</th><th>$x_n$</th><th>$f(x_n)$</th><th>$x_n-x_{n-1}$</th></tr><tr><td>$0$</td><td>$  1.50000000  $</td><td>$ 8.89e+00 $</td><td>$ $</td></tr><tr><td>$ 1$</td><td>$  1.30049088  $</td><td>$ 2.54e+00 $</td><td>$-2.00e-01 $</td></tr><tr><td>$ 2$</td><td>$  1.18148042  $</td><td>$ 5.38e-01 $</td><td>$-1.19e-01 $</td></tr><tr><td>$ 3$</td><td>$  1.13945559  $</td><td>$ 4.92e-02 $</td><td>$-4.20e-02 $</td></tr><tr><td>$ 4$</td><td>$  1.13477763  $</td><td>$ 5.50e-04 $</td><td>$-4.68e-03 $</td></tr><tr><td>$ 5$</td><td>$  1.13472415  $</td><td>$ 7.11e-08 $</td><td>$-5.35e-05 $</td></tr><tr><td>$ 6$</td><td>$  1.13472414  $</td><td>$ 1.55e-15 $</td><td>$-6.91e-09 $</td></tr></table>"
      ],
      "text/plain": [
       "<IPython.core.display.HTML object>"
      ]
     },
     "execution_count": 4,
     "metadata": {},
     "output_type": "execute_result"
    }
   ],
   "source": [
    "f = lambda x: x**6 - x - 1\n",
    "df = lambda x: 6 * x**5 - 1\n",
    "x0 = 1.5\n",
    "M = []\n",
    "\n",
    "H = [\"$n$\", \"$x_n$\", \"$f(x_n)$\", \"$x_n-x_{n-1}$\"]\n",
    "M.append([\"0\", f\"{x0:^14.8f}\", f\"{f(x0):^10.2e}\", \" \"])\n",
    "for j in range(1, 7):\n",
    "    xn = x0 - f(x0) / df(x0)\n",
    "    err = xn - x0\n",
    "    x0 = xn\n",
    "    M.append([f\"{j:2}\", f\"{xn:^14.8f}\", f\"{f(xn):^10.2e}\", f\"{err:^10.2e}\"])\n",
    "\n",
    "T = table_h2_tex(H, *M)\n",
    "HTML(T)"
   ]
  },
  {
   "cell_type": "code",
   "execution_count": 5,
   "id": "0d163a87-af76-425c-a6dd-7243651885f5",
   "metadata": {},
   "outputs": [],
   "source": [
    "def newton(f, df, x0, e, max_it) -> float | None:\n",
    "    \"\"\"Find a root of a functin using newton method.\n",
    "\n",
    "    Parameters\n",
    "    ----------\n",
    "    f : Callable\n",
    "        Function for which the root will be calculated.\n",
    "    df : Callable\n",
    "        The derivative of f.\n",
    "    x0 : int or float\n",
    "        Initial guess for the root.\n",
    "    e : int or float\n",
    "        Error tolerance.\n",
    "    max_it : int\n",
    "        Maximum iteration.\n",
    "    \"\"\"\n",
    "    for j in range(1, max_it + 1):\n",
    "        if df(x0) == 0:\n",
    "            raise ValueError(\"the derivative is zero\")\n",
    "            \n",
    "        x1 = x0 - f(x0) / df(x0)\n",
    "        error = x1 - x0\n",
    "        if abs(error) <= e:\n",
    "            return x1\n",
    "        x0 = x1\n",
    "        \n",
    "    return None"
   ]
  },
  {
   "cell_type": "code",
   "execution_count": 6,
   "id": "f2a32df4-50b2-4278-a36f-a766bc24fe89",
   "metadata": {},
   "outputs": [
    {
     "data": {
      "text/plain": [
       "1.1347241384015196"
      ]
     },
     "execution_count": 6,
     "metadata": {},
     "output_type": "execute_result"
    }
   ],
   "source": [
    "newton(f, df, 1.5, 1e-8, 6)"
   ]
  },
  {
   "cell_type": "code",
   "execution_count": 7,
   "id": "62641189-5888-4893-9c1f-e5bdd45038a8",
   "metadata": {},
   "outputs": [],
   "source": [
    "root = newton(f, df, 1.5, 1e-8, 3)"
   ]
  },
  {
   "cell_type": "code",
   "execution_count": 8,
   "id": "4e36900b-f274-4d00-a318-7630cc0aa53d",
   "metadata": {},
   "outputs": [
    {
     "data": {
      "text/plain": [
       "NoneType"
      ]
     },
     "execution_count": 8,
     "metadata": {},
     "output_type": "execute_result"
    }
   ],
   "source": [
    "type(root)"
   ]
  },
  {
   "cell_type": "markdown",
   "id": "059d1bf6-13d4-4ef5-b02d-0fc4f98c9ab9",
   "metadata": {},
   "source": [
    "### Case: Never ending cycle"
   ]
  },
  {
   "cell_type": "code",
   "execution_count": 9,
   "id": "36269d49-0ef9-4ab6-8797-c266c66ea9bf",
   "metadata": {},
   "outputs": [
    {
     "data": {
      "text/html": [
       "<table><tr><th>$n$</th><th>$x_n$</th><th>$f(x_n)$</th><th>$x_n-x_{n-1}$</th></tr><tr><td>$0$</td><td>$  1.00000000  $</td><td>$ 1.41e+00 $</td><td>$ $</td></tr><tr><td>$ 1$</td><td>$ -1.00000000  $</td><td>$ 1.41e+00 $</td><td>$-2.00e+00 $</td></tr><tr><td>$ 2$</td><td>$  1.00000000  $</td><td>$ 1.41e+00 $</td><td>$ 2.00e+00 $</td></tr><tr><td>$ 3$</td><td>$ -1.00000000  $</td><td>$ 1.41e+00 $</td><td>$-2.00e+00 $</td></tr><tr><td>$ 4$</td><td>$  1.00000000  $</td><td>$ 1.41e+00 $</td><td>$ 2.00e+00 $</td></tr><tr><td>$ 5$</td><td>$ -1.00000000  $</td><td>$ 1.41e+00 $</td><td>$-2.00e+00 $</td></tr><tr><td>$ 6$</td><td>$  1.00000000  $</td><td>$ 1.41e+00 $</td><td>$ 2.00e+00 $</td></tr></table>"
      ],
      "text/plain": [
       "<IPython.core.display.HTML object>"
      ]
     },
     "execution_count": 9,
     "metadata": {},
     "output_type": "execute_result"
    }
   ],
   "source": [
    "f = lambda x: sqrt(1 + x**2)\n",
    "df = lambda x: x/(sqrt(1 + x**2))\n",
    "x0 = 1.0\n",
    "M = []\n",
    "\n",
    "H = [\"$n$\", \"$x_n$\", \"$f(x_n)$\", \"$x_n-x_{n-1}$\"]\n",
    "M.append([\"0\", f\"{x0:^14.8f}\", f\"{f(x0):^10.2e}\", \" \"])\n",
    "for j in range(1, 7):\n",
    "    xn = x0 - f(x0) / df(x0)\n",
    "    err = xn - x0\n",
    "    x0 = xn\n",
    "    M.append([f\"{j:2}\", f\"{xn:^14.8f}\", f\"{f(xn):^10.2e}\", f\"{err:^10.2e}\"])\n",
    "\n",
    "T = table_h2_tex(H, *M)\n",
    "HTML(T)"
   ]
  },
  {
   "cell_type": "markdown",
   "id": "2680507f-0d87-42d2-8cfa-3a64ee8b42b5",
   "metadata": {},
   "source": [
    "### Case: When $f'(x_n)$ is zero"
   ]
  },
  {
   "cell_type": "code",
   "execution_count": 10,
   "id": "488a2c8b-bfb3-4d17-9345-8f88245d7b66",
   "metadata": {},
   "outputs": [
    {
     "ename": "ValueError",
     "evalue": "the derivative is zero",
     "output_type": "error",
     "traceback": [
      "\u001b[0;31m---------------------------------------------------------------------------\u001b[0m",
      "\u001b[0;31mValueError\u001b[0m                                Traceback (most recent call last)",
      "Cell \u001b[0;32mIn[10], line 3\u001b[0m\n\u001b[1;32m      1\u001b[0m h \u001b[38;5;241m=\u001b[39m \u001b[38;5;28;01mlambda\u001b[39;00m x: x\u001b[38;5;241m*\u001b[39m\u001b[38;5;241m*\u001b[39m\u001b[38;5;241m3\u001b[39m \u001b[38;5;241m-\u001b[39m \u001b[38;5;241m1\u001b[39m\n\u001b[1;32m      2\u001b[0m dh \u001b[38;5;241m=\u001b[39m \u001b[38;5;28;01mlambda\u001b[39;00m x: \u001b[38;5;241m3\u001b[39m \u001b[38;5;241m*\u001b[39m x\u001b[38;5;241m*\u001b[39m\u001b[38;5;241m*\u001b[39m\u001b[38;5;241m2\u001b[39m\n\u001b[0;32m----> 3\u001b[0m \u001b[43mnewton\u001b[49m\u001b[43m(\u001b[49m\u001b[43mh\u001b[49m\u001b[43m,\u001b[49m\u001b[43m \u001b[49m\u001b[43mdh\u001b[49m\u001b[43m,\u001b[49m\u001b[43m \u001b[49m\u001b[38;5;241;43m0\u001b[39;49m\u001b[43m,\u001b[49m\u001b[43m \u001b[49m\u001b[38;5;241;43m0.001\u001b[39;49m\u001b[43m,\u001b[49m\u001b[43m \u001b[49m\u001b[38;5;241;43m3\u001b[39;49m\u001b[43m)\u001b[49m\n",
      "Cell \u001b[0;32mIn[5], line 19\u001b[0m, in \u001b[0;36mnewton\u001b[0;34m(f, df, x0, e, max_it)\u001b[0m\n\u001b[1;32m     17\u001b[0m \u001b[38;5;28;01mfor\u001b[39;00m j \u001b[38;5;129;01min\u001b[39;00m \u001b[38;5;28mrange\u001b[39m(\u001b[38;5;241m1\u001b[39m, max_it \u001b[38;5;241m+\u001b[39m \u001b[38;5;241m1\u001b[39m):\n\u001b[1;32m     18\u001b[0m     \u001b[38;5;28;01mif\u001b[39;00m df(x0) \u001b[38;5;241m==\u001b[39m \u001b[38;5;241m0\u001b[39m:\n\u001b[0;32m---> 19\u001b[0m         \u001b[38;5;28;01mraise\u001b[39;00m \u001b[38;5;167;01mValueError\u001b[39;00m(\u001b[38;5;124m\"\u001b[39m\u001b[38;5;124mthe derivative is zero\u001b[39m\u001b[38;5;124m\"\u001b[39m)\n\u001b[1;32m     21\u001b[0m     x1 \u001b[38;5;241m=\u001b[39m x0 \u001b[38;5;241m-\u001b[39m f(x0) \u001b[38;5;241m/\u001b[39m df(x0)\n\u001b[1;32m     22\u001b[0m     error \u001b[38;5;241m=\u001b[39m x1 \u001b[38;5;241m-\u001b[39m x0\n",
      "\u001b[0;31mValueError\u001b[0m: the derivative is zero"
     ]
    }
   ],
   "source": [
    "h = lambda x: x**3 - 1\n",
    "dh = lambda x: 3 * x**2\n",
    "newton(h, dh, 0, 0.001, 3)"
   ]
  },
  {
   "cell_type": "markdown",
   "id": "59632a01-02fd-4a92-b44f-d96edeb4519e",
   "metadata": {},
   "source": [
    "## Computing $1/b$"
   ]
  },
  {
   "cell_type": "markdown",
   "id": "bac10f7b-864f-4a3a-9a3a-cf6451e03c95",
   "metadata": {},
   "source": [
    "We solve\n",
    "$$\n",
    "f(x) = b - \\frac{1}{x} = 0\n",
    "$$\n",
    "where $b>0$. The Newton's method is given by\n",
    "$$\n",
    "x_{n+1} = x_n - \\frac{b-\\frac{1}{x_n}}{\\frac{1}{x_n^2}}.\n",
    "$$\n",
    "$$\n",
    "x_{n+1} = x_n(2-bx_n).\n",
    "$$\n",
    "\n",
    "The above iteration converges to $\\alpha=1/b$ iff the initial guess $x_0$ satisfies\n",
    "$$\n",
    "0 < x_0 < \\frac{2}{b}.\n",
    "$$"
   ]
  },
  {
   "cell_type": "code",
   "execution_count": 11,
   "id": "f36acd9a-f4f8-409d-a9cd-d50400704dae",
   "metadata": {},
   "outputs": [
    {
     "name": "stdout",
     "output_type": "stream",
     "text": [
      "0.17\n",
      "0.2533\n",
      "0.31411733000000003\n",
      "0.3322255689810133\n",
      "0.3333296519077525\n",
      "0.3333333332926746\n",
      "0.33333333333333337\n",
      "0.33333333333333337\n",
      "0.33333333333333337\n"
     ]
    }
   ],
   "source": [
    "b = 3\n",
    "x0 = 0.1\n",
    "for j in range(1, 10):\n",
    "    x1 = x0 * (2 - b * x0)\n",
    "    print(x1)\n",
    "    x0 = x1"
   ]
  },
  {
   "cell_type": "markdown",
   "id": "2a3b999f-871a-40c1-b4ca-00eb8d0e198d",
   "metadata": {},
   "source": [
    "## Error"
   ]
  },
  {
   "cell_type": "markdown",
   "id": "867cccb3-8a67-4984-8da7-ada192f4e434",
   "metadata": {},
   "source": [
    "Assume $f(x)$ has at least two continuous derivatives for all $x$ in some interval about the root $\\alpha$\n",
    "and $f'(\\alpha)\\neq 0$.\n",
    "\n",
    "From Taylor's theorem\n",
    "$$\n",
    "f(\\alpha) = f(x_n)+(\\alpha-x_n)f'(x_n) + (\\alpha-x_n)^2 f''(c_n)\n",
    "$$\n",
    "with $c_n$ between $\\alpha$ and $x_n$.\n",
    "\n",
    "Dividing by $f'(x_n)$ and substitute $f(x_n)/f'(x_n)=x_n-x_{n+1}$ and then solve for $\\alpha-x_{n+1}$ we have\n",
    "$$\n",
    "\\alpha -x_{n+1} = (\\alpha-x_n)^2 \\left[\\frac{-f''(c_n)}{2f'(x_n)}\\right].\n",
    "$$"
   ]
  },
  {
   "cell_type": "markdown",
   "id": "a3aad714-7bf6-44b2-b43c-66dce72ede36",
   "metadata": {},
   "source": [
    "## Error Estimation"
   ]
  },
  {
   "cell_type": "markdown",
   "id": "6ce2779e-40e3-4785-9146-eac587278f28",
   "metadata": {},
   "source": [
    "By the mean-value-theorem\n",
    "$$\n",
    "f(x_n) = f(x_n)-f(\\alpha) = f'(\\xi_n)(x_n-\\alpha)\n",
    "$$\n",
    "for some $\\xi_n$ between $x_n$ and $\\alpha$.\n",
    "\n",
    "We obtain\n",
    "$$\n",
    "\\alpha - x_n = \\frac{-f(x_n)}{f'(\\xi_n)} \\approx \\frac{-f(x_n)}{f'(x_n)} = x_{n+1}-x_n.\n",
    "$$"
   ]
  },
  {
   "cell_type": "markdown",
   "id": "288c7c8c-be21-4699-8d7b-75cb2ecb989f",
   "metadata": {},
   "source": [
    "## Computing $\\sqrt{a}$"
   ]
  },
  {
   "cell_type": "markdown",
   "id": "8c1d5d7c-6211-49d6-934f-ce6017153767",
   "metadata": {},
   "source": [
    "We solve\n",
    "$$\n",
    "f(x) = x^2-a = 0.\n",
    "$$\n",
    "The Newton's method is given by\n",
    "$$\n",
    "x_{n+1} = x_n - \\frac{x_n^2-a}{2x_n} = \\frac{1}{2}\\left(x_n+\\frac{a}{x_n}\\right).\n",
    "$$"
   ]
  },
  {
   "cell_type": "code",
   "execution_count": 12,
   "id": "ef51feb6-0600-4eff-b121-95a0896cbc33",
   "metadata": {},
   "outputs": [
    {
     "name": "stdout",
     "output_type": "stream",
     "text": [
      "1.5\n",
      "1.4166666666666665\n",
      "1.4142156862745097\n",
      "1.4142135623746899\n",
      "1.414213562373095\n",
      "1.414213562373095\n",
      "1.414213562373095\n"
     ]
    }
   ],
   "source": [
    "a = 2\n",
    "x0 = 1\n",
    "for j in range(1, 8):\n",
    "    x1 = 1/2 * (x0 + a/x0)\n",
    "    print(x1)\n",
    "    x0 = x1"
   ]
  },
  {
   "cell_type": "code",
   "execution_count": 13,
   "id": "3e51ff6e-3ec1-4df2-906f-189b0febcd34",
   "metadata": {},
   "outputs": [
    {
     "data": {
      "text/plain": [
       "1.4142135623730951"
      ]
     },
     "execution_count": 13,
     "metadata": {},
     "output_type": "execute_result"
    }
   ],
   "source": [
    "sqrt(2)"
   ]
  },
  {
   "cell_type": "markdown",
   "id": "cd937c66-769a-4b09-abec-a3e187b2a76c",
   "metadata": {},
   "source": [
    "## Reference"
   ]
  },
  {
   "cell_type": "markdown",
   "id": "1a559beb-1b4d-4691-bda8-d361148bf1e2",
   "metadata": {},
   "source": [
    "- Elementary Numerical Analysis 3ed. Kendall Atkinson, Weimin Han. Chapter 3.2."
   ]
  }
 ],
 "metadata": {
  "kernelspec": {
   "display_name": "Python 3 (ipykernel)",
   "language": "python",
   "name": "python3"
  },
  "language_info": {
   "codemirror_mode": {
    "name": "ipython",
    "version": 3
   },
   "file_extension": ".py",
   "mimetype": "text/x-python",
   "name": "python",
   "nbconvert_exporter": "python",
   "pygments_lexer": "ipython3",
   "version": "3.11.6"
  }
 },
 "nbformat": 4,
 "nbformat_minor": 5
}
