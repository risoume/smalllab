{
 "cells": [
  {
   "cell_type": "markdown",
   "id": "96d7ed9f-6c95-4ea1-8e51-d4a7f01bc633",
   "metadata": {},
   "source": [
    "# Bisection Method"
   ]
  },
  {
   "cell_type": "code",
   "execution_count": 1,
   "id": "f8e52138-5671-4384-bf1a-9413c7dc7347",
   "metadata": {},
   "outputs": [],
   "source": [
    "import lib_path\n",
    "from smalllab.calculus import sign\n",
    "from smalllab.table import *\n",
    "from IPython.display import HTML\n",
    "import math"
   ]
  },
  {
   "cell_type": "markdown",
   "id": "ab617a2a-7103-4dad-aeb2-92b11f479be8",
   "metadata": {},
   "source": [
    "Suppose that $f(x)$ is continuous on an interval $a\\leq x\\leq b$ and that\n",
    "$$\n",
    "f(a)f(b) < 0.\n",
    "$$\n",
    "Then $f(x)$ changes sign on $[a,b]$, and $f(x)=0$ has at least one root on the interval.\n",
    "\n",
    "**Bisection method**:\n",
    "\n",
    "Given $[a,b]$ satisfying the above condition and an error tolerance $\\epsilon >0$.\n",
    "\n",
    "1. Define $c=(a+b)/2$.\n",
    "2. If $b-c\\leq \\epsilon$, then accept $c$ as the root and stop.\n",
    "3. If $\\text{sign}[f(b)] \\cdot \\text{sign}[f(c)] \\leq 0$, then set $a=c$.\n",
    "   Otherwise, set $b=c$. Return to step $2$.\n",
    "\n",
    "The method is guaranteed to converge."
   ]
  },
  {
   "cell_type": "code",
   "execution_count": 2,
   "id": "98aa7471-0cd6-46df-9d80-43b322e54a71",
   "metadata": {},
   "outputs": [],
   "source": [
    "f = lambda x: x**6 - x - 1\n",
    "    \n",
    "a = 1\n",
    "b = 2\n",
    "e = 0.001"
   ]
  },
  {
   "cell_type": "code",
   "execution_count": 3,
   "id": "63a00c3d-884f-4982-9bc2-a902f126b344",
   "metadata": {},
   "outputs": [
    {
     "data": {
      "text/plain": [
       "True"
      ]
     },
     "execution_count": 3,
     "metadata": {},
     "output_type": "execute_result"
    }
   ],
   "source": [
    "f(a) * f(b) < 0"
   ]
  },
  {
   "cell_type": "code",
   "execution_count": 4,
   "id": "ca8e2260-2fc9-46cd-9204-3d442b9e91c6",
   "metadata": {},
   "outputs": [
    {
     "name": "stdout",
     "output_type": "stream",
     "text": [
      "n      a          b          c         b-c        f(c)   \n",
      " 1   1.0000     2.0000    1.50000    0.50000     8.8906  \n",
      " 2   1.0000     1.5000    1.25000    0.25000     1.5647  \n",
      " 3   1.0000     1.2500    1.12500    0.12500    -0.0977  \n",
      " 4   1.1250     1.2500    1.18750    0.06250     0.6167  \n",
      " 5   1.1250     1.1875    1.15625    0.03125     0.2333  \n",
      " 6   1.1250     1.1562    1.14062    0.01562     0.0616  \n",
      " 7   1.1250     1.1406    1.13281    0.00781    -0.0196  \n",
      " 8   1.1328     1.1406    1.13672    0.00391     0.0206  \n",
      " 9   1.1328     1.1367    1.13477    0.00195     0.0004  \n",
      "10   1.1328     1.1348    1.13379    0.00098    -0.0096  \n"
     ]
    }
   ],
   "source": [
    "f = lambda x: x**6 - x - 1\n",
    "    \n",
    "a = 1\n",
    "b = 2\n",
    "e = 0.001\n",
    "\n",
    "c = (a + b) / 2\n",
    "fa, fb, = f(a), f(b)\n",
    "n = 1\n",
    "\n",
    "print(\"{:^2} {:^10} {:^10} {:^10} {:^10} {:^10}\".format(\"n\", \"a\", \"b\", \"c\", \"b-c\", \"f(c)\"))\n",
    "while b - c > e:\n",
    "    fc = f(c)\n",
    "    print(f\"{n:>2} {a:^10.4f} {b:^10.4f} {c:^10.5f} {b-c:^10.5f} {fc:^10.4f}\")\n",
    "    if sign(fb) * sign(fc) <= 0:\n",
    "        a  = c\n",
    "        fa = fc\n",
    "    else:\n",
    "        b = c\n",
    "        fb = fc\n",
    "    c = (a + b) / 2\n",
    "    n += 1\n",
    "\n",
    "print(f\"{n:>2} {a:^10.4f} {b:^10.4f} {c:^10.5f} {b-c:^10.5f} {f(c):^10.4f}\")"
   ]
  },
  {
   "cell_type": "code",
   "execution_count": 5,
   "id": "d1965732-49d9-4878-a0cb-9c7cbdbf64db",
   "metadata": {},
   "outputs": [
    {
     "data": {
      "text/html": [
       "<table><tr><th>$n$</th><th>$a$</th><th>$b$</th><th>$c$</th><th>$b-c$</th><th>$f(c)$</th></tr><tr><td>$ 1$</td><td>$1.0000$</td><td>$2.0000$</td><td>$1.50000$</td><td>$0.50000$</td><td>$8.8906$</td></tr><tr><td>$ 2$</td><td>$1.0000$</td><td>$1.5000$</td><td>$1.25000$</td><td>$0.25000$</td><td>$1.5647$</td></tr><tr><td>$ 3$</td><td>$1.0000$</td><td>$1.2500$</td><td>$1.12500$</td><td>$0.12500$</td><td>$-0.0977$</td></tr><tr><td>$ 4$</td><td>$1.1250$</td><td>$1.2500$</td><td>$1.18750$</td><td>$0.06250$</td><td>$0.6167$</td></tr><tr><td>$ 5$</td><td>$1.1250$</td><td>$1.1875$</td><td>$1.15625$</td><td>$0.03125$</td><td>$0.2333$</td></tr><tr><td>$ 6$</td><td>$1.1250$</td><td>$1.1562$</td><td>$1.14062$</td><td>$0.01562$</td><td>$0.0616$</td></tr><tr><td>$ 7$</td><td>$1.1250$</td><td>$1.1406$</td><td>$1.13281$</td><td>$0.00781$</td><td>$-0.0196$</td></tr><tr><td>$ 8$</td><td>$1.1328$</td><td>$1.1406$</td><td>$1.13672$</td><td>$0.00391$</td><td>$0.0206$</td></tr><tr><td>$ 9$</td><td>$1.1328$</td><td>$1.1367$</td><td>$1.13477$</td><td>$0.00195$</td><td>$0.0004$</td></tr><tr><td>$10$</td><td>$1.1328$</td><td>$1.1348$</td><td>$1.13379$</td><td>$0.00098$</td><td>$-0.0096$</td></tr></table>"
      ],
      "text/plain": [
       "<IPython.core.display.HTML object>"
      ]
     },
     "execution_count": 5,
     "metadata": {},
     "output_type": "execute_result"
    }
   ],
   "source": [
    "f = lambda x: x**6 - x - 1\n",
    "    \n",
    "a = 1\n",
    "b = 2\n",
    "e = 0.001\n",
    "\n",
    "c = (a + b) / 2\n",
    "fa, fb, = f(a), f(b)\n",
    "n = 1\n",
    "M = []\n",
    "\n",
    "H = [\"$n$\", \"$a$\", \"$b$\", \"$c$\", \"$b-c$\", \"$f(c)$\"]\n",
    "while b - c > e:\n",
    "    fc = f(c)\n",
    "    M.append([f\"{n:2}\", f\"{a:.4f}\", f\"{b:.4f}\", f\"{c:.5f}\", f\"{b-c:.5f}\", f\"{fc:.4f}\"])\n",
    "    if sign(fb) * sign(fc) <= 0:\n",
    "        a  = c\n",
    "        fa = fc\n",
    "    else:\n",
    "        b = c\n",
    "        fb = fc\n",
    "    c = (a + b) / 2\n",
    "    n += 1\n",
    "    \n",
    "M.append([f\"{n:2}\", f\"{a:.4f}\", f\"{b:.4f}\", f\"{c:.5f}\", f\"{b-c:.5f}\", f\"{f(c):.4f}\"])\n",
    "\n",
    "T = table_h2_tex(H, *M)\n",
    "HTML(T)"
   ]
  },
  {
   "cell_type": "code",
   "execution_count": 6,
   "id": "eb58dd2e-92be-4c4f-b983-c0bddb0066df",
   "metadata": {},
   "outputs": [
    {
     "name": "stdout",
     "output_type": "stream",
     "text": [
      "Help on function table_h2_tex in module smalllab.table:\n",
      "\n",
      "table_h2_tex(H: list, *L: list) -> str\n",
      "    Return html table with heading H and rows *L = L1, l2, ..., Ln.\n",
      "    If there is no heading, enter empty list as the first argument.\n",
      "    The heading is displayed as row.\n",
      "    All entries are displayed in LaTeX.\n",
      "\n"
     ]
    }
   ],
   "source": [
    "help(table_h2_tex)"
   ]
  },
  {
   "cell_type": "code",
   "execution_count": 7,
   "id": "a8c555e2-c708-441e-9177-ed0bfa247ae1",
   "metadata": {},
   "outputs": [],
   "source": [
    "def bisect(f, a0, b0, e):\n",
    "    \"\"\"Find a root of f on [a0, b0] with error tolerance e using bisection method.\"\"\"\n",
    "    if a0 >= b0:\n",
    "        raise ValueError(\"a0 must be less than b0\")\n",
    "    if e <= 0:\n",
    "        raise ValueError(\"error tolerance must be positive\")\n",
    "\n",
    "    a, b = a0, b0\n",
    "    fa, fb = f(a), f(b)\n",
    "\n",
    "    if sign(fa) * sign(fb) > 0:\n",
    "        raise ValueError(\"f(a0) and f(b0) must have different signs\")\n",
    "\n",
    "    c = (a + b) / 2\n",
    "    while b - c > e:\n",
    "        fc = f(c)\n",
    "        if sign(fb) * sign(fc) <= 0:\n",
    "            a, fa = c, fc\n",
    "        else:\n",
    "            b, fb = c, fc\n",
    "        c = (a + b) / 2\n",
    "    return c"
   ]
  },
  {
   "cell_type": "code",
   "execution_count": 8,
   "id": "84327dfa-b970-49ee-885a-d0c654e45c84",
   "metadata": {},
   "outputs": [
    {
     "data": {
      "text/plain": [
       "1.1347240805625916"
      ]
     },
     "execution_count": 8,
     "metadata": {},
     "output_type": "execute_result"
    }
   ],
   "source": [
    "f = lambda x: x**6 - x - 1\n",
    "root = bisect(f, 1, 2, 1e-7)\n",
    "root"
   ]
  },
  {
   "cell_type": "code",
   "execution_count": 9,
   "id": "6bd02a72-f3eb-44a4-906f-bc2e391a1682",
   "metadata": {},
   "outputs": [
    {
     "data": {
      "text/plain": [
       "-5.950253361142188e-07"
      ]
     },
     "execution_count": 9,
     "metadata": {},
     "output_type": "execute_result"
    }
   ],
   "source": [
    "f(root)"
   ]
  },
  {
   "cell_type": "code",
   "execution_count": 10,
   "id": "893ae0d3-d548-41bc-9dd9-dd5f081d4f57",
   "metadata": {},
   "outputs": [],
   "source": [
    "g = lambda x: math.exp(-x) - x"
   ]
  },
  {
   "cell_type": "code",
   "execution_count": 11,
   "id": "ed7ef7e0-6bd4-4b63-8cd2-b707c0a971a6",
   "metadata": {},
   "outputs": [
    {
     "data": {
      "text/plain": [
       "-0.6321205588285577"
      ]
     },
     "execution_count": 11,
     "metadata": {},
     "output_type": "execute_result"
    }
   ],
   "source": [
    "g(1)"
   ]
  },
  {
   "cell_type": "code",
   "execution_count": 12,
   "id": "8b12bc50-87fd-470c-8e27-905ecd8f17b8",
   "metadata": {},
   "outputs": [
    {
     "data": {
      "text/plain": [
       "1.0"
      ]
     },
     "execution_count": 12,
     "metadata": {},
     "output_type": "execute_result"
    }
   ],
   "source": [
    "g(0)"
   ]
  },
  {
   "cell_type": "code",
   "execution_count": 13,
   "id": "6067a3b9-c290-4780-887f-51e99314677e",
   "metadata": {},
   "outputs": [
    {
     "data": {
      "text/plain": [
       "0.56719970703125"
      ]
     },
     "execution_count": 13,
     "metadata": {},
     "output_type": "execute_result"
    }
   ],
   "source": [
    "root = bisect(g, 0, 1, 0.0001)\n",
    "root"
   ]
  },
  {
   "cell_type": "code",
   "execution_count": 14,
   "id": "0fc7b978-fbbf-4546-b5c1-5f4d87f604f8",
   "metadata": {},
   "outputs": [
    {
     "data": {
      "text/plain": [
       "-8.841202725340391e-05"
      ]
     },
     "execution_count": 14,
     "metadata": {},
     "output_type": "execute_result"
    }
   ],
   "source": [
    "g(root)"
   ]
  },
  {
   "cell_type": "markdown",
   "id": "93cc49a5-9002-4ee7-870d-d71c70022dc5",
   "metadata": {},
   "source": [
    "## Error"
   ]
  },
  {
   "cell_type": "markdown",
   "id": "d3b13414-1d3b-4865-ad0d-98087627a39e",
   "metadata": {},
   "source": [
    "$$\n",
    "b_n-a_n = \\frac{1}{2^{n-1}}(b-a).\n",
    "$$\n",
    "\n",
    "If the root $\\alpha$ is in either $[a_n,c_n]$ or $[c_n,b_n]$, then\n",
    "$$\n",
    "|\\alpha -c_n| \\leq c_n-a_n = b_n-c_n = \\frac{1}{2}(b_n-a_n) = \\frac{1}{2^n}(b-a).\n",
    "$$\n",
    "\n",
    "For error tolerance $\\epsilon$ the number of iteration that necessary is\n",
    "$$\n",
    "n \\geq \\frac{\\log (\\frac{b-a}{\\epsilon})}{\\log 2}.\n",
    "$$"
   ]
  },
  {
   "cell_type": "code",
   "execution_count": 15,
   "id": "969ed1da-64ad-40ea-a4b8-dd7a1a21e869",
   "metadata": {},
   "outputs": [],
   "source": [
    "def max_iteration(a, b, e):\n",
    "    return math.ceil( math.log((b-a)/e) / math.log(2) )"
   ]
  },
  {
   "cell_type": "code",
   "execution_count": 16,
   "id": "539aef41-62f2-4440-aa54-c62457c0c8a5",
   "metadata": {},
   "outputs": [
    {
     "data": {
      "text/plain": [
       "10"
      ]
     },
     "execution_count": 16,
     "metadata": {},
     "output_type": "execute_result"
    }
   ],
   "source": [
    "max_iteration(1, 2, 0.001)"
   ]
  },
  {
   "cell_type": "markdown",
   "id": "dc8bcce5-1af9-4855-b741-41a1b4e54616",
   "metadata": {},
   "source": [
    "## Reference"
   ]
  },
  {
   "cell_type": "markdown",
   "id": "aba8f588-2c7e-46dc-b2a2-3293dd13d309",
   "metadata": {},
   "source": [
    "- Elementary Numerical Analysis 3ed. Kendall Atkinson, Weimin Han."
   ]
  }
 ],
 "metadata": {
  "kernelspec": {
   "display_name": "Python 3 (ipykernel)",
   "language": "python",
   "name": "python3"
  },
  "language_info": {
   "codemirror_mode": {
    "name": "ipython",
    "version": 3
   },
   "file_extension": ".py",
   "mimetype": "text/x-python",
   "name": "python",
   "nbconvert_exporter": "python",
   "pygments_lexer": "ipython3",
   "version": "3.11.6"
  }
 },
 "nbformat": 4,
 "nbformat_minor": 5
}
