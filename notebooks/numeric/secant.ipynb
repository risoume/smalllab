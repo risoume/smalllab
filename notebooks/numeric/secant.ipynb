{
 "cells": [
  {
   "cell_type": "markdown",
   "id": "585a1dbd-f7ed-4a18-8b14-28998ba39a4d",
   "metadata": {},
   "source": [
    "# Secant Method"
   ]
  },
  {
   "cell_type": "code",
   "execution_count": 1,
   "id": "3fb7b3ae-7e76-4c0e-b620-346feb5a631a",
   "metadata": {},
   "outputs": [],
   "source": [
    "import lib_path\n",
    "from smalllab.table import table_h2_tex\n",
    "from IPython.display import HTML"
   ]
  },
  {
   "cell_type": "markdown",
   "id": "c60028ae-1d99-4a8c-a2b6-1aa4de8184e0",
   "metadata": {},
   "source": [
    "Let $x_0$ and $x_1$ be the initial guesses to the root $\\alpha$ of a function $f$.\n",
    "The equation of the line containing points $(x_0, f(x_0))$ and $(x_1, f(x_1))$ is given by\n",
    "$$\n",
    "p(x) = f(x_1)+(x-x_1)\\cdot \\frac{f(x_1)-f(x_0)}{x_1-x_0}.\n",
    "$$\n",
    "Solving $p(x_2)=0$, we obtain\n",
    "$$\n",
    "x_2 = x_1 - f(x_1)\\cdot \\frac{x_1-x_0}{f(x_1)-f(x_0)}.\n",
    "$$\n",
    "Repeating this process, we obtain the iteration formula\n",
    "$$\n",
    "x_{n+1} = x_n - f(x_n)\\cdot \\frac{x_n-x_{n-1}}{f(x_n)-f(x_{n-1})}.\n",
    "$$\n",
    "\n",
    "**Error:**\n",
    "\n",
    "$$\n",
    "|\\alpha -x_{n+1}| \\approx c|\\alpha -x_n|^{1.62}.\n",
    "$$"
   ]
  },
  {
   "cell_type": "markdown",
   "id": "a28c2f1e-4724-4887-8eed-27e3744db6f3",
   "metadata": {},
   "source": [
    "- Newton's method converges more rapidly than the secant method.\n",
    "- Newton's method require fewer iterations to attain a given error tolerance.\n",
    "- Newton's method requires two function evaluations per iteration.\n",
    "  Secant method requires only one.\n",
    "- Secant method require less time per iteration than the Newton method."
   ]
  },
  {
   "cell_type": "code",
   "execution_count": 2,
   "id": "bc26d4f4-5181-4249-b1e0-9a6af9516126",
   "metadata": {},
   "outputs": [
    {
     "name": "stdout",
     "output_type": "stream",
     "text": [
      "n       x_n         f(x_n)   x_n-x_(n-1)\n",
      " 0   2.00000000    6.10e+01 \n",
      " 1   1.00000000   -1.00e+00  -1.00e+00 \n",
      " 2   1.01612903   -9.15e-01   1.61e-02 \n",
      " 3   1.19057777    6.57e-01   1.74e-01 \n",
      " 4   1.11765583   -1.68e-01  -7.29e-02 \n",
      " 5   1.13253155   -2.24e-02   1.49e-02 \n",
      " 6   1.13481681    9.54e-04   2.29e-03 \n",
      " 7   1.13472365   -5.07e-06  -9.32e-05 \n",
      " 8   1.13472414   -1.13e-09   4.92e-07 \n"
     ]
    }
   ],
   "source": [
    "f = lambda x: x**6 - x - 1\n",
    "x0 = 2\n",
    "x1 = 1\n",
    "fx0 = f(x0)\n",
    "\n",
    "print(\"{:^2} {:^14} {:^10} {:^10}\".format(\"n\", \"x_n\", \"f(x_n)\", \"x_n-x_(n-1)\"))\n",
    "print(f\" 0 {x0:^14.8f} {f(x0):^10.2e}\")\n",
    "print(f\" 1 {x1:^14.8f} {f(x1):^10.2e} {x1-x0:^10.2e}\")\n",
    "for j in range(2, 9):\n",
    "    fx1 = f(x1)\n",
    "    x2 = x1 - fx1*(x1-x0)/(fx1-fx0)\n",
    "    err = x2 - x1\n",
    "    x0, x1 = x1, x2\n",
    "    fx0 = fx1\n",
    "    print(f\"{j:2} {x2:^14.8f} {f(x2):^10.2e} {err:^10.2e}\")"
   ]
  },
  {
   "cell_type": "code",
   "execution_count": 3,
   "id": "cf46eff0-4979-437b-a273-d3b8bf3bc6a3",
   "metadata": {},
   "outputs": [
    {
     "name": "stdout",
     "output_type": "stream",
     "text": [
      "Help on function table_h2_tex in module smalllab.table:\n",
      "\n",
      "table_h2_tex(H: list, *L: list) -> str\n",
      "    Return html table with heading H and rows *L = L1, l2, ..., Ln.\n",
      "    If there is no heading, enter empty list as the first argument.\n",
      "    The heading is displayed as row.\n",
      "    All entries are displayed in LaTeX.\n",
      "\n"
     ]
    }
   ],
   "source": [
    "help(table_h2_tex)"
   ]
  },
  {
   "cell_type": "code",
   "execution_count": 4,
   "id": "773f9547-07a5-414c-ba63-fbd74a000fb7",
   "metadata": {},
   "outputs": [
    {
     "data": {
      "text/html": [
       "<table><tr><th>$n$</th><th>$x_n$</th><th>$f(x_n)$</th><th>$x_n-x_{n-1}$</th></tr><tr><td>$0$</td><td>$  2.00000000  $</td><td>$ 6.10e+01 $</td><td>$ $</td></tr><tr><td>$1$</td><td>$  1.00000000  $</td><td>$-1.00e+00 $</td><td>$-1.00e+00 $</td></tr><tr><td>$ 2$</td><td>$  1.01612903  $</td><td>$-9.15e-01 $</td><td>$ 1.61e-02 $</td></tr><tr><td>$ 3$</td><td>$  1.19057777  $</td><td>$ 6.57e-01 $</td><td>$ 1.74e-01 $</td></tr><tr><td>$ 4$</td><td>$  1.11765583  $</td><td>$-1.68e-01 $</td><td>$-7.29e-02 $</td></tr><tr><td>$ 5$</td><td>$  1.13253155  $</td><td>$-2.24e-02 $</td><td>$ 1.49e-02 $</td></tr><tr><td>$ 6$</td><td>$  1.13481681  $</td><td>$ 9.54e-04 $</td><td>$ 2.29e-03 $</td></tr><tr><td>$ 7$</td><td>$  1.13472365  $</td><td>$-5.07e-06 $</td><td>$-9.32e-05 $</td></tr><tr><td>$ 8$</td><td>$  1.13472414  $</td><td>$-1.13e-09 $</td><td>$ 4.92e-07 $</td></tr></table>"
      ],
      "text/plain": [
       "<IPython.core.display.HTML object>"
      ]
     },
     "execution_count": 4,
     "metadata": {},
     "output_type": "execute_result"
    }
   ],
   "source": [
    "f = lambda x: x**6 - x - 1\n",
    "x0 = 2\n",
    "x1 = 1\n",
    "fx0 = f(x0)\n",
    "M = []\n",
    "\n",
    "H = [\"$n$\", \"$x_n$\", \"$f(x_n)$\", \"$x_n-x_{n-1}$\"]\n",
    "M.append([\"0\", f\"{x0:^14.8f}\", f\"{f(x0):^10.2e}\", \" \"])\n",
    "M.append([\"1\", f\"{x1:^14.8f}\", f\"{f(x1):^10.2e}\", f\"{x1-x0:^10.2e}\", \" \"])\n",
    "for j in range(2, 9):\n",
    "    fx1 = f(x1)\n",
    "    x2 = x1 - fx1*(x1-x0)/(fx1-fx0)\n",
    "    err = x2 - x1\n",
    "    x0, x1 = x1, x2\n",
    "    fx0 = fx1\n",
    "    M.append([f\"{j:2}\", f\"{x2:^14.8f}\", f\"{f(x2):^10.2e}\", f\"{err:^10.2e}\"])\n",
    "\n",
    "T = table_h2_tex(H, *M)\n",
    "HTML(T)"
   ]
  },
  {
   "cell_type": "code",
   "execution_count": 5,
   "id": "ea76a455-8146-48bf-aac3-851f1178a81e",
   "metadata": {},
   "outputs": [],
   "source": [
    "def secant(f, x0, x1, e, max_it) -> float | None:\n",
    "    \"\"\"Find a root of a function using secant method.\n",
    "\n",
    "    Parameters\n",
    "    ----------\n",
    "    f : Callable\n",
    "        Function for which the root will be calculated.\n",
    "    x0, x1 : int or float\n",
    "        Initial guesses for the root.\n",
    "    e : int or float\n",
    "        Error tolerance.\n",
    "    max_it : int\n",
    "        Maximum iteration.\n",
    "    \"\"\"\n",
    "    fx0 = f(x0)\n",
    "    for j in range(1, max_it + 1):\n",
    "        fx1 = f(x1)\n",
    "        if fx1 - fx0 == 0:\n",
    "            raise ValueError(\"f(x1) = f(x0); division by zero\")\n",
    "            \n",
    "        x2 = x1 - fx1*(x1-x0)/(fx1-fx0)\n",
    "        error = x2 - x1\n",
    "        if abs(error) <= e:\n",
    "            return x2\n",
    "        \n",
    "        x0, x1 = x1, x2\n",
    "        fx0 = fx1\n",
    "    \n",
    "    return None"
   ]
  },
  {
   "cell_type": "code",
   "execution_count": 6,
   "id": "517a4e8c-53eb-49bd-9c9d-8d6c35270de3",
   "metadata": {},
   "outputs": [
    {
     "data": {
      "text/plain": [
       "1.1347241384015196"
      ]
     },
     "execution_count": 6,
     "metadata": {},
     "output_type": "execute_result"
    }
   ],
   "source": [
    "secant(f, 2, 1, 1e-8, 10)"
   ]
  },
  {
   "cell_type": "code",
   "execution_count": 7,
   "id": "5ed30564-fb00-47f2-8a91-4f268f5f1544",
   "metadata": {},
   "outputs": [],
   "source": [
    "root = secant(f, 2, 1, 1e-8, 5)"
   ]
  },
  {
   "cell_type": "code",
   "execution_count": 8,
   "id": "b2daa0c5-9be6-4225-aba0-0d513e080195",
   "metadata": {},
   "outputs": [
    {
     "data": {
      "text/plain": [
       "NoneType"
      ]
     },
     "execution_count": 8,
     "metadata": {},
     "output_type": "execute_result"
    }
   ],
   "source": [
    "type(root)"
   ]
  },
  {
   "cell_type": "markdown",
   "id": "f4f595e5-61dd-4983-9615-34fe4919f0f7",
   "metadata": {},
   "source": [
    "## Reference"
   ]
  },
  {
   "cell_type": "markdown",
   "id": "3866123f-69ae-48d0-a955-6869ed946e5c",
   "metadata": {},
   "source": [
    "- Elementary Numerical Analysis 3ed. Kendall Atkinson, Weimin Han. Chapter 3.3."
   ]
  }
 ],
 "metadata": {
  "kernelspec": {
   "display_name": "Python 3 (ipykernel)",
   "language": "python",
   "name": "python3"
  },
  "language_info": {
   "codemirror_mode": {
    "name": "ipython",
    "version": 3
   },
   "file_extension": ".py",
   "mimetype": "text/x-python",
   "name": "python",
   "nbconvert_exporter": "python",
   "pygments_lexer": "ipython3",
   "version": "3.11.6"
  }
 },
 "nbformat": 4,
 "nbformat_minor": 5
}
