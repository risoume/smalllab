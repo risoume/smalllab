{
 "cells": [
  {
   "cell_type": "markdown",
   "id": "7cfe6f86-8e14-45b4-bee2-c65ef1b4ebf1",
   "metadata": {},
   "source": [
    "# Simpson's Rule"
   ]
  },
  {
   "cell_type": "code",
   "execution_count": 1,
   "id": "dd430044-520f-4b1f-84dd-f4ed11c909a9",
   "metadata": {},
   "outputs": [],
   "source": [
    "import lib_path\n",
    "from smalllab.table import *\n",
    "from IPython.display import HTML\n",
    "from math import *"
   ]
  },
  {
   "cell_type": "markdown",
   "id": "42ac01e6-6869-4ffb-a213-e184548b9049",
   "metadata": {},
   "source": [
    "Let $P_2(x)$ interpolates $f(x)$ at $a$, $c=(a+b)/2$, and $b$. Then\n",
    "$$\n",
    "\\int_a^b f(x) dx \\approx \\int_a^b P_2(x) dx =\n",
    "\\int_a^b \\left[\\frac{(x-c)(x-b)}{(a-c)(a-b)}f(a) +\\frac{(x-a)(x-b)}{(c-a)(c-b)}f(c) +\n",
    "\\frac{(x-a)(x-c)}{(b-a)(b-c)}f(b) \\right] dx.\n",
    "$$\n",
    "\n",
    "Let $h=(b-a)/2$. The solution of the last integral is\n",
    "$$\n",
    "S_2(f) = \\frac{h}{3} \\left[f(a)+4f\\left(\\frac{a+b}{2}\\right)+f(b)\\right]\n",
    "$$"
   ]
  },
  {
   "cell_type": "code",
   "execution_count": 2,
   "id": "6205a51b-bbd7-49e9-8c8e-f012b31b428c",
   "metadata": {},
   "outputs": [
    {
     "data": {
      "text/plain": [
       "0.6944444444444443"
      ]
     },
     "execution_count": 2,
     "metadata": {},
     "output_type": "execute_result"
    }
   ],
   "source": [
    "f = lambda x: 1/(1+x)\n",
    "a, b = 0, 1\n",
    "\n",
    "c = (a+b)/2\n",
    "h = (b-a)/2\n",
    "\n",
    "h*(f(a)+4*f(c)+f(b))/3"
   ]
  },
  {
   "cell_type": "code",
   "execution_count": 3,
   "id": "5c2406c6-aca5-4a63-a8c5-143a24c5a030",
   "metadata": {},
   "outputs": [
    {
     "data": {
      "text/plain": [
       "0.6931471805599453"
      ]
     },
     "execution_count": 3,
     "metadata": {},
     "output_type": "execute_result"
    }
   ],
   "source": [
    "F = lambda x: log(1+x)\n",
    "F(1)-F(0)"
   ]
  },
  {
   "cell_type": "markdown",
   "id": "f5b3f16b-7612-4514-8dd7-93fa92c861e4",
   "metadata": {},
   "source": [
    "Let $n$ be an even integer, $h=(b-a)/n$, and\n",
    "$$\n",
    "x_j = a+jh, \\qquad j=0,1,\\ldots,n.\n",
    "$$\n",
    "\n",
    "Then, $\\int_a^b f$ can be approximated by\n",
    "$$\n",
    "S_n(f) = \\frac{h}{3} [f(x_0)+4f(x_1)+2f(x_2)+4f(x_3)+2f(x_4)+\\cdots+2f(x_{n-2})+4f(x_{n-1})+f(x_n)].\n",
    "$$"
   ]
  },
  {
   "cell_type": "code",
   "execution_count": 4,
   "id": "b8c42ea8-9566-4bb6-8e95-8ca823e15a66",
   "metadata": {},
   "outputs": [],
   "source": [
    "def simpson(f, a, b, n):\n",
    "    \"\"\"Evaluate the integral of f over [a, b] using simpson's rule\n",
    "    with n subdivisions.\n",
    "    \"\"\"\n",
    "    if (n % 2 == 1) or (n < 2):\n",
    "        raise ValueError(\"n must be positive even number\")\n",
    "        \n",
    "    h = (b-a) / n\n",
    "    sum = f(a) + f(b)\n",
    "    for j in range(1, n):\n",
    "        if j % 2 == 0:\n",
    "            sum += 2 * f(a+j*h)\n",
    "        else:\n",
    "            sum += 4 * f(a+j*h)\n",
    "    return h * sum / 3"
   ]
  },
  {
   "cell_type": "code",
   "execution_count": 5,
   "id": "b6dde826-68fe-415b-956f-c02d81567f67",
   "metadata": {},
   "outputs": [
    {
     "data": {
      "text/plain": [
       "0.6944444444444443"
      ]
     },
     "execution_count": 5,
     "metadata": {},
     "output_type": "execute_result"
    }
   ],
   "source": [
    "simpson(f, a, b, 2)"
   ]
  },
  {
   "cell_type": "code",
   "execution_count": 6,
   "id": "9f4b58b5-bbaf-4756-aa6f-ab92d1ca7b38",
   "metadata": {},
   "outputs": [],
   "source": [
    "#simpson(f, a, b, 3)\n",
    "#simpson(f, a, b, -1)"
   ]
  },
  {
   "cell_type": "code",
   "execution_count": 7,
   "id": "eed22eb2-786e-41d8-b3b9-4124ce95a9e0",
   "metadata": {},
   "outputs": [
    {
     "data": {
      "text/html": [
       "<table><tr><th>$n$</th><th>error</th></tr><tr><td>2</td><td>-3.56e-04</td></tr><tr><td>4</td><td>-3.12e-05</td></tr><tr><td>8</td><td>-1.99e-06</td></tr><tr><td>16</td><td>-1.25e-07</td></tr><tr><td>32</td><td>-7.79e-09</td></tr></table>"
      ],
      "text/plain": [
       "<IPython.core.display.HTML object>"
      ]
     },
     "execution_count": 7,
     "metadata": {},
     "output_type": "execute_result"
    }
   ],
   "source": [
    "f1 = lambda x: exp(-x**2)\n",
    "a, b = 0, 1\n",
    "sol = 0.746824132812427\n",
    "\n",
    "ns = [2, 4, 8, 16, 32]\n",
    "trapezoid = [simpson(f1, a, b, n) for n in ns]\n",
    "error = [f\"{sol-sol2:.2e}\" for sol2 in trapezoid]\n",
    "head = [\"$n$\", \"error\"]\n",
    "\n",
    "T = table_v(head, ns, error)\n",
    "HTML(T)"
   ]
  },
  {
   "cell_type": "code",
   "execution_count": 8,
   "id": "2ba4548f-ba1d-444f-8825-588ce2fbbdb0",
   "metadata": {},
   "outputs": [
    {
     "data": {
      "text/html": [
       "<table><tr><th>$n$</th><th>error</th></tr><tr><td>2</td><td>8.66e-02</td></tr><tr><td>4</td><td>3.95e-02</td></tr><tr><td>8</td><td>1.95e-03</td></tr><tr><td>16</td><td>4.02e-06</td></tr><tr><td>32</td><td>2.33e-08</td></tr></table>"
      ],
      "text/plain": [
       "<IPython.core.display.HTML object>"
      ]
     },
     "execution_count": 8,
     "metadata": {},
     "output_type": "execute_result"
    }
   ],
   "source": [
    "f2 = lambda x: 1/(1+x**2)\n",
    "a, b = 0, 4\n",
    "sol = 1.32581766366803\n",
    "\n",
    "ns = [2, 4, 8, 16, 32]\n",
    "trapezoid = [simpson(f2, a, b, n) for n in ns]\n",
    "error = [f\"{sol-sol2:.2e}\" for sol2 in trapezoid]\n",
    "head = [\"$n$\", \"error\"]\n",
    "\n",
    "T = table_v(head, ns, error)\n",
    "HTML(T)"
   ]
  },
  {
   "cell_type": "code",
   "execution_count": 9,
   "id": "7d1f9070-8712-4b23-a06c-0238e90f3f6d",
   "metadata": {},
   "outputs": [
    {
     "data": {
      "text/html": [
       "<table><tr><th>$n$</th><th>error</th></tr><tr><td>2</td><td>-1.26e+00</td></tr><tr><td>4</td><td>1.37e-01</td></tr><tr><td>8</td><td>1.23e-02</td></tr><tr><td>16</td><td>6.43e-05</td></tr><tr><td>32</td><td>1.71e-09</td></tr></table>"
      ],
      "text/plain": [
       "<IPython.core.display.HTML object>"
      ]
     },
     "execution_count": 9,
     "metadata": {},
     "output_type": "execute_result"
    }
   ],
   "source": [
    "f3 = lambda x: 1/(2+cos(x))\n",
    "a, b = 0, 2*pi\n",
    "sol = 3.62759872846844\n",
    "\n",
    "ns = [2, 4, 8, 16, 32]\n",
    "trapezoid = [simpson(f3, a, b, n) for n in ns]\n",
    "error = [f\"{sol-sol2:.2e}\" for sol2 in trapezoid]\n",
    "head = [\"$n$\", \"error\"]\n",
    "\n",
    "T = table_v(head, ns, error)\n",
    "HTML(T)"
   ]
  },
  {
   "cell_type": "markdown",
   "id": "a7670e56-0339-4bfd-bdd0-3f354c8646c2",
   "metadata": {},
   "source": [
    "## Reference"
   ]
  },
  {
   "cell_type": "markdown",
   "id": "3881162d-61b8-4741-b555-61f0f27bbec5",
   "metadata": {},
   "source": [
    "- Elementary Numerical Analysis 3ed. Kendall Atkinson, Weimin Han. Chapter 5.1."
   ]
  }
 ],
 "metadata": {
  "kernelspec": {
   "display_name": "Python 3 (ipykernel)",
   "language": "python",
   "name": "python3"
  },
  "language_info": {
   "codemirror_mode": {
    "name": "ipython",
    "version": 3
   },
   "file_extension": ".py",
   "mimetype": "text/x-python",
   "name": "python",
   "nbconvert_exporter": "python",
   "pygments_lexer": "ipython3",
   "version": "3.11.6"
  }
 },
 "nbformat": 4,
 "nbformat_minor": 5
}
