{
 "cells": [
  {
   "cell_type": "markdown",
   "id": "9a17dba4-24b3-4f3d-9601-fd97fbc65548",
   "metadata": {},
   "source": [
    "# Newton Divided Difference"
   ]
  },
  {
   "cell_type": "code",
   "execution_count": 1,
   "id": "ab50c4eb-1b3f-4596-a986-9e285f1ca6ec",
   "metadata": {},
   "outputs": [],
   "source": [
    "import lib_path\n",
    "from smalllab.table import *\n",
    "from IPython.display import HTML\n",
    "from math import cos"
   ]
  },
  {
   "cell_type": "markdown",
   "id": "a56a0170-69fb-431b-9269-17ff0529b975",
   "metadata": {},
   "source": [
    "## Divided Differences"
   ]
  },
  {
   "cell_type": "markdown",
   "id": "0cf1dd10-52f8-4cb1-b403-6768702f33ce",
   "metadata": {},
   "source": [
    "Let $x_0$ ad $x_1$ be distinct numbers. Define the first order divided difference of $f(x)$ as\n",
    "$$\n",
    "f[x_0,x_1] = \\frac{f(x_1)-f(x_0)}{x_1-x_0}.\n",
    "$$"
   ]
  },
  {
   "cell_type": "code",
   "execution_count": 2,
   "id": "553d1863-5354-4de4-8f4d-62510660846d",
   "metadata": {},
   "outputs": [],
   "source": [
    "def divdif_1(f, x0, x1):\n",
    "    return (f(x1)-f(x0)) / (x1-x0)"
   ]
  },
  {
   "cell_type": "code",
   "execution_count": 3,
   "id": "96153b46-a7e5-4e80-8944-a1af3ac19d4c",
   "metadata": {},
   "outputs": [
    {
     "data": {
      "text/plain": [
       "-0.2473008871563565"
      ]
     },
     "execution_count": 3,
     "metadata": {},
     "output_type": "execute_result"
    }
   ],
   "source": [
    "f = lambda x: cos(x)\n",
    "x0, x1 = 0.2, 0.3\n",
    "\n",
    "divdif_1(f, x0, x1)"
   ]
  },
  {
   "cell_type": "markdown",
   "id": "86babcd9-26a7-4d77-8554-5ea4698731fa",
   "metadata": {},
   "source": [
    "### Higher order divided difference"
   ]
  },
  {
   "cell_type": "markdown",
   "id": "2f55b1ad-cae8-4501-92c8-77980c28d061",
   "metadata": {},
   "source": [
    "Let $x_0,x_1,\\ldots,x_n$ be $n+1$ distinct numbers.\n",
    "Define the higher order divided difference as\n",
    "$$\n",
    "f[x_0,\\ldots,x_n] = \\frac{f[x_1,\\ldots,x_n]-f[x_0,\\ldots,x_{n-1}]}{x_n-x_0}.\n",
    "$$"
   ]
  },
  {
   "cell_type": "code",
   "execution_count": 4,
   "id": "13e7234a-8de3-48bb-aa0f-5799c0aadf4f",
   "metadata": {},
   "outputs": [
    {
     "data": {
      "text/plain": [
       "-0.4772703203542608"
      ]
     },
     "execution_count": 4,
     "metadata": {},
     "output_type": "execute_result"
    }
   ],
   "source": [
    "f = lambda x: cos(x)\n",
    "x0, x1, x2 = 0.2, 0.3, 0.4\n",
    "\n",
    "d1 = divdif_1(f, x1, x2)\n",
    "d2 = divdif_1(f, x0, x1)\n",
    "(d1-d2) / (x2-x0)"
   ]
  },
  {
   "cell_type": "code",
   "execution_count": 5,
   "id": "ea76a9e7-1886-4818-af1d-765837451308",
   "metadata": {},
   "outputs": [],
   "source": [
    "def divdif(X, Y) -> list[float]:\n",
    "    \"\"\"Calculate the set of divided differences\n",
    "    f[x0,x1], f[x0,x1,x2], ..., f[x0,x1,...,xn].\n",
    "    \n",
    "    Parameters\n",
    "    ----------\n",
    "    X, Y : list of int or float\n",
    "        All entries in X must be distinct.\n",
    "        The length of X and Y must be equal and greater than 1.\n",
    "    \"\"\"\n",
    "    if len(X) != len(Y):\n",
    "        raise ValueError(\"the length of X and Y must be equal\")\n",
    "    if len(X) < 2:\n",
    "        raise ValueError(\"the length of X and Y must be greater than 1\")\n",
    "    if len(set(X)) != len(X):\n",
    "        raise ValueError(\"all values in X must be distinct\")\n",
    "        \n",
    "    n = len(X)\n",
    "    D = Y.copy()\n",
    "    for j in range(1, n):\n",
    "        for k in range(j, n):\n",
    "            D[k] = (D[k]-D[j-1]) / (X[k]-X[j-1])\n",
    "    return D"
   ]
  },
  {
   "cell_type": "code",
   "execution_count": 6,
   "id": "d8d19983-55a0-42f2-a57d-d8c93b7903ab",
   "metadata": {},
   "outputs": [
    {
     "data": {
      "text/plain": [
       "[0.9800665778412416, -0.2473008871563565, -0.4772703203542609]"
      ]
     },
     "execution_count": 6,
     "metadata": {},
     "output_type": "execute_result"
    }
   ],
   "source": [
    "f = lambda x: cos(x)\n",
    "X = [0.2, 0.3, 0.4]\n",
    "Y = [f(j) for j in X]\n",
    "\n",
    "divdif(X, Y)"
   ]
  },
  {
   "cell_type": "code",
   "execution_count": 7,
   "id": "e6259cae-988f-4c1f-89a0-f18242a0db77",
   "metadata": {},
   "outputs": [
    {
     "data": {
      "text/html": [
       "<table><tr><th>$i$</th><th>$x_i$</th><th>$\\cos(x_i)$</th><th>$D_i$</th></tr><tr><td>0</td><td>0.0</td><td>1.0</td><td>1.0</td></tr><tr><td>1</td><td>0.2</td><td>0.9800665778412416</td><td>-0.09966711079379187</td></tr><tr><td>2</td><td>0.4</td><td>0.9210609940028851</td><td>-0.48840202099497687</td></tr><tr><td>3</td><td>0.6</td><td>0.8253356149096783</td><td>0.04900763384891428</td></tr><tr><td>4</td><td>0.8</td><td>0.6967067093471654</td><td>0.038122457312403296</td></tr><tr><td>5</td><td>1.0</td><td>0.5403023058681398</td><td>-0.00396204670695722</td></tr><tr><td>6</td><td>1.2</td><td>0.3623577544766736</td><td>-0.001134889809527827</td></tr></table>"
      ],
      "text/plain": [
       "<IPython.core.display.HTML object>"
      ]
     },
     "execution_count": 7,
     "metadata": {},
     "output_type": "execute_result"
    }
   ],
   "source": [
    "f = lambda x: cos(x)\n",
    "index = [0, 1, 2, 3, 4, 5, 6]\n",
    "X = [0.0, 0.2, 0.4, 0.6, 0.8, 1.0, 1.2]\n",
    "Y = [f(j) for j in X]\n",
    "D = divdif(X, Y)\n",
    "head = [\"$i$\", \"$x_i$\", \"$\\cos(x_i)$\", \"$D_i$\"]\n",
    "\n",
    "T = table_v(head, index, X, Y, D)\n",
    "HTML(T)"
   ]
  },
  {
   "cell_type": "markdown",
   "id": "24fceb34-7915-429e-9c2f-513999c85494",
   "metadata": {},
   "source": [
    "## Newton's Divided Difference Interpolation"
   ]
  },
  {
   "cell_type": "markdown",
   "id": "6f0c7946-9a86-48f3-a12f-0737e70ced03",
   "metadata": {},
   "source": [
    "$$\n",
    "P_n(x) = f(x_0) + (x-x_0)f[x_0,x_1] + (x-x_0)(x-x_1)f[x_0,x_1,x_2] +\\cdots +\n",
    "(x-x_0)(x-x_1)\\cdots (x-x_{n-1})f[x_0,x_1,\\ldots,x_n].\n",
    "$$\n",
    "\n",
    "Rewrite the above formula as\n",
    "$$\n",
    "P_n(x) = D_0+(x-x_0)D_1+(x-x_0)(x-x_1)D_2+\\cdots+(x-x_0)(x-x_1)\\cdots(x-x_{n-1})D_n\n",
    "$$\n",
    "with\n",
    "$$\n",
    "D_0=f(x_0), \\qquad D_i=f[x_0,\\ldots,x_i].\n",
    "$$\n",
    "\n",
    "Rewrite in the nested form\n",
    "$$\n",
    "P_n(x) = D_0 + (x-x_0)[D_1+(x-x_1)[D_2+\\cdots +(x-x_{n-2})[D_{n-1}+(x-x_{n-1})D_n]\\cdots].\n",
    "$$\n",
    "\n",
    "It can be evaluated using recurrence relations:\n",
    "\\begin{align}\n",
    "P_0(x) &= D_n,\\\\\n",
    "P_k(x) &= D_{n-k} + (x-x_{n-k})P_{k-1}(x), \\qquad k=1,2,\\ldots n.\n",
    "\\end{align}"
   ]
  },
  {
   "cell_type": "code",
   "execution_count": 8,
   "id": "48de17c7-51f7-4cc3-afa1-783c002c15a1",
   "metadata": {},
   "outputs": [],
   "source": [
    "def newton_divdif(X, Y, xp) -> float:\n",
    "    \"\"\"Evaluate the Newton divided difference at xp.\"\"\"\n",
    "    n = len(X) - 1\n",
    "    D = divdif(X, Y)\n",
    "    p = D[n]\n",
    "    for j in range(1, n+1):\n",
    "        p = D[n-j] + (xp-X[n-j])*p\n",
    "    return p"
   ]
  },
  {
   "cell_type": "code",
   "execution_count": 9,
   "id": "1e1478db-4360-4b4d-8d23-5e46c0463d97",
   "metadata": {},
   "outputs": [
    {
     "data": {
      "text/plain": [
       "0.9950040606679764"
      ]
     },
     "execution_count": 9,
     "metadata": {},
     "output_type": "execute_result"
    }
   ],
   "source": [
    "f = lambda x: cos(x)\n",
    "X = [0.0, 0.2, 0.4, 0.6, 0.8, 1.0, 1.2]\n",
    "Y = [f(j) for j in X]\n",
    "\n",
    "newton_divdif(X, Y, 0.1)"
   ]
  },
  {
   "cell_type": "code",
   "execution_count": 10,
   "id": "53c53eb5-ed29-4264-8cd9-c3a59ef70565",
   "metadata": {},
   "outputs": [
    {
     "data": {
      "text/plain": [
       "0.9950041652780258"
      ]
     },
     "execution_count": 10,
     "metadata": {},
     "output_type": "execute_result"
    }
   ],
   "source": [
    "f(0.1)"
   ]
  },
  {
   "cell_type": "code",
   "execution_count": 11,
   "id": "1fa8c6fa-864f-42c1-a85d-cfa0c93dd6cb",
   "metadata": {},
   "outputs": [
    {
     "data": {
      "text/plain": [
       "0.9553365188727757"
      ]
     },
     "execution_count": 11,
     "metadata": {},
     "output_type": "execute_result"
    }
   ],
   "source": [
    "newton_divdif(X, Y, 0.3)"
   ]
  },
  {
   "cell_type": "code",
   "execution_count": 12,
   "id": "c45b471e-7bc9-4562-a1e9-49a72a2a9bc5",
   "metadata": {},
   "outputs": [
    {
     "data": {
      "text/plain": [
       "0.955336489125606"
      ]
     },
     "execution_count": 12,
     "metadata": {},
     "output_type": "execute_result"
    }
   ],
   "source": [
    "f(0.3)"
   ]
  },
  {
   "cell_type": "code",
   "execution_count": 13,
   "id": "030f76f1-38da-413c-8d8f-e84bad771cb1",
   "metadata": {},
   "outputs": [
    {
     "data": {
      "text/plain": [
       "0.8775825447048117"
      ]
     },
     "execution_count": 13,
     "metadata": {},
     "output_type": "execute_result"
    }
   ],
   "source": [
    "newton_divdif(X, Y, 0.5)"
   ]
  },
  {
   "cell_type": "code",
   "execution_count": 14,
   "id": "7167f3a4-1fe4-4f17-a408-aa4394b8aefc",
   "metadata": {},
   "outputs": [
    {
     "data": {
      "text/plain": [
       "0.8775825618903728"
      ]
     },
     "execution_count": 14,
     "metadata": {},
     "output_type": "execute_result"
    }
   ],
   "source": [
    "f(0.5)"
   ]
  },
  {
   "cell_type": "code",
   "execution_count": 15,
   "id": "645c2512-d2d8-493d-800f-d88edd964423",
   "metadata": {},
   "outputs": [
    {
     "data": {
      "text/plain": [
       "810.0"
      ]
     },
     "execution_count": 15,
     "metadata": {},
     "output_type": "execute_result"
    }
   ],
   "source": [
    "X = [5, 7, 11, 13, 17]\n",
    "Y = [150, 392, 1452, 2366, 5202]\n",
    "xp = 9\n",
    "newton_divdif(X, Y, xp)"
   ]
  },
  {
   "cell_type": "markdown",
   "id": "0cfd3de2-2a00-44fc-9a37-9bb567aa0cc4",
   "metadata": {},
   "source": [
    "## Reference"
   ]
  },
  {
   "cell_type": "markdown",
   "id": "51d3eb6b-5e0b-45d9-839b-f70b391b43aa",
   "metadata": {},
   "source": [
    "- Numerical Methods in Engineering with Python 3 by Jann Kiusalaas. Chapter 3.2.\n",
    "- Elementary Numerical Analysis 3ed. Kendall Atkinson, Weimin Han. Chapter 3.2."
   ]
  }
 ],
 "metadata": {
  "kernelspec": {
   "display_name": "Python 3 (ipykernel)",
   "language": "python",
   "name": "python3"
  },
  "language_info": {
   "codemirror_mode": {
    "name": "ipython",
    "version": 3
   },
   "file_extension": ".py",
   "mimetype": "text/x-python",
   "name": "python",
   "nbconvert_exporter": "python",
   "pygments_lexer": "ipython3",
   "version": "3.11.6"
  }
 },
 "nbformat": 4,
 "nbformat_minor": 5
}
