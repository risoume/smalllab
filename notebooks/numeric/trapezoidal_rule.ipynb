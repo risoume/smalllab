{
 "cells": [
  {
   "cell_type": "markdown",
   "id": "7bb2c171-d920-4e73-b14b-ee272d703c0b",
   "metadata": {},
   "source": [
    "# Trapezoidal Rule"
   ]
  },
  {
   "cell_type": "code",
   "execution_count": 1,
   "id": "cb94dbf2-dc39-4564-a2ce-618562a1c1bd",
   "metadata": {},
   "outputs": [],
   "source": [
    "import lib_path\n",
    "from smalllab.table import *\n",
    "from IPython.display import HTML\n",
    "from math import *"
   ]
  },
  {
   "cell_type": "markdown",
   "id": "77d3a857-faf2-4807-904c-0a7d1f3c59e3",
   "metadata": {},
   "source": [
    "Divide $[a,b]$ into $n$ equal subintervals. The length of each subinterval is\n",
    "$$\n",
    "h = \\frac{b-a}{n}.\n",
    "$$\n",
    "Then, $\\int_a^b f$ can be approximated by\n",
    "$$\n",
    "T_n(f) = h \\left[\\frac{1}{2}f(x_0) + f(x_1)+f(x_2)+\\ldots+f(x_{n-1}) +\\frac{1}{2}f(x_n)\\right]\n",
    "$$\n",
    "where\n",
    "$$\n",
    "x_j = a+jh, \\qquad j=0,1,\\ldots,n.\n",
    "$$"
   ]
  },
  {
   "cell_type": "code",
   "execution_count": 2,
   "id": "9ec2e636-d004-45e2-b0c4-9d32c6ad0916",
   "metadata": {},
   "outputs": [],
   "source": [
    "def trapezoidal(f, a, b, n):\n",
    "    \"\"\"Evaluate the integral of f over [a, b] using trapezoidal rule\n",
    "    with n subdivision.\n",
    "    \"\"\"\n",
    "    if a > b:\n",
    "        raise ValueError(\"a must be less than b\")\n",
    "    if n < 1:\n",
    "        raise ValueError(\"n must be positive integer\")\n",
    "    \n",
    "    h = (b-a) / n\n",
    "    sum = (f(a) + f(b)) / 2\n",
    "    for j in range(1, n):\n",
    "        sum += f(a+j*h)\n",
    "    return sum * h"
   ]
  },
  {
   "cell_type": "code",
   "execution_count": 3,
   "id": "57ec2da0-a688-44f9-a1e6-0be86d691d59",
   "metadata": {},
   "outputs": [
    {
     "data": {
      "text/plain": [
       "9.045"
      ]
     },
     "execution_count": 3,
     "metadata": {},
     "output_type": "execute_result"
    }
   ],
   "source": [
    "f = lambda x: x**2\n",
    "trapezoidal(f, 0, 3, 10)"
   ]
  },
  {
   "cell_type": "code",
   "execution_count": 4,
   "id": "46c6b15a-307a-4603-becb-788f8a01f5ed",
   "metadata": {},
   "outputs": [],
   "source": [
    "F = lambda x: x**3 / 3"
   ]
  },
  {
   "cell_type": "code",
   "execution_count": 5,
   "id": "fa86823b-51fe-48e2-80ae-48e315b4c27b",
   "metadata": {},
   "outputs": [
    {
     "data": {
      "text/plain": [
       "9.0"
      ]
     },
     "execution_count": 5,
     "metadata": {},
     "output_type": "execute_result"
    }
   ],
   "source": [
    "F(3)-F(0)"
   ]
  },
  {
   "cell_type": "markdown",
   "id": "f62d850e-c69e-4e95-9409-ab65db57617e",
   "metadata": {},
   "source": [
    "Test these integrals:\n",
    "\n",
    "\\begin{align}\n",
    "\\int_0^1 e^{-x^2} dx &= 0.746824132812427\\\\\n",
    "\\int_0^4 \\frac{dx}{1+x^2} &= 1.32581766366803\\\\\n",
    "\\int_0^{2\\pi} \\frac{dx}{2+\\cos(x)} &= 3.62759872846844\n",
    "\\end{align}"
   ]
  },
  {
   "cell_type": "code",
   "execution_count": 6,
   "id": "025cfccf-218d-41e9-9288-cad445a3f4b0",
   "metadata": {},
   "outputs": [
    {
     "data": {
      "text/html": [
       "<table><tr><th>$n$</th><th>error</th></tr><tr><td>2</td><td>1.55e-02</td></tr><tr><td>4</td><td>3.84e-03</td></tr><tr><td>8</td><td>9.59e-04</td></tr><tr><td>16</td><td>2.40e-04</td></tr><tr><td>32</td><td>5.99e-05</td></tr></table>"
      ],
      "text/plain": [
       "<IPython.core.display.HTML object>"
      ]
     },
     "execution_count": 6,
     "metadata": {},
     "output_type": "execute_result"
    }
   ],
   "source": [
    "f1 = lambda x: exp(-x**2)\n",
    "a, b = 0, 1\n",
    "sol = 0.746824132812427\n",
    "\n",
    "ns = [2, 4, 8, 16, 32]\n",
    "trapezoid = [trapezoidal(f1, a, b, n) for n in ns]\n",
    "error = [f\"{sol-sol2:.2e}\" for sol2 in trapezoid]\n",
    "head = [\"$n$\", \"error\"]\n",
    "\n",
    "T = table_v(head, ns, error)\n",
    "HTML(T)"
   ]
  },
  {
   "cell_type": "code",
   "execution_count": 7,
   "id": "cb683881-5f0e-49fe-93a1-f83c674c9feb",
   "metadata": {},
   "outputs": [
    {
     "data": {
      "text/html": [
       "<table><tr><th>$n$</th><th>error</th></tr><tr><td>2</td><td>-1.33e-01</td></tr><tr><td>4</td><td>-3.59e-03</td></tr><tr><td>8</td><td>5.64e-04</td></tr><tr><td>16</td><td>1.44e-04</td></tr><tr><td>32</td><td>3.60e-05</td></tr></table>"
      ],
      "text/plain": [
       "<IPython.core.display.HTML object>"
      ]
     },
     "execution_count": 7,
     "metadata": {},
     "output_type": "execute_result"
    }
   ],
   "source": [
    "f2 = lambda x: 1/(1+x**2)\n",
    "a, b = 0, 4\n",
    "sol = 1.32581766366803\n",
    "\n",
    "ns = [2, 4, 8, 16, 32]\n",
    "trapezoid = [trapezoidal(f2, a, b, n) for n in ns]\n",
    "error = [f\"{sol-sol2:.2e}\" for sol2 in trapezoid]\n",
    "head = [\"$n$\", \"error\"]\n",
    "\n",
    "T = table_v(head, ns, error)\n",
    "HTML(T)"
   ]
  },
  {
   "cell_type": "code",
   "execution_count": 8,
   "id": "67afa077-8bcb-42dc-968e-3f63e123b107",
   "metadata": {},
   "outputs": [
    {
     "data": {
      "text/html": [
       "<table><tr><th>$n$</th><th>error</th></tr><tr><td>2</td><td>-5.61e-01</td></tr><tr><td>4</td><td>-3.76e-02</td></tr><tr><td>8</td><td>-1.93e-04</td></tr><tr><td>16</td><td>-5.12e-09</td></tr><tr><td>32</td><td>4.88e-15</td></tr></table>"
      ],
      "text/plain": [
       "<IPython.core.display.HTML object>"
      ]
     },
     "execution_count": 8,
     "metadata": {},
     "output_type": "execute_result"
    }
   ],
   "source": [
    "f3 = lambda x: 1/(2+cos(x))\n",
    "a, b = 0, 2*pi\n",
    "sol = 3.62759872846844\n",
    "\n",
    "ns = [2, 4, 8, 16, 32]\n",
    "trapezoid = [trapezoidal(f3, a, b, n) for n in ns]\n",
    "error = [f\"{sol-sol2:.2e}\" for sol2 in trapezoid]\n",
    "head = [\"$n$\", \"error\"]\n",
    "\n",
    "T = table_v(head, ns, error)\n",
    "HTML(T)"
   ]
  },
  {
   "cell_type": "markdown",
   "id": "99c366a9-2c31-43bf-a5e6-e2c54bd9197c",
   "metadata": {},
   "source": [
    "## Reference"
   ]
  },
  {
   "cell_type": "markdown",
   "id": "8937a50b-f11d-460e-8e57-3231b9e0ef69",
   "metadata": {},
   "source": [
    "- Elementary Numerical Analysis 3ed. Kendall Atkinson, Weimin Han. Chapter 5.1."
   ]
  }
 ],
 "metadata": {
  "kernelspec": {
   "display_name": "Python 3 (ipykernel)",
   "language": "python",
   "name": "python3"
  },
  "language_info": {
   "codemirror_mode": {
    "name": "ipython",
    "version": 3
   },
   "file_extension": ".py",
   "mimetype": "text/x-python",
   "name": "python",
   "nbconvert_exporter": "python",
   "pygments_lexer": "ipython3",
   "version": "3.11.6"
  }
 },
 "nbformat": 4,
 "nbformat_minor": 5
}
