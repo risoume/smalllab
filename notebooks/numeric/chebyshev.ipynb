{
 "cells": [
  {
   "cell_type": "markdown",
   "id": "975c4ee5-cf91-4082-a97e-edcb15e12788",
   "metadata": {},
   "source": [
    "# Chebyshev Polynomials"
   ]
  },
  {
   "cell_type": "code",
   "execution_count": 1,
   "id": "353c313c-e220-42ac-9616-f7f48b3fbf32",
   "metadata": {},
   "outputs": [],
   "source": [
    "import lib_path\n",
    "from smalllab.calculus import *\n",
    "from math import *"
   ]
  },
  {
   "cell_type": "markdown",
   "id": "4e485012-6795-4f19-855a-2db10c79b82f",
   "metadata": {},
   "source": [
    "For an integer $n\\geq 0$, define\n",
    "$$\n",
    "T_n(x) = \\cos(n\\cos^{-1}x), \\qquad -1\\leq x\\leq 1.\n",
    "$$\n",
    "This can be written as\n",
    "$$\n",
    "T_n(x) = \\cos(n\\theta)\n",
    "$$\n",
    "where\n",
    "$$\n",
    "\\theta=\\cos^{-1}(x), \\qquad 0\\leq \\theta \\leq \\pi.\n",
    "$$\n",
    "\n",
    "- $T_0(x)=1$\n",
    "- $T_1(x)=x$\n",
    "- $T_2(x)=2x^2-1$"
   ]
  },
  {
   "cell_type": "code",
   "execution_count": 2,
   "id": "56ca69b5-982a-4a8b-a6e0-9a6d65ab073c",
   "metadata": {},
   "outputs": [],
   "source": [
    "# Store the coefficients in list\n",
    "T0 = [1]\n",
    "T1 = [1, 0]\n",
    "T2 = [2, 0, -1]"
   ]
  },
  {
   "cell_type": "code",
   "execution_count": 3,
   "id": "1b128f12-7553-41c5-8fb0-cc6cbc0320ae",
   "metadata": {},
   "outputs": [
    {
     "name": "stdout",
     "output_type": "stream",
     "text": [
      "Help on function list2poly in module smalllab.calculus:\n",
      "\n",
      "list2poly(L: list[int | float]) -> collections.abc.Callable[[int | float], float]\n",
      "    Return a polynomial function with coefficient in L.\n",
      "    The coefficient of highest-degree term is the first item in list.\n",
      "    \n",
      "    Parameters\n",
      "    ----------\n",
      "    L : list of integer or float\n",
      "\n"
     ]
    }
   ],
   "source": [
    "help(list2poly)"
   ]
  },
  {
   "cell_type": "code",
   "execution_count": 4,
   "id": "476d4a2a-3942-4c51-b0de-f2a497380c0e",
   "metadata": {},
   "outputs": [
    {
     "data": {
      "text/plain": [
       "17.0"
      ]
     },
     "execution_count": 4,
     "metadata": {},
     "output_type": "execute_result"
    }
   ],
   "source": [
    "p = list2poly(T2)\n",
    "p(3)"
   ]
  },
  {
   "cell_type": "code",
   "execution_count": 5,
   "id": "88f2bbd8-91dc-408a-b7e9-2e388300d2e8",
   "metadata": {},
   "outputs": [
    {
     "data": {
      "text/plain": [
       "'2x^2-1'"
      ]
     },
     "execution_count": 5,
     "metadata": {},
     "output_type": "execute_result"
    }
   ],
   "source": [
    "list2polystr(T2)"
   ]
  },
  {
   "cell_type": "markdown",
   "id": "67c52c85-eb48-452c-815e-1bca802b65d1",
   "metadata": {},
   "source": [
    "### Triple Recursion Relation"
   ]
  },
  {
   "cell_type": "markdown",
   "id": "fb60de78-88c0-48c2-8e26-3769d44e8777",
   "metadata": {},
   "source": [
    "Using trigonometric addition formulas, we obtain\n",
    "$$\n",
    "T_{n+1}(x) = 2xT_n(x) - T_{n-1}(x), \\qquad n\\geq 1.\n",
    "$$"
   ]
  },
  {
   "cell_type": "code",
   "execution_count": 6,
   "id": "18a438aa-53bf-456a-8563-7f2bf359912c",
   "metadata": {},
   "outputs": [],
   "source": [
    "def chebyshev_coef(n: int) -> list:\n",
    "    \"\"\"Return a list containing coefficients of chebyshev polynomial of degree n.\"\"\"\n",
    "    if n < 0:\n",
    "        raise ValueError(\"argument must be nonnegative integer\")\n",
    "    if n == 0:\n",
    "        return [1]\n",
    "        \n",
    "    T0 = [1]\n",
    "    T1 = [1, 0]\n",
    "    for j in range(2, n+1):\n",
    "        T2 = [2*a for a in T1]\n",
    "        T2.append(0)\n",
    "        for k in range(j-1):\n",
    "            T2[2+k] -= T0[k]\n",
    "        T0 = T1.copy()\n",
    "        T1 = T2.copy()\n",
    "    return T1"
   ]
  },
  {
   "cell_type": "code",
   "execution_count": 7,
   "id": "ba709804-12be-4a58-b0b3-0a94946bfa2e",
   "metadata": {},
   "outputs": [
    {
     "name": "stdout",
     "output_type": "stream",
     "text": [
      "[1]\n",
      "1\n",
      "[1, 0]\n",
      "1x\n",
      "[2, 0, -1]\n",
      "2x^2-1\n",
      "[4, 0, -3, 0]\n",
      "4x^3-3x\n",
      "[8, 0, -8, 0, 1]\n",
      "8x^4-8x^2+1\n",
      "[16, 0, -20, 0, 5, 0]\n",
      "16x^5-20x^3+5x\n"
     ]
    }
   ],
   "source": [
    "for j in range(6):\n",
    "    L = chebyshev_coef(j)\n",
    "    print(L)\n",
    "    print(list2polystr(L))"
   ]
  },
  {
   "cell_type": "code",
   "execution_count": 8,
   "id": "75763e1a-4a81-4ea1-a649-9b7c36db5dcd",
   "metadata": {},
   "outputs": [
    {
     "name": "stdout",
     "output_type": "stream",
     "text": [
      "Help on function list2polystr in module smalllab.calculus:\n",
      "\n",
      "list2polystr(L_: list) -> str\n",
      "    Return a string representing polynomial function with coefficient in L_.\n",
      "    The coefficient of highest-degree term is the first item in list.\n",
      "    \n",
      "    Parameters\n",
      "    ----------\n",
      "    L_ : list of integer or float\n",
      "\n"
     ]
    }
   ],
   "source": [
    "help(list2polystr)"
   ]
  },
  {
   "cell_type": "code",
   "execution_count": 9,
   "id": "c6c656bb-dd67-4f92-b2a5-66cf663684a8",
   "metadata": {},
   "outputs": [],
   "source": [
    "# This will raise an exception\n",
    "#chebyshev_coef(-1)"
   ]
  },
  {
   "cell_type": "markdown",
   "id": "ce05df4d-50d1-4528-9760-3db82955775a",
   "metadata": {},
   "source": [
    "### Zeros"
   ]
  },
  {
   "cell_type": "markdown",
   "id": "c5387760-14d7-4bde-ab85-f33ae7db035b",
   "metadata": {},
   "source": [
    "The zeros of\n",
    "$$\n",
    "T_n(x) = \\cos(n\\theta), \\qquad x=\\cos(\\theta).\n",
    "$$\n",
    "are\n",
    "\\begin{align}\n",
    "n\\theta &= \\pm\\frac{\\pi}{2}, \\pm\\frac{3\\pi}{2}, \\pm\\frac{5\\pi}{2}, \\ldots\\\\\n",
    "\\theta &= \\pm\\frac{\\pi}{2n}, \\pm\\frac{3\\pi}{2n}, \\pm\\frac{5\\pi}{2n}, \\ldots\\\\\n",
    "x &= \\cos\\left(\\frac{\\pi}{2n}\\right), \\cos\\left(\\frac{3\\pi}{2n}\\right),\n",
    "\\cos\\left(\\frac{5\\pi}{2n}\\right), \\ldots\\\\\n",
    "\\end{align}\n",
    "\n",
    "The first $n$ values are distinct, but the successive values repeat the first $n$ values."
   ]
  },
  {
   "cell_type": "code",
   "execution_count": 10,
   "id": "251d2232-f34e-40ba-8b88-eab605c052e2",
   "metadata": {},
   "outputs": [
    {
     "data": {
      "text/plain": [
       "[0.9238795325112867,\n",
       " 0.38268343236508984,\n",
       " -0.3826834323650897,\n",
       " -0.9238795325112867]"
      ]
     },
     "execution_count": 10,
     "metadata": {},
     "output_type": "execute_result"
    }
   ],
   "source": [
    "n = 4\n",
    "zeros = [cos((2*j+1)*pi/(2*n)) for j in range(n)]\n",
    "zeros"
   ]
  },
  {
   "cell_type": "code",
   "execution_count": 11,
   "id": "e4b2493e-0e2d-421c-9edf-bc0ae7fde94a",
   "metadata": {},
   "outputs": [],
   "source": [
    "def chebyshev_zeros(n: int) -> list:\n",
    "    \"\"\"Return the zeros of chebyshev polynomial of degree n.\"\"\"\n",
    "    if n < 1:\n",
    "        raise ValueError(\"n must be positive integer\")\n",
    "    return [cos( (2*j+1)*pi/(2*n) ) for j in range(n)]"
   ]
  },
  {
   "cell_type": "code",
   "execution_count": 12,
   "id": "b67f6e3c-4bac-43bb-9759-010ea4f60f55",
   "metadata": {},
   "outputs": [
    {
     "data": {
      "text/plain": [
       "[0.9238795325112867,\n",
       " 0.38268343236508984,\n",
       " -0.3826834323650897,\n",
       " -0.9238795325112867]"
      ]
     },
     "execution_count": 12,
     "metadata": {},
     "output_type": "execute_result"
    }
   ],
   "source": [
    "chebyshev_zeros(4)"
   ]
  },
  {
   "cell_type": "code",
   "execution_count": 13,
   "id": "b3fb185c-4a6b-4fa7-99a7-b95f381d369b",
   "metadata": {},
   "outputs": [
    {
     "data": {
      "text/plain": [
       "[0.9510565162951535,\n",
       " 0.5877852522924731,\n",
       " 6.123233995736766e-17,\n",
       " -0.587785252292473,\n",
       " -0.9510565162951535]"
      ]
     },
     "execution_count": 13,
     "metadata": {},
     "output_type": "execute_result"
    }
   ],
   "source": [
    "chebyshev_zeros(5)"
   ]
  },
  {
   "cell_type": "code",
   "execution_count": 14,
   "id": "3b738d3d-783c-40f0-8f4f-29ee67ce48a7",
   "metadata": {},
   "outputs": [],
   "source": [
    "# This will raise an exception\n",
    "#chebyshev_zeros(0)"
   ]
  },
  {
   "cell_type": "markdown",
   "id": "95f19537-5a1b-4622-81fb-fbda97016cb4",
   "metadata": {},
   "source": [
    "## Reference"
   ]
  },
  {
   "cell_type": "markdown",
   "id": "79a26524-c9f7-485c-8b44-0b059a2e8f26",
   "metadata": {},
   "source": [
    "- Elementary Numerical Analysis 3ed. Kendall Atkinson, Weimin Han. Chapter 3.5."
   ]
  }
 ],
 "metadata": {
  "kernelspec": {
   "display_name": "Python 3 (ipykernel)",
   "language": "python",
   "name": "python3"
  },
  "language_info": {
   "codemirror_mode": {
    "name": "ipython",
    "version": 3
   },
   "file_extension": ".py",
   "mimetype": "text/x-python",
   "name": "python",
   "nbconvert_exporter": "python",
   "pygments_lexer": "ipython3",
   "version": "3.11.6"
  }
 },
 "nbformat": 4,
 "nbformat_minor": 5
}
