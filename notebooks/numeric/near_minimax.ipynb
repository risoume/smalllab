{
 "cells": [
  {
   "cell_type": "markdown",
   "id": "af88960d-7b89-4d72-852c-609b27c8107e",
   "metadata": {},
   "source": [
    "## Near Minimax Approximation Method"
   ]
  },
  {
   "cell_type": "code",
   "execution_count": 1,
   "id": "ceb5d310-2ed1-4330-881a-f53c73353a43",
   "metadata": {},
   "outputs": [],
   "source": [
    "import lib_path\n",
    "from smalllab.numeric import divdif, newton_divdif\n",
    "from smalllab.calculus import chebyshev_zeros\n",
    "from smalllab.table import *\n",
    "from IPython.display import HTML\n",
    "from math import *"
   ]
  },
  {
   "cell_type": "markdown",
   "id": "0cc59690-cb56-4b99-a04f-95d8a9624ade",
   "metadata": {},
   "source": [
    "The near-minimax approximation $c_n(x)$ of degree $n$ is obtained by interpolating to $f(x)$ at $n+1$ zeros of chebyshev polynomial $T_{n+1}$ on $[-1,1]$."
   ]
  },
  {
   "cell_type": "markdown",
   "id": "96611521-6afb-494c-a107-e934a9ec816a",
   "metadata": {},
   "source": [
    "### Case"
   ]
  },
  {
   "cell_type": "markdown",
   "id": "72697664-0848-4e82-9fe0-865741944701",
   "metadata": {},
   "source": [
    "Let $c_3(x)$ be the polynomial of degree $\\leq 3$ that interpolates $f(x)$ at $x_0,\\ldots,x_3$.\n",
    "We choose the interpolation points $x_0,\\ldots,x_3$ from the zeros of $T_4(x)$."
   ]
  },
  {
   "cell_type": "code",
   "execution_count": 2,
   "id": "77961c69-646b-4e30-b6b0-47820c06b407",
   "metadata": {},
   "outputs": [
    {
     "data": {
      "text/html": [
       "<table><tr><th>$i$</th><th>$x_i$</th><th>$f(x_i)$</th><th>$f[x_0,\\ldots,x_i]$</th></tr><tr><td>$0$</td><td>$0.9238795325112867$</td><td>$2.5190441714069842$</td><td>$2.5190441714069842$</td></tr><tr><td>$1$</td><td>$0.38268343236508984$</td><td>$1.4662138007571095$</td><td>$1.9453768612993823$</td></tr><tr><td>$2$</td><td>$-0.3826834323650897$</td><td>$0.682028773350537$</td><td>$0.7047419616447733$</td></tr><tr><td>$3$</td><td>$-0.9238795325112867$</td><td>$0.39697596864348$</td><td>$0.17517569404724118$</td></tr></table>"
      ],
      "text/plain": [
       "<IPython.core.display.HTML object>"
      ]
     },
     "execution_count": 2,
     "metadata": {},
     "output_type": "execute_result"
    }
   ],
   "source": [
    "f = lambda x: exp(x)\n",
    "n = 3 # degree of interpolation polynomial\n",
    "index = [j for j in range(n+1)]\n",
    "nodes = chebyshev_zeros(n+1)\n",
    "y_values = [f(x) for x in nodes]\n",
    "divs = divdif(nodes, y_values)\n",
    "head = [\"$i$\", \"$x_i$\", \"$f(x_i)$\", \"$f[x_0,\\ldots,x_i]$\"]\n",
    "\n",
    "T = table_v_tex(head, index, nodes, y_values, divs)\n",
    "HTML(T)"
   ]
  },
  {
   "cell_type": "code",
   "execution_count": 3,
   "id": "58a1328c-d550-47d4-a537-ab4b5d9c7f68",
   "metadata": {},
   "outputs": [
    {
     "name": "stdout",
     "output_type": "stream",
     "text": [
      "Help on function chebyshev_zeros in module smalllab.calculus:\n",
      "\n",
      "chebyshev_zeros(n: int) -> list[float]\n",
      "    Return the zeros of chebyshev polynomial of degree n.\n",
      "\n"
     ]
    }
   ],
   "source": [
    "help(chebyshev_zeros)"
   ]
  },
  {
   "cell_type": "code",
   "execution_count": 4,
   "id": "743a885a-3de7-4bd4-8060-8ed731fc91f2",
   "metadata": {},
   "outputs": [],
   "source": [
    "def near_minimax(f, n):\n",
    "    \"\"\"Construct the near minimax approximation of degree n\n",
    "    for a given function f on [-1,1] using newton divided difference.\n",
    "    \"\"\"\n",
    "    nodes = chebyshev_zeros(n+1)\n",
    "    y_values = [f(x) for x in nodes]\n",
    "    def near_minimax_(xp):\n",
    "        return newton_divdif(nodes, y_values, xp)\n",
    "    return near_minimax_"
   ]
  },
  {
   "cell_type": "code",
   "execution_count": 5,
   "id": "6d8695fb-6244-4118-8975-f89c1ed0faf7",
   "metadata": {},
   "outputs": [],
   "source": [
    "f = lambda x: exp(x)\n",
    "c = near_minimax(f, 3)"
   ]
  },
  {
   "cell_type": "code",
   "execution_count": 6,
   "id": "20a2000c-147b-4bc6-b449-5a7646297edb",
   "metadata": {},
   "outputs": [
    {
     "data": {
      "text/plain": [
       "1.100112822603882"
      ]
     },
     "execution_count": 6,
     "metadata": {},
     "output_type": "execute_result"
    }
   ],
   "source": [
    "c(0.1)"
   ]
  },
  {
   "cell_type": "code",
   "execution_count": 7,
   "id": "c8bbb3dd-8440-4348-93a7-724cb975acee",
   "metadata": {},
   "outputs": [
    {
     "data": {
      "text/plain": [
       "1.1051709180756477"
      ]
     },
     "execution_count": 7,
     "metadata": {},
     "output_type": "execute_result"
    }
   ],
   "source": [
    "f(0.1)"
   ]
  },
  {
   "cell_type": "markdown",
   "id": "7196bcef-ad09-4b5b-acfe-cd4112d2cfa2",
   "metadata": {},
   "source": [
    "## General Case"
   ]
  },
  {
   "cell_type": "markdown",
   "id": "e0a6a825-eb56-4ae3-aef0-fa151ed51f55",
   "metadata": {},
   "source": [
    "Suppose $g(t)$ is to be evaluated for $a\\leq t\\leq b$.\n",
    "Define a new function $f(x)$ on $[-1,1]$ by\n",
    "$$\n",
    "f(x) = g\\left[ \\frac{(b+a)+x(b-a)}{2} \\right].\n",
    "$$"
   ]
  },
  {
   "cell_type": "code",
   "execution_count": 8,
   "id": "68f90a0f-04ac-4f3e-864d-6ac0627b9e64",
   "metadata": {},
   "outputs": [],
   "source": [
    "g = lambda x: exp(x)\n",
    "a, b = 0, 1\n",
    "f = lambda x: g(((b+a)+x*(b-a))/2)"
   ]
  },
  {
   "cell_type": "code",
   "execution_count": 9,
   "id": "7c74bda2-0f19-459e-9fe4-7bb88d664fa6",
   "metadata": {},
   "outputs": [
    {
     "data": {
      "text/plain": [
       "1.0"
      ]
     },
     "execution_count": 9,
     "metadata": {},
     "output_type": "execute_result"
    }
   ],
   "source": [
    "f(-1)"
   ]
  },
  {
   "cell_type": "code",
   "execution_count": 10,
   "id": "f02c8c9f-125c-44f8-b7d6-a5bec55efe35",
   "metadata": {},
   "outputs": [
    {
     "data": {
      "text/plain": [
       "1.0"
      ]
     },
     "execution_count": 10,
     "metadata": {},
     "output_type": "execute_result"
    }
   ],
   "source": [
    "g(0)"
   ]
  },
  {
   "cell_type": "markdown",
   "id": "6caf7cd7-3574-4c17-b026-0a7eedc7835a",
   "metadata": {},
   "source": [
    "## Reference"
   ]
  },
  {
   "cell_type": "markdown",
   "id": "d8a8e09b-b94f-42fb-9d35-5da957ce919b",
   "metadata": {},
   "source": [
    "- Elementary Numerical Analysis 3ed. Kendall Atkinson, Weimin Han. Chapter 3.6."
   ]
  }
 ],
 "metadata": {
  "kernelspec": {
   "display_name": "Python 3 (ipykernel)",
   "language": "python",
   "name": "python3"
  },
  "language_info": {
   "codemirror_mode": {
    "name": "ipython",
    "version": 3
   },
   "file_extension": ".py",
   "mimetype": "text/x-python",
   "name": "python",
   "nbconvert_exporter": "python",
   "pygments_lexer": "ipython3",
   "version": "3.11.6"
  }
 },
 "nbformat": 4,
 "nbformat_minor": 5
}
