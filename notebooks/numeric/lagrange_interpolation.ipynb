{
 "cells": [
  {
   "cell_type": "markdown",
   "id": "a4501053-6e65-4fd3-a394-6156d55fffe4",
   "metadata": {},
   "source": [
    "# Lagrange Interpolation"
   ]
  },
  {
   "cell_type": "code",
   "execution_count": 1,
   "id": "384746b2-a828-4104-a53b-c7b47fd1b1f0",
   "metadata": {},
   "outputs": [],
   "source": [
    "from math import exp"
   ]
  },
  {
   "cell_type": "markdown",
   "id": "ecae3523-12ae-435c-ac96-7bdb5df687ba",
   "metadata": {},
   "source": [
    "Given $n+1$ data points $(x_0,y_0),\\ldots,(x_n,y_n)$ with all the $x_i$'s distinct.\n",
    "The interpolating polynomial of degree $\\leq n$ is given by\n",
    "$$\n",
    "P_n(x) = y_0L_0(x)+y_1L_1(x)+\\cdots+y_nL_n(x)\n",
    "$$\n",
    "where\n",
    "$$\n",
    "L_i(x) = \\frac{(x-x_0)\\cdots (x-x_{i-1})(x-x_{i+1})\\cdots (x-x_n)}\n",
    "{(x_i-x_0)\\cdots (x_i-x_{i-1})(x_i-x_{i+1})\\cdots (x_i-x_n)}\n",
    "$$\n",
    "for $i=0,1,\\ldots,n$.\n",
    "\n",
    "The polynomial $P_n$ satisfies\n",
    "$$\n",
    "P_n(x_j) = y_j, \\qquad j=0,1,\\ldots,n.\n",
    "$$"
   ]
  },
  {
   "cell_type": "code",
   "execution_count": 2,
   "id": "9ab315e0-3214-402e-8ece-e5a4fd3615e5",
   "metadata": {},
   "outputs": [],
   "source": [
    "def lagrange(X, Y, xp) -> float:\n",
    "    \"\"\"Given data points X and Y, and a value xp,\n",
    "    evaluate Pn(xp) where Pn is the Lagrange's polynomial.\n",
    "\n",
    "    Parameters\n",
    "    ----------\n",
    "    X, Y : list of int or float\n",
    "        All values in X must be distinct.\n",
    "        The length of X and Y must be equal and greater than 1.\n",
    "    xp : int or float\n",
    "    \"\"\"\n",
    "    if len(X) != len(Y):\n",
    "        raise ValueError(\"the length of X and Y must be equal\")\n",
    "    if len(X) < 2:\n",
    "        raise ValueError(\"the length of X and Y must be greater than 1\")\n",
    "    if len(set(X)) != len(X):\n",
    "        raise ValueError(\"all values in X must be distinct\")\n",
    "    \n",
    "    n = len(X)\n",
    "    yp = 0\n",
    "    for j in range(n):\n",
    "        p = 1\n",
    "        for k in range(n):\n",
    "            if j != k:\n",
    "                p *= (xp-X[k]) / (X[j]-X[k])\n",
    "        yp += Y[j] * p\n",
    "    return yp"
   ]
  },
  {
   "cell_type": "code",
   "execution_count": 3,
   "id": "d4429eb8-1797-4714-8590-244e3f41afd2",
   "metadata": {},
   "outputs": [
    {
     "data": {
      "text/plain": [
       "2.2841914"
      ]
     },
     "execution_count": 3,
     "metadata": {},
     "output_type": "execute_result"
    }
   ],
   "source": [
    "# 2 data points\n",
    "X = [0.82, 0.83]\n",
    "Y = [2.2705, 2.293319]\n",
    "xp = 0.826\n",
    "\n",
    "lagrange(X, Y, xp)"
   ]
  },
  {
   "cell_type": "code",
   "execution_count": 4,
   "id": "4ef2c74b-432f-4241-81f3-ff37541a72c1",
   "metadata": {},
   "outputs": [
    {
     "data": {
      "text/plain": [
       "2.2841639199999997"
      ]
     },
     "execution_count": 4,
     "metadata": {},
     "output_type": "execute_result"
    }
   ],
   "source": [
    "# 3 data points\n",
    "X = [0.82, 0.83, 0.84]\n",
    "Y = [2.2705, 2.293319, 2.316367]\n",
    "xp = 0.826\n",
    "\n",
    "lagrange(X, Y, xp)"
   ]
  },
  {
   "cell_type": "code",
   "execution_count": 5,
   "id": "c9cec3f4-5e2e-4382-bfee-229b16ced259",
   "metadata": {},
   "outputs": [
    {
     "data": {
      "text/plain": [
       "2.284163787415424"
      ]
     },
     "execution_count": 5,
     "metadata": {},
     "output_type": "execute_result"
    }
   ],
   "source": [
    "# true value\n",
    "exp(0.826)"
   ]
  },
  {
   "cell_type": "code",
   "execution_count": 6,
   "id": "3013d2d2-9251-49dd-9563-2036f22cae9f",
   "metadata": {},
   "outputs": [
    {
     "ename": "ValueError",
     "evalue": "the length of X and Y must be greater than 1",
     "output_type": "error",
     "traceback": [
      "\u001b[0;31m---------------------------------------------------------------------------\u001b[0m",
      "\u001b[0;31mValueError\u001b[0m                                Traceback (most recent call last)",
      "Cell \u001b[0;32mIn[6], line 6\u001b[0m\n\u001b[1;32m      3\u001b[0m Y \u001b[38;5;241m=\u001b[39m [\u001b[38;5;241m2.2705\u001b[39m]\n\u001b[1;32m      4\u001b[0m xp \u001b[38;5;241m=\u001b[39m \u001b[38;5;241m0.826\u001b[39m\n\u001b[0;32m----> 6\u001b[0m \u001b[43mlagrange\u001b[49m\u001b[43m(\u001b[49m\u001b[43mX\u001b[49m\u001b[43m,\u001b[49m\u001b[43m \u001b[49m\u001b[43mY\u001b[49m\u001b[43m,\u001b[49m\u001b[43m \u001b[49m\u001b[43mxp\u001b[49m\u001b[43m)\u001b[49m\n",
      "Cell \u001b[0;32mIn[2], line 15\u001b[0m, in \u001b[0;36mlagrange\u001b[0;34m(X, Y, xp)\u001b[0m\n\u001b[1;32m     13\u001b[0m     \u001b[38;5;28;01mraise\u001b[39;00m \u001b[38;5;167;01mValueError\u001b[39;00m(\u001b[38;5;124m\"\u001b[39m\u001b[38;5;124mthe length of X and Y must be equal\u001b[39m\u001b[38;5;124m\"\u001b[39m)\n\u001b[1;32m     14\u001b[0m \u001b[38;5;28;01mif\u001b[39;00m \u001b[38;5;28mlen\u001b[39m(X) \u001b[38;5;241m<\u001b[39m \u001b[38;5;241m2\u001b[39m:\n\u001b[0;32m---> 15\u001b[0m     \u001b[38;5;28;01mraise\u001b[39;00m \u001b[38;5;167;01mValueError\u001b[39;00m(\u001b[38;5;124m\"\u001b[39m\u001b[38;5;124mthe length of X and Y must be greater than 1\u001b[39m\u001b[38;5;124m\"\u001b[39m)\n\u001b[1;32m     16\u001b[0m \u001b[38;5;28;01mif\u001b[39;00m \u001b[38;5;28mlen\u001b[39m(\u001b[38;5;28mset\u001b[39m(X)) \u001b[38;5;241m!=\u001b[39m \u001b[38;5;28mlen\u001b[39m(X):\n\u001b[1;32m     17\u001b[0m     \u001b[38;5;28;01mraise\u001b[39;00m \u001b[38;5;167;01mValueError\u001b[39;00m(\u001b[38;5;124m\"\u001b[39m\u001b[38;5;124mall values in X must be distinct\u001b[39m\u001b[38;5;124m\"\u001b[39m)\n",
      "\u001b[0;31mValueError\u001b[0m: the length of X and Y must be greater than 1"
     ]
    }
   ],
   "source": [
    "# 1 data points\n",
    "X = [0.82]\n",
    "Y = [2.2705]\n",
    "xp = 0.826\n",
    "\n",
    "lagrange(X, Y, xp)"
   ]
  },
  {
   "cell_type": "code",
   "execution_count": 7,
   "id": "61a2ddc5-8ef8-4604-bdec-73e8ba94f85b",
   "metadata": {},
   "outputs": [
    {
     "ename": "ValueError",
     "evalue": "all values in X must be distinct",
     "output_type": "error",
     "traceback": [
      "\u001b[0;31m---------------------------------------------------------------------------\u001b[0m",
      "\u001b[0;31mValueError\u001b[0m                                Traceback (most recent call last)",
      "Cell \u001b[0;32mIn[7], line 6\u001b[0m\n\u001b[1;32m      3\u001b[0m Y \u001b[38;5;241m=\u001b[39m [\u001b[38;5;241m2.2705\u001b[39m, \u001b[38;5;241m2.293319\u001b[39m, \u001b[38;5;241m2.316367\u001b[39m]\n\u001b[1;32m      4\u001b[0m xp \u001b[38;5;241m=\u001b[39m \u001b[38;5;241m0.826\u001b[39m\n\u001b[0;32m----> 6\u001b[0m \u001b[43mlagrange\u001b[49m\u001b[43m(\u001b[49m\u001b[43mX\u001b[49m\u001b[43m,\u001b[49m\u001b[43m \u001b[49m\u001b[43mY\u001b[49m\u001b[43m,\u001b[49m\u001b[43m \u001b[49m\u001b[43mxp\u001b[49m\u001b[43m)\u001b[49m\n",
      "Cell \u001b[0;32mIn[2], line 17\u001b[0m, in \u001b[0;36mlagrange\u001b[0;34m(X, Y, xp)\u001b[0m\n\u001b[1;32m     15\u001b[0m     \u001b[38;5;28;01mraise\u001b[39;00m \u001b[38;5;167;01mValueError\u001b[39;00m(\u001b[38;5;124m\"\u001b[39m\u001b[38;5;124mthe length of X and Y must be greater than 1\u001b[39m\u001b[38;5;124m\"\u001b[39m)\n\u001b[1;32m     16\u001b[0m \u001b[38;5;28;01mif\u001b[39;00m \u001b[38;5;28mlen\u001b[39m(\u001b[38;5;28mset\u001b[39m(X)) \u001b[38;5;241m!=\u001b[39m \u001b[38;5;28mlen\u001b[39m(X):\n\u001b[0;32m---> 17\u001b[0m     \u001b[38;5;28;01mraise\u001b[39;00m \u001b[38;5;167;01mValueError\u001b[39;00m(\u001b[38;5;124m\"\u001b[39m\u001b[38;5;124mall values in X must be distinct\u001b[39m\u001b[38;5;124m\"\u001b[39m)\n\u001b[1;32m     19\u001b[0m n \u001b[38;5;241m=\u001b[39m \u001b[38;5;28mlen\u001b[39m(X)\n\u001b[1;32m     20\u001b[0m yp \u001b[38;5;241m=\u001b[39m \u001b[38;5;241m0\u001b[39m\n",
      "\u001b[0;31mValueError\u001b[0m: all values in X must be distinct"
     ]
    }
   ],
   "source": [
    "# duplicate X entries\n",
    "X = [0.82, 0.83, 0.83]\n",
    "Y = [2.2705, 2.293319, 2.316367]\n",
    "xp = 0.826\n",
    "\n",
    "lagrange(X, Y, xp)"
   ]
  },
  {
   "cell_type": "code",
   "execution_count": 8,
   "id": "36ba9aa1-a7fe-4736-b6c9-19365f94b0d4",
   "metadata": {},
   "outputs": [
    {
     "ename": "ValueError",
     "evalue": "the length of X and Y must be equal",
     "output_type": "error",
     "traceback": [
      "\u001b[0;31m---------------------------------------------------------------------------\u001b[0m",
      "\u001b[0;31mValueError\u001b[0m                                Traceback (most recent call last)",
      "Cell \u001b[0;32mIn[8], line 6\u001b[0m\n\u001b[1;32m      3\u001b[0m Y \u001b[38;5;241m=\u001b[39m [\u001b[38;5;241m2.2705\u001b[39m, \u001b[38;5;241m2.293319\u001b[39m, \u001b[38;5;241m2.316367\u001b[39m]\n\u001b[1;32m      4\u001b[0m xp \u001b[38;5;241m=\u001b[39m \u001b[38;5;241m0.826\u001b[39m\n\u001b[0;32m----> 6\u001b[0m \u001b[43mlagrange\u001b[49m\u001b[43m(\u001b[49m\u001b[43mX\u001b[49m\u001b[43m,\u001b[49m\u001b[43m \u001b[49m\u001b[43mY\u001b[49m\u001b[43m,\u001b[49m\u001b[43m \u001b[49m\u001b[43mxp\u001b[49m\u001b[43m)\u001b[49m\n",
      "Cell \u001b[0;32mIn[2], line 13\u001b[0m, in \u001b[0;36mlagrange\u001b[0;34m(X, Y, xp)\u001b[0m\n\u001b[1;32m      2\u001b[0m \u001b[38;5;250m\u001b[39m\u001b[38;5;124;03m\"\"\"Given data points X and Y, and a value xp,\u001b[39;00m\n\u001b[1;32m      3\u001b[0m \u001b[38;5;124;03mevaluate Pn(xp) where Pn is the Lagrange's polynomial.\u001b[39;00m\n\u001b[1;32m      4\u001b[0m \n\u001b[0;32m   (...)\u001b[0m\n\u001b[1;32m     10\u001b[0m \u001b[38;5;124;03mxp : int or float\u001b[39;00m\n\u001b[1;32m     11\u001b[0m \u001b[38;5;124;03m\"\"\"\u001b[39;00m\n\u001b[1;32m     12\u001b[0m \u001b[38;5;28;01mif\u001b[39;00m \u001b[38;5;28mlen\u001b[39m(X) \u001b[38;5;241m!=\u001b[39m \u001b[38;5;28mlen\u001b[39m(Y):\n\u001b[0;32m---> 13\u001b[0m     \u001b[38;5;28;01mraise\u001b[39;00m \u001b[38;5;167;01mValueError\u001b[39;00m(\u001b[38;5;124m\"\u001b[39m\u001b[38;5;124mthe length of X and Y must be equal\u001b[39m\u001b[38;5;124m\"\u001b[39m)\n\u001b[1;32m     14\u001b[0m \u001b[38;5;28;01mif\u001b[39;00m \u001b[38;5;28mlen\u001b[39m(X) \u001b[38;5;241m<\u001b[39m \u001b[38;5;241m2\u001b[39m:\n\u001b[1;32m     15\u001b[0m     \u001b[38;5;28;01mraise\u001b[39;00m \u001b[38;5;167;01mValueError\u001b[39;00m(\u001b[38;5;124m\"\u001b[39m\u001b[38;5;124mthe length of X and Y must be greater than 1\u001b[39m\u001b[38;5;124m\"\u001b[39m)\n",
      "\u001b[0;31mValueError\u001b[0m: the length of X and Y must be equal"
     ]
    }
   ],
   "source": [
    "# X and Y not equal size\n",
    "X = [0.82, 0.83, 0.84, 0.85]\n",
    "Y = [2.2705, 2.293319, 2.316367]\n",
    "xp = 0.826\n",
    "\n",
    "lagrange(X, Y, xp)"
   ]
  },
  {
   "cell_type": "markdown",
   "id": "97f5ee55-b018-4005-98be-784304019198",
   "metadata": {},
   "source": [
    "**Theorem**\n",
    "\n",
    "Let $n\\geq 0$, assume $x_0,\\ldots,x_n$ are $n+1$ distinct numbers,\n",
    "and let $y_0,\\ldots,y_n$ be $n+1$ given numbers, not necessarily distinct.\n",
    "Then, among all polynomial of degree $\\leq n$, there is exactly one polynomial $P_n(x)$ that satisfies\n",
    "$$\n",
    "P_n(x_i) = y_i, \\qquad i=0,1,\\ldots,n.\n",
    "$$"
   ]
  },
  {
   "cell_type": "markdown",
   "id": "28bb946e-199c-45f9-a2f0-2221da69a9b1",
   "metadata": {},
   "source": [
    "## Referensi"
   ]
  },
  {
   "cell_type": "markdown",
   "id": "0753cf5d-d9a0-4f24-98e3-af52a3ed351a",
   "metadata": {},
   "source": [
    "- Elementary Numerical Analysis 3ed. Kendall Atkinson, Weimin Han. Chapter 4.1."
   ]
  }
 ],
 "metadata": {
  "kernelspec": {
   "display_name": "Python 3 (ipykernel)",
   "language": "python",
   "name": "python3"
  },
  "language_info": {
   "codemirror_mode": {
    "name": "ipython",
    "version": 3
   },
   "file_extension": ".py",
   "mimetype": "text/x-python",
   "name": "python",
   "nbconvert_exporter": "python",
   "pygments_lexer": "ipython3",
   "version": "3.11.6"
  }
 },
 "nbformat": 4,
 "nbformat_minor": 5
}
